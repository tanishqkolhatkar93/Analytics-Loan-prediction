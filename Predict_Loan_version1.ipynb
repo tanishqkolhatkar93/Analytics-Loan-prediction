{
  "nbformat": 4,
  "nbformat_minor": 0,
  "metadata": {
    "colab": {
      "name": "Predict Loan_version1.ipynb",
      "provenance": [],
      "collapsed_sections": []
    },
    "kernelspec": {
      "name": "python3",
      "display_name": "Python 3"
    },
    "language_info": {
      "name": "python"
    }
  },
  "cells": [
    {
      "cell_type": "code",
      "execution_count": 1,
      "metadata": {
        "id": "W_71zRQ1wHg3"
      },
      "outputs": [],
      "source": [
        "import pandas as pd\n",
        "import numpy as np                    \n",
        "import seaborn as sns                  \n",
        "import matplotlib.pyplot as plt        "
      ]
    },
    {
      "cell_type": "code",
      "source": [
        "train=pd.read_csv(\"https://raw.githubusercontent.com/vaasu2002/Analytics-Vidhya/main/Loan%20Prediction/train_ctrUa4K.csv\")\n",
        "test=pd.read_csv(\"https://raw.githubusercontent.com/vaasu2002/Analytics-Vidhya/main/Loan%20Prediction/test_lAUu6dG.csv\")"
      ],
      "metadata": {
        "id": "yNznh2-84S-i"
      },
      "execution_count": 2,
      "outputs": []
    },
    {
      "cell_type": "code",
      "source": [
        "train.sample(10)"
      ],
      "metadata": {
        "colab": {
          "base_uri": "https://localhost:8080/",
          "height": 363
        },
        "id": "tcxQ9Vd44iR_",
        "outputId": "f8ad7936-6c7a-4f6b-a214-b47a64668b8c"
      },
      "execution_count": 3,
      "outputs": [
        {
          "output_type": "execute_result",
          "data": {
            "text/html": [
              "<div>\n",
              "<style scoped>\n",
              "    .dataframe tbody tr th:only-of-type {\n",
              "        vertical-align: middle;\n",
              "    }\n",
              "\n",
              "    .dataframe tbody tr th {\n",
              "        vertical-align: top;\n",
              "    }\n",
              "\n",
              "    .dataframe thead th {\n",
              "        text-align: right;\n",
              "    }\n",
              "</style>\n",
              "<table border=\"1\" class=\"dataframe\">\n",
              "  <thead>\n",
              "    <tr style=\"text-align: right;\">\n",
              "      <th></th>\n",
              "      <th>Loan_ID</th>\n",
              "      <th>Gender</th>\n",
              "      <th>Married</th>\n",
              "      <th>Dependents</th>\n",
              "      <th>Education</th>\n",
              "      <th>Self_Employed</th>\n",
              "      <th>ApplicantIncome</th>\n",
              "      <th>CoapplicantIncome</th>\n",
              "      <th>LoanAmount</th>\n",
              "      <th>Loan_Amount_Term</th>\n",
              "      <th>Credit_History</th>\n",
              "      <th>Property_Area</th>\n",
              "      <th>Loan_Status</th>\n",
              "    </tr>\n",
              "  </thead>\n",
              "  <tbody>\n",
              "    <tr>\n",
              "      <th>248</th>\n",
              "      <td>LP001824</td>\n",
              "      <td>Male</td>\n",
              "      <td>Yes</td>\n",
              "      <td>1</td>\n",
              "      <td>Graduate</td>\n",
              "      <td>No</td>\n",
              "      <td>2882</td>\n",
              "      <td>1843.0</td>\n",
              "      <td>123.0</td>\n",
              "      <td>480.0</td>\n",
              "      <td>1.0</td>\n",
              "      <td>Semiurban</td>\n",
              "      <td>Y</td>\n",
              "    </tr>\n",
              "    <tr>\n",
              "      <th>390</th>\n",
              "      <td>LP002255</td>\n",
              "      <td>Male</td>\n",
              "      <td>No</td>\n",
              "      <td>3+</td>\n",
              "      <td>Graduate</td>\n",
              "      <td>No</td>\n",
              "      <td>9167</td>\n",
              "      <td>0.0</td>\n",
              "      <td>185.0</td>\n",
              "      <td>360.0</td>\n",
              "      <td>1.0</td>\n",
              "      <td>Rural</td>\n",
              "      <td>Y</td>\n",
              "    </tr>\n",
              "    <tr>\n",
              "      <th>480</th>\n",
              "      <td>LP002534</td>\n",
              "      <td>Female</td>\n",
              "      <td>No</td>\n",
              "      <td>0</td>\n",
              "      <td>Not Graduate</td>\n",
              "      <td>No</td>\n",
              "      <td>4350</td>\n",
              "      <td>0.0</td>\n",
              "      <td>154.0</td>\n",
              "      <td>360.0</td>\n",
              "      <td>1.0</td>\n",
              "      <td>Rural</td>\n",
              "      <td>Y</td>\n",
              "    </tr>\n",
              "    <tr>\n",
              "      <th>550</th>\n",
              "      <td>LP002778</td>\n",
              "      <td>Male</td>\n",
              "      <td>Yes</td>\n",
              "      <td>2</td>\n",
              "      <td>Graduate</td>\n",
              "      <td>Yes</td>\n",
              "      <td>6633</td>\n",
              "      <td>0.0</td>\n",
              "      <td>NaN</td>\n",
              "      <td>360.0</td>\n",
              "      <td>0.0</td>\n",
              "      <td>Rural</td>\n",
              "      <td>N</td>\n",
              "    </tr>\n",
              "    <tr>\n",
              "      <th>351</th>\n",
              "      <td>LP002140</td>\n",
              "      <td>Male</td>\n",
              "      <td>No</td>\n",
              "      <td>0</td>\n",
              "      <td>Graduate</td>\n",
              "      <td>No</td>\n",
              "      <td>8750</td>\n",
              "      <td>4167.0</td>\n",
              "      <td>308.0</td>\n",
              "      <td>360.0</td>\n",
              "      <td>1.0</td>\n",
              "      <td>Rural</td>\n",
              "      <td>N</td>\n",
              "    </tr>\n",
              "    <tr>\n",
              "      <th>291</th>\n",
              "      <td>LP001938</td>\n",
              "      <td>Male</td>\n",
              "      <td>Yes</td>\n",
              "      <td>2</td>\n",
              "      <td>Graduate</td>\n",
              "      <td>No</td>\n",
              "      <td>4400</td>\n",
              "      <td>0.0</td>\n",
              "      <td>127.0</td>\n",
              "      <td>360.0</td>\n",
              "      <td>0.0</td>\n",
              "      <td>Semiurban</td>\n",
              "      <td>N</td>\n",
              "    </tr>\n",
              "    <tr>\n",
              "      <th>92</th>\n",
              "      <td>LP001319</td>\n",
              "      <td>Male</td>\n",
              "      <td>Yes</td>\n",
              "      <td>2</td>\n",
              "      <td>Not Graduate</td>\n",
              "      <td>No</td>\n",
              "      <td>3273</td>\n",
              "      <td>1820.0</td>\n",
              "      <td>81.0</td>\n",
              "      <td>360.0</td>\n",
              "      <td>1.0</td>\n",
              "      <td>Urban</td>\n",
              "      <td>Y</td>\n",
              "    </tr>\n",
              "    <tr>\n",
              "      <th>382</th>\n",
              "      <td>LP002231</td>\n",
              "      <td>Female</td>\n",
              "      <td>No</td>\n",
              "      <td>0</td>\n",
              "      <td>Graduate</td>\n",
              "      <td>No</td>\n",
              "      <td>6000</td>\n",
              "      <td>0.0</td>\n",
              "      <td>156.0</td>\n",
              "      <td>360.0</td>\n",
              "      <td>1.0</td>\n",
              "      <td>Urban</td>\n",
              "      <td>Y</td>\n",
              "    </tr>\n",
              "    <tr>\n",
              "      <th>444</th>\n",
              "      <td>LP002424</td>\n",
              "      <td>Male</td>\n",
              "      <td>Yes</td>\n",
              "      <td>0</td>\n",
              "      <td>Graduate</td>\n",
              "      <td>No</td>\n",
              "      <td>7333</td>\n",
              "      <td>8333.0</td>\n",
              "      <td>175.0</td>\n",
              "      <td>300.0</td>\n",
              "      <td>NaN</td>\n",
              "      <td>Rural</td>\n",
              "      <td>Y</td>\n",
              "    </tr>\n",
              "    <tr>\n",
              "      <th>531</th>\n",
              "      <td>LP002720</td>\n",
              "      <td>Male</td>\n",
              "      <td>Yes</td>\n",
              "      <td>3+</td>\n",
              "      <td>Graduate</td>\n",
              "      <td>No</td>\n",
              "      <td>4281</td>\n",
              "      <td>0.0</td>\n",
              "      <td>100.0</td>\n",
              "      <td>360.0</td>\n",
              "      <td>1.0</td>\n",
              "      <td>Urban</td>\n",
              "      <td>Y</td>\n",
              "    </tr>\n",
              "  </tbody>\n",
              "</table>\n",
              "</div>"
            ],
            "text/plain": [
              "      Loan_ID  Gender Married  ... Credit_History Property_Area Loan_Status\n",
              "248  LP001824    Male     Yes  ...            1.0     Semiurban           Y\n",
              "390  LP002255    Male      No  ...            1.0         Rural           Y\n",
              "480  LP002534  Female      No  ...            1.0         Rural           Y\n",
              "550  LP002778    Male     Yes  ...            0.0         Rural           N\n",
              "351  LP002140    Male      No  ...            1.0         Rural           N\n",
              "291  LP001938    Male     Yes  ...            0.0     Semiurban           N\n",
              "92   LP001319    Male     Yes  ...            1.0         Urban           Y\n",
              "382  LP002231  Female      No  ...            1.0         Urban           Y\n",
              "444  LP002424    Male     Yes  ...            NaN         Rural           Y\n",
              "531  LP002720    Male     Yes  ...            1.0         Urban           Y\n",
              "\n",
              "[10 rows x 13 columns]"
            ]
          },
          "metadata": {},
          "execution_count": 3
        }
      ]
    },
    {
      "cell_type": "code",
      "source": [
        "test.sample(10)"
      ],
      "metadata": {
        "colab": {
          "base_uri": "https://localhost:8080/",
          "height": 363
        },
        "id": "wdSAwb5E4jQa",
        "outputId": "803c6037-641f-4778-984d-6fe2b921c0c4"
      },
      "execution_count": 4,
      "outputs": [
        {
          "output_type": "execute_result",
          "data": {
            "text/html": [
              "<div>\n",
              "<style scoped>\n",
              "    .dataframe tbody tr th:only-of-type {\n",
              "        vertical-align: middle;\n",
              "    }\n",
              "\n",
              "    .dataframe tbody tr th {\n",
              "        vertical-align: top;\n",
              "    }\n",
              "\n",
              "    .dataframe thead th {\n",
              "        text-align: right;\n",
              "    }\n",
              "</style>\n",
              "<table border=\"1\" class=\"dataframe\">\n",
              "  <thead>\n",
              "    <tr style=\"text-align: right;\">\n",
              "      <th></th>\n",
              "      <th>Loan_ID</th>\n",
              "      <th>Gender</th>\n",
              "      <th>Married</th>\n",
              "      <th>Dependents</th>\n",
              "      <th>Education</th>\n",
              "      <th>Self_Employed</th>\n",
              "      <th>ApplicantIncome</th>\n",
              "      <th>CoapplicantIncome</th>\n",
              "      <th>LoanAmount</th>\n",
              "      <th>Loan_Amount_Term</th>\n",
              "      <th>Credit_History</th>\n",
              "      <th>Property_Area</th>\n",
              "    </tr>\n",
              "  </thead>\n",
              "  <tbody>\n",
              "    <tr>\n",
              "      <th>175</th>\n",
              "      <td>LP001999</td>\n",
              "      <td>Male</td>\n",
              "      <td>Yes</td>\n",
              "      <td>2</td>\n",
              "      <td>Graduate</td>\n",
              "      <td>NaN</td>\n",
              "      <td>4912</td>\n",
              "      <td>4614</td>\n",
              "      <td>160.0</td>\n",
              "      <td>360.0</td>\n",
              "      <td>1.0</td>\n",
              "      <td>Rural</td>\n",
              "    </tr>\n",
              "    <tr>\n",
              "      <th>130</th>\n",
              "      <td>LP001703</td>\n",
              "      <td>Male</td>\n",
              "      <td>Yes</td>\n",
              "      <td>0</td>\n",
              "      <td>Graduate</td>\n",
              "      <td>No</td>\n",
              "      <td>3333</td>\n",
              "      <td>1270</td>\n",
              "      <td>124.0</td>\n",
              "      <td>360.0</td>\n",
              "      <td>1.0</td>\n",
              "      <td>Urban</td>\n",
              "    </tr>\n",
              "    <tr>\n",
              "      <th>8</th>\n",
              "      <td>LP001059</td>\n",
              "      <td>Male</td>\n",
              "      <td>Yes</td>\n",
              "      <td>2</td>\n",
              "      <td>Graduate</td>\n",
              "      <td>NaN</td>\n",
              "      <td>13633</td>\n",
              "      <td>0</td>\n",
              "      <td>280.0</td>\n",
              "      <td>240.0</td>\n",
              "      <td>1.0</td>\n",
              "      <td>Urban</td>\n",
              "    </tr>\n",
              "    <tr>\n",
              "      <th>158</th>\n",
              "      <td>LP001878</td>\n",
              "      <td>Male</td>\n",
              "      <td>No</td>\n",
              "      <td>1</td>\n",
              "      <td>Graduate</td>\n",
              "      <td>No</td>\n",
              "      <td>5823</td>\n",
              "      <td>2529</td>\n",
              "      <td>187.0</td>\n",
              "      <td>360.0</td>\n",
              "      <td>1.0</td>\n",
              "      <td>Semiurban</td>\n",
              "    </tr>\n",
              "    <tr>\n",
              "      <th>119</th>\n",
              "      <td>LP001622</td>\n",
              "      <td>Male</td>\n",
              "      <td>Yes</td>\n",
              "      <td>2</td>\n",
              "      <td>Graduate</td>\n",
              "      <td>No</td>\n",
              "      <td>724</td>\n",
              "      <td>3510</td>\n",
              "      <td>213.0</td>\n",
              "      <td>360.0</td>\n",
              "      <td>0.0</td>\n",
              "      <td>Rural</td>\n",
              "    </tr>\n",
              "    <tr>\n",
              "      <th>285</th>\n",
              "      <td>LP002572</td>\n",
              "      <td>Male</td>\n",
              "      <td>Yes</td>\n",
              "      <td>1</td>\n",
              "      <td>Graduate</td>\n",
              "      <td>NaN</td>\n",
              "      <td>8750</td>\n",
              "      <td>0</td>\n",
              "      <td>297.0</td>\n",
              "      <td>360.0</td>\n",
              "      <td>1.0</td>\n",
              "      <td>Urban</td>\n",
              "    </tr>\n",
              "    <tr>\n",
              "      <th>173</th>\n",
              "      <td>LP001979</td>\n",
              "      <td>Male</td>\n",
              "      <td>No</td>\n",
              "      <td>0</td>\n",
              "      <td>Graduate</td>\n",
              "      <td>No</td>\n",
              "      <td>3017</td>\n",
              "      <td>2845</td>\n",
              "      <td>159.0</td>\n",
              "      <td>180.0</td>\n",
              "      <td>0.0</td>\n",
              "      <td>Urban</td>\n",
              "    </tr>\n",
              "    <tr>\n",
              "      <th>273</th>\n",
              "      <td>LP002495</td>\n",
              "      <td>Male</td>\n",
              "      <td>Yes</td>\n",
              "      <td>2</td>\n",
              "      <td>Graduate</td>\n",
              "      <td>No</td>\n",
              "      <td>5667</td>\n",
              "      <td>440</td>\n",
              "      <td>130.0</td>\n",
              "      <td>360.0</td>\n",
              "      <td>0.0</td>\n",
              "      <td>Semiurban</td>\n",
              "    </tr>\n",
              "    <tr>\n",
              "      <th>18</th>\n",
              "      <td>LP001108</td>\n",
              "      <td>Male</td>\n",
              "      <td>Yes</td>\n",
              "      <td>0</td>\n",
              "      <td>Graduate</td>\n",
              "      <td>No</td>\n",
              "      <td>9226</td>\n",
              "      <td>7916</td>\n",
              "      <td>300.0</td>\n",
              "      <td>360.0</td>\n",
              "      <td>1.0</td>\n",
              "      <td>Urban</td>\n",
              "    </tr>\n",
              "    <tr>\n",
              "      <th>281</th>\n",
              "      <td>LP002561</td>\n",
              "      <td>Male</td>\n",
              "      <td>Yes</td>\n",
              "      <td>0</td>\n",
              "      <td>Graduate</td>\n",
              "      <td>No</td>\n",
              "      <td>5000</td>\n",
              "      <td>0</td>\n",
              "      <td>126.0</td>\n",
              "      <td>360.0</td>\n",
              "      <td>1.0</td>\n",
              "      <td>Rural</td>\n",
              "    </tr>\n",
              "  </tbody>\n",
              "</table>\n",
              "</div>"
            ],
            "text/plain": [
              "      Loan_ID Gender Married  ... Loan_Amount_Term Credit_History Property_Area\n",
              "175  LP001999   Male     Yes  ...            360.0            1.0         Rural\n",
              "130  LP001703   Male     Yes  ...            360.0            1.0         Urban\n",
              "8    LP001059   Male     Yes  ...            240.0            1.0         Urban\n",
              "158  LP001878   Male      No  ...            360.0            1.0     Semiurban\n",
              "119  LP001622   Male     Yes  ...            360.0            0.0         Rural\n",
              "285  LP002572   Male     Yes  ...            360.0            1.0         Urban\n",
              "173  LP001979   Male      No  ...            180.0            0.0         Urban\n",
              "273  LP002495   Male     Yes  ...            360.0            0.0     Semiurban\n",
              "18   LP001108   Male     Yes  ...            360.0            1.0         Urban\n",
              "281  LP002561   Male     Yes  ...            360.0            1.0         Rural\n",
              "\n",
              "[10 rows x 12 columns]"
            ]
          },
          "metadata": {},
          "execution_count": 4
        }
      ]
    },
    {
      "cell_type": "code",
      "source": [
        "train.columns"
      ],
      "metadata": {
        "colab": {
          "base_uri": "https://localhost:8080/"
        },
        "id": "Gd7saDgj4l90",
        "outputId": "2e7c4349-6f09-483c-ede2-a055dd3d4042"
      },
      "execution_count": 5,
      "outputs": [
        {
          "output_type": "execute_result",
          "data": {
            "text/plain": [
              "Index(['Loan_ID', 'Gender', 'Married', 'Dependents', 'Education',\n",
              "       'Self_Employed', 'ApplicantIncome', 'CoapplicantIncome', 'LoanAmount',\n",
              "       'Loan_Amount_Term', 'Credit_History', 'Property_Area', 'Loan_Status'],\n",
              "      dtype='object')"
            ]
          },
          "metadata": {},
          "execution_count": 5
        }
      ]
    },
    {
      "cell_type": "code",
      "source": [
        "print(f\"train data length: {len(train)}\")\n",
        "print(f\"test data length: {len(test)}\")"
      ],
      "metadata": {
        "colab": {
          "base_uri": "https://localhost:8080/"
        },
        "id": "HrjPuurL4yTB",
        "outputId": "bcc7d380-d65d-4418-98f1-6f8b88103e53"
      },
      "execution_count": 6,
      "outputs": [
        {
          "output_type": "stream",
          "name": "stdout",
          "text": [
            "train data length: 614\n",
            "test data length: 367\n"
          ]
        }
      ]
    },
    {
      "cell_type": "code",
      "source": [
        "for i in train.columns:\n",
        "  print(f\"{i} : {len(train[i].unique())}\")"
      ],
      "metadata": {
        "colab": {
          "base_uri": "https://localhost:8080/"
        },
        "id": "FkHlW5rU4yVQ",
        "outputId": "5eb02ab7-ab04-4238-84bc-4b38a5148f02"
      },
      "execution_count": 7,
      "outputs": [
        {
          "output_type": "stream",
          "name": "stdout",
          "text": [
            "Loan_ID : 614\n",
            "Gender : 3\n",
            "Married : 3\n",
            "Dependents : 5\n",
            "Education : 2\n",
            "Self_Employed : 3\n",
            "ApplicantIncome : 505\n",
            "CoapplicantIncome : 287\n",
            "LoanAmount : 204\n",
            "Loan_Amount_Term : 11\n",
            "Credit_History : 3\n",
            "Property_Area : 3\n",
            "Loan_Status : 2\n"
          ]
        }
      ]
    },
    {
      "cell_type": "code",
      "source": [
        "train.drop('Loan_ID',axis = 1,inplace = True)\n",
        "test.drop('Loan_ID',axis = 1,inplace = True)"
      ],
      "metadata": {
        "id": "fTGcDKxD46Ny"
      },
      "execution_count": 8,
      "outputs": []
    },
    {
      "cell_type": "code",
      "source": [
        "train.info()"
      ],
      "metadata": {
        "colab": {
          "base_uri": "https://localhost:8080/"
        },
        "id": "wEWXc9SJ64Wj",
        "outputId": "5e59928b-50ce-4b3f-aa71-e9691967f5d5"
      },
      "execution_count": 9,
      "outputs": [
        {
          "output_type": "stream",
          "name": "stdout",
          "text": [
            "<class 'pandas.core.frame.DataFrame'>\n",
            "RangeIndex: 614 entries, 0 to 613\n",
            "Data columns (total 12 columns):\n",
            " #   Column             Non-Null Count  Dtype  \n",
            "---  ------             --------------  -----  \n",
            " 0   Gender             601 non-null    object \n",
            " 1   Married            611 non-null    object \n",
            " 2   Dependents         599 non-null    object \n",
            " 3   Education          614 non-null    object \n",
            " 4   Self_Employed      582 non-null    object \n",
            " 5   ApplicantIncome    614 non-null    int64  \n",
            " 6   CoapplicantIncome  614 non-null    float64\n",
            " 7   LoanAmount         592 non-null    float64\n",
            " 8   Loan_Amount_Term   600 non-null    float64\n",
            " 9   Credit_History     564 non-null    float64\n",
            " 10  Property_Area      614 non-null    object \n",
            " 11  Loan_Status        614 non-null    object \n",
            "dtypes: float64(4), int64(1), object(7)\n",
            "memory usage: 57.7+ KB\n"
          ]
        }
      ]
    },
    {
      "cell_type": "code",
      "source": [
        "test.isnull().sum()"
      ],
      "metadata": {
        "colab": {
          "base_uri": "https://localhost:8080/"
        },
        "id": "gbZBVuQ1-E-N",
        "outputId": "e895dc56-33bd-455d-c864-c8f7239994e1"
      },
      "execution_count": 10,
      "outputs": [
        {
          "output_type": "execute_result",
          "data": {
            "text/plain": [
              "Gender               11\n",
              "Married               0\n",
              "Dependents           10\n",
              "Education             0\n",
              "Self_Employed        23\n",
              "ApplicantIncome       0\n",
              "CoapplicantIncome     0\n",
              "LoanAmount            5\n",
              "Loan_Amount_Term      6\n",
              "Credit_History       29\n",
              "Property_Area         0\n",
              "dtype: int64"
            ]
          },
          "metadata": {},
          "execution_count": 10
        }
      ]
    },
    {
      "cell_type": "code",
      "source": [
        "train.isnull().sum()"
      ],
      "metadata": {
        "colab": {
          "base_uri": "https://localhost:8080/"
        },
        "id": "l5eMc8NM-AD_",
        "outputId": "4a6d5720-411d-42e0-f4ff-500aa4b5ceae"
      },
      "execution_count": 11,
      "outputs": [
        {
          "output_type": "execute_result",
          "data": {
            "text/plain": [
              "Gender               13\n",
              "Married               3\n",
              "Dependents           15\n",
              "Education             0\n",
              "Self_Employed        32\n",
              "ApplicantIncome       0\n",
              "CoapplicantIncome     0\n",
              "LoanAmount           22\n",
              "Loan_Amount_Term     14\n",
              "Credit_History       50\n",
              "Property_Area         0\n",
              "Loan_Status           0\n",
              "dtype: int64"
            ]
          },
          "metadata": {},
          "execution_count": 11
        }
      ]
    },
    {
      "cell_type": "code",
      "source": [
        "categorial_list = []\n",
        "var_list = []\n",
        "for x in train.columns:\n",
        "  if(train[x].dtype=='object'):\n",
        "    categorial_list.append(x)\n",
        "  elif(train[x].dtype=='int64'):\n",
        "    var_list.append(x)\n",
        "  elif(train[x].dtype=='float64'):\n",
        "    var_list.append(x)"
      ],
      "metadata": {
        "id": "CWl79bDU68XM"
      },
      "execution_count": 12,
      "outputs": []
    },
    {
      "cell_type": "code",
      "source": [
        "print(f\"categorial list:- {categorial_list}\")\n",
        "print(f\"variable list:- {var_list}\")"
      ],
      "metadata": {
        "colab": {
          "base_uri": "https://localhost:8080/"
        },
        "id": "JEQn1NOR7GWo",
        "outputId": "a07d239b-c201-4d7e-cc2a-bcb069d4a3b3"
      },
      "execution_count": 13,
      "outputs": [
        {
          "output_type": "stream",
          "name": "stdout",
          "text": [
            "categorial list:- ['Gender', 'Married', 'Dependents', 'Education', 'Self_Employed', 'Property_Area', 'Loan_Status']\n",
            "variable list:- ['ApplicantIncome', 'CoapplicantIncome', 'LoanAmount', 'Loan_Amount_Term', 'Credit_History']\n"
          ]
        }
      ]
    },
    {
      "cell_type": "code",
      "source": [
        "train['Gender'].value_counts()"
      ],
      "metadata": {
        "colab": {
          "base_uri": "https://localhost:8080/"
        },
        "id": "i9CiJJRv7R_T",
        "outputId": "9c330874-0337-4c64-b76e-6bed7b1e61cc"
      },
      "execution_count": 14,
      "outputs": [
        {
          "output_type": "execute_result",
          "data": {
            "text/plain": [
              "Male      489\n",
              "Female    112\n",
              "Name: Gender, dtype: int64"
            ]
          },
          "metadata": {},
          "execution_count": 14
        }
      ]
    },
    {
      "cell_type": "code",
      "source": [
        "test['Gender'].value_counts()"
      ],
      "metadata": {
        "colab": {
          "base_uri": "https://localhost:8080/"
        },
        "id": "0E72dazC-LD8",
        "outputId": "8ab09dbf-bef2-4c44-d071-cbd5f7c902b2"
      },
      "execution_count": 15,
      "outputs": [
        {
          "output_type": "execute_result",
          "data": {
            "text/plain": [
              "Male      286\n",
              "Female     70\n",
              "Name: Gender, dtype: int64"
            ]
          },
          "metadata": {},
          "execution_count": 15
        }
      ]
    },
    {
      "cell_type": "code",
      "source": [
        "train[\"Gender\"].fillna(\"Male\", inplace = True)"
      ],
      "metadata": {
        "id": "y3W9idFA-MEZ"
      },
      "execution_count": 16,
      "outputs": []
    },
    {
      "cell_type": "code",
      "source": [
        "test[\"Gender\"].fillna(\"Male\", inplace = True)"
      ],
      "metadata": {
        "id": "yUNLI5wJ_o7q"
      },
      "execution_count": 17,
      "outputs": []
    },
    {
      "cell_type": "code",
      "source": [
        "d={'Male':0, 'Female':1}\n",
        "train['Gender']=train['Gender'].apply(lambda x:d[x])"
      ],
      "metadata": {
        "id": "LN4a4OBU-c38"
      },
      "execution_count": 18,
      "outputs": []
    },
    {
      "cell_type": "code",
      "source": [
        "d={'N':0, 'Y':1}\n",
        "train['Loan_Status']=train['Loan_Status'].apply(lambda x:d[x])"
      ],
      "metadata": {
        "id": "Us2xl0Or--HX"
      },
      "execution_count": 19,
      "outputs": []
    },
    {
      "cell_type": "code",
      "source": [
        "train['Loan_Status'].value_counts()"
      ],
      "metadata": {
        "colab": {
          "base_uri": "https://localhost:8080/"
        },
        "id": "9jk6DuEN-_ZX",
        "outputId": "ce1aa4b7-0a9a-43e6-d209-c3875ec36fdd"
      },
      "execution_count": 20,
      "outputs": [
        {
          "output_type": "execute_result",
          "data": {
            "text/plain": [
              "1    422\n",
              "0    192\n",
              "Name: Loan_Status, dtype: int64"
            ]
          },
          "metadata": {},
          "execution_count": 20
        }
      ]
    },
    {
      "cell_type": "code",
      "source": [
        "corr = train.corr()\n",
        "corr.style.background_gradient(cmap='coolwarm').set_precision(2)"
      ],
      "metadata": {
        "colab": {
          "base_uri": "https://localhost:8080/",
          "height": 269
        },
        "id": "Jk1A2aAh-c6M",
        "outputId": "067a2ab8-2379-4cec-e944-c6c925541ae3"
      },
      "execution_count": 21,
      "outputs": [
        {
          "output_type": "execute_result",
          "data": {
            "text/html": [
              "<style  type=\"text/css\" >\n",
              "#T_4ced2212_5b16_11ec_8956_0242ac1c0002row0_col0,#T_4ced2212_5b16_11ec_8956_0242ac1c0002row1_col1,#T_4ced2212_5b16_11ec_8956_0242ac1c0002row2_col2,#T_4ced2212_5b16_11ec_8956_0242ac1c0002row3_col3,#T_4ced2212_5b16_11ec_8956_0242ac1c0002row4_col4,#T_4ced2212_5b16_11ec_8956_0242ac1c0002row5_col5,#T_4ced2212_5b16_11ec_8956_0242ac1c0002row6_col6{\n",
              "            background-color:  #b40426;\n",
              "            color:  #f1f1f1;\n",
              "        }#T_4ced2212_5b16_11ec_8956_0242ac1c0002row0_col1,#T_4ced2212_5b16_11ec_8956_0242ac1c0002row1_col6,#T_4ced2212_5b16_11ec_8956_0242ac1c0002row4_col2,#T_4ced2212_5b16_11ec_8956_0242ac1c0002row6_col2{\n",
              "            background-color:  #4a63d3;\n",
              "            color:  #f1f1f1;\n",
              "        }#T_4ced2212_5b16_11ec_8956_0242ac1c0002row0_col2{\n",
              "            background-color:  #4358cb;\n",
              "            color:  #f1f1f1;\n",
              "        }#T_4ced2212_5b16_11ec_8956_0242ac1c0002row0_col3,#T_4ced2212_5b16_11ec_8956_0242ac1c0002row0_col5,#T_4ced2212_5b16_11ec_8956_0242ac1c0002row1_col2,#T_4ced2212_5b16_11ec_8956_0242ac1c0002row1_col5,#T_4ced2212_5b16_11ec_8956_0242ac1c0002row2_col1,#T_4ced2212_5b16_11ec_8956_0242ac1c0002row2_col4,#T_4ced2212_5b16_11ec_8956_0242ac1c0002row2_col6,#T_4ced2212_5b16_11ec_8956_0242ac1c0002row3_col0{\n",
              "            background-color:  #3b4cc0;\n",
              "            color:  #f1f1f1;\n",
              "        }#T_4ced2212_5b16_11ec_8956_0242ac1c0002row0_col4{\n",
              "            background-color:  #6282ea;\n",
              "            color:  #000000;\n",
              "        }#T_4ced2212_5b16_11ec_8956_0242ac1c0002row0_col6,#T_4ced2212_5b16_11ec_8956_0242ac1c0002row4_col6,#T_4ced2212_5b16_11ec_8956_0242ac1c0002row6_col4{\n",
              "            background-color:  #455cce;\n",
              "            color:  #f1f1f1;\n",
              "        }#T_4ced2212_5b16_11ec_8956_0242ac1c0002row1_col0{\n",
              "            background-color:  #485fd1;\n",
              "            color:  #f1f1f1;\n",
              "        }#T_4ced2212_5b16_11ec_8956_0242ac1c0002row1_col3{\n",
              "            background-color:  #f3c8b2;\n",
              "            color:  #000000;\n",
              "        }#T_4ced2212_5b16_11ec_8956_0242ac1c0002row1_col4,#T_4ced2212_5b16_11ec_8956_0242ac1c0002row2_col5{\n",
              "            background-color:  #3e51c5;\n",
              "            color:  #f1f1f1;\n",
              "        }#T_4ced2212_5b16_11ec_8956_0242ac1c0002row2_col0{\n",
              "            background-color:  #4257c9;\n",
              "            color:  #f1f1f1;\n",
              "        }#T_4ced2212_5b16_11ec_8956_0242ac1c0002row2_col3{\n",
              "            background-color:  #93b5fe;\n",
              "            color:  #000000;\n",
              "        }#T_4ced2212_5b16_11ec_8956_0242ac1c0002row3_col1{\n",
              "            background-color:  #f3c7b1;\n",
              "            color:  #000000;\n",
              "        }#T_4ced2212_5b16_11ec_8956_0242ac1c0002row3_col2{\n",
              "            background-color:  #94b6ff;\n",
              "            color:  #000000;\n",
              "        }#T_4ced2212_5b16_11ec_8956_0242ac1c0002row3_col4,#T_4ced2212_5b16_11ec_8956_0242ac1c0002row5_col1,#T_4ced2212_5b16_11ec_8956_0242ac1c0002row5_col3{\n",
              "            background-color:  #5673e0;\n",
              "            color:  #000000;\n",
              "        }#T_4ced2212_5b16_11ec_8956_0242ac1c0002row3_col5{\n",
              "            background-color:  #3c4ec2;\n",
              "            color:  #f1f1f1;\n",
              "        }#T_4ced2212_5b16_11ec_8956_0242ac1c0002row3_col6{\n",
              "            background-color:  #4055c8;\n",
              "            color:  #f1f1f1;\n",
              "        }#T_4ced2212_5b16_11ec_8956_0242ac1c0002row4_col0{\n",
              "            background-color:  #6f92f3;\n",
              "            color:  #000000;\n",
              "        }#T_4ced2212_5b16_11ec_8956_0242ac1c0002row4_col1,#T_4ced2212_5b16_11ec_8956_0242ac1c0002row6_col3{\n",
              "            background-color:  #4e68d8;\n",
              "            color:  #000000;\n",
              "        }#T_4ced2212_5b16_11ec_8956_0242ac1c0002row4_col3{\n",
              "            background-color:  #6485ec;\n",
              "            color:  #000000;\n",
              "        }#T_4ced2212_5b16_11ec_8956_0242ac1c0002row4_col5{\n",
              "            background-color:  #3f53c6;\n",
              "            color:  #f1f1f1;\n",
              "        }#T_4ced2212_5b16_11ec_8956_0242ac1c0002row5_col0{\n",
              "            background-color:  #5572df;\n",
              "            color:  #000000;\n",
              "        }#T_4ced2212_5b16_11ec_8956_0242ac1c0002row5_col2{\n",
              "            background-color:  #5a78e4;\n",
              "            color:  #000000;\n",
              "        }#T_4ced2212_5b16_11ec_8956_0242ac1c0002row5_col4{\n",
              "            background-color:  #4b64d5;\n",
              "            color:  #f1f1f1;\n",
              "        }#T_4ced2212_5b16_11ec_8956_0242ac1c0002row5_col6{\n",
              "            background-color:  #f0cdbb;\n",
              "            color:  #000000;\n",
              "        }#T_4ced2212_5b16_11ec_8956_0242ac1c0002row6_col0{\n",
              "            background-color:  #5470de;\n",
              "            color:  #000000;\n",
              "        }#T_4ced2212_5b16_11ec_8956_0242ac1c0002row6_col1{\n",
              "            background-color:  #5977e3;\n",
              "            color:  #000000;\n",
              "        }#T_4ced2212_5b16_11ec_8956_0242ac1c0002row6_col5{\n",
              "            background-color:  #edd2c3;\n",
              "            color:  #000000;\n",
              "        }</style><table id=\"T_4ced2212_5b16_11ec_8956_0242ac1c0002\" class=\"dataframe\"><thead>    <tr>        <th class=\"blank level0\" ></th>        <th class=\"col_heading level0 col0\" >Gender</th>        <th class=\"col_heading level0 col1\" >ApplicantIncome</th>        <th class=\"col_heading level0 col2\" >CoapplicantIncome</th>        <th class=\"col_heading level0 col3\" >LoanAmount</th>        <th class=\"col_heading level0 col4\" >Loan_Amount_Term</th>        <th class=\"col_heading level0 col5\" >Credit_History</th>        <th class=\"col_heading level0 col6\" >Loan_Status</th>    </tr></thead><tbody>\n",
              "                <tr>\n",
              "                        <th id=\"T_4ced2212_5b16_11ec_8956_0242ac1c0002level0_row0\" class=\"row_heading level0 row0\" >Gender</th>\n",
              "                        <td id=\"T_4ced2212_5b16_11ec_8956_0242ac1c0002row0_col0\" class=\"data row0 col0\" >1.00</td>\n",
              "                        <td id=\"T_4ced2212_5b16_11ec_8956_0242ac1c0002row0_col1\" class=\"data row0 col1\" >-0.06</td>\n",
              "                        <td id=\"T_4ced2212_5b16_11ec_8956_0242ac1c0002row0_col2\" class=\"data row0 col2\" >-0.08</td>\n",
              "                        <td id=\"T_4ced2212_5b16_11ec_8956_0242ac1c0002row0_col3\" class=\"data row0 col3\" >-0.11</td>\n",
              "                        <td id=\"T_4ced2212_5b16_11ec_8956_0242ac1c0002row0_col4\" class=\"data row0 col4\" >0.07</td>\n",
              "                        <td id=\"T_4ced2212_5b16_11ec_8956_0242ac1c0002row0_col5\" class=\"data row0 col5\" >-0.01</td>\n",
              "                        <td id=\"T_4ced2212_5b16_11ec_8956_0242ac1c0002row0_col6\" class=\"data row0 col6\" >-0.02</td>\n",
              "            </tr>\n",
              "            <tr>\n",
              "                        <th id=\"T_4ced2212_5b16_11ec_8956_0242ac1c0002level0_row1\" class=\"row_heading level0 row1\" >ApplicantIncome</th>\n",
              "                        <td id=\"T_4ced2212_5b16_11ec_8956_0242ac1c0002row1_col0\" class=\"data row1 col0\" >-0.06</td>\n",
              "                        <td id=\"T_4ced2212_5b16_11ec_8956_0242ac1c0002row1_col1\" class=\"data row1 col1\" >1.00</td>\n",
              "                        <td id=\"T_4ced2212_5b16_11ec_8956_0242ac1c0002row1_col2\" class=\"data row1 col2\" >-0.12</td>\n",
              "                        <td id=\"T_4ced2212_5b16_11ec_8956_0242ac1c0002row1_col3\" class=\"data row1 col3\" >0.57</td>\n",
              "                        <td id=\"T_4ced2212_5b16_11ec_8956_0242ac1c0002row1_col4\" class=\"data row1 col4\" >-0.05</td>\n",
              "                        <td id=\"T_4ced2212_5b16_11ec_8956_0242ac1c0002row1_col5\" class=\"data row1 col5\" >-0.01</td>\n",
              "                        <td id=\"T_4ced2212_5b16_11ec_8956_0242ac1c0002row1_col6\" class=\"data row1 col6\" >-0.00</td>\n",
              "            </tr>\n",
              "            <tr>\n",
              "                        <th id=\"T_4ced2212_5b16_11ec_8956_0242ac1c0002level0_row2\" class=\"row_heading level0 row2\" >CoapplicantIncome</th>\n",
              "                        <td id=\"T_4ced2212_5b16_11ec_8956_0242ac1c0002row2_col0\" class=\"data row2 col0\" >-0.08</td>\n",
              "                        <td id=\"T_4ced2212_5b16_11ec_8956_0242ac1c0002row2_col1\" class=\"data row2 col1\" >-0.12</td>\n",
              "                        <td id=\"T_4ced2212_5b16_11ec_8956_0242ac1c0002row2_col2\" class=\"data row2 col2\" >1.00</td>\n",
              "                        <td id=\"T_4ced2212_5b16_11ec_8956_0242ac1c0002row2_col3\" class=\"data row2 col3\" >0.19</td>\n",
              "                        <td id=\"T_4ced2212_5b16_11ec_8956_0242ac1c0002row2_col4\" class=\"data row2 col4\" >-0.06</td>\n",
              "                        <td id=\"T_4ced2212_5b16_11ec_8956_0242ac1c0002row2_col5\" class=\"data row2 col5\" >-0.00</td>\n",
              "                        <td id=\"T_4ced2212_5b16_11ec_8956_0242ac1c0002row2_col6\" class=\"data row2 col6\" >-0.06</td>\n",
              "            </tr>\n",
              "            <tr>\n",
              "                        <th id=\"T_4ced2212_5b16_11ec_8956_0242ac1c0002level0_row3\" class=\"row_heading level0 row3\" >LoanAmount</th>\n",
              "                        <td id=\"T_4ced2212_5b16_11ec_8956_0242ac1c0002row3_col0\" class=\"data row3 col0\" >-0.11</td>\n",
              "                        <td id=\"T_4ced2212_5b16_11ec_8956_0242ac1c0002row3_col1\" class=\"data row3 col1\" >0.57</td>\n",
              "                        <td id=\"T_4ced2212_5b16_11ec_8956_0242ac1c0002row3_col2\" class=\"data row3 col2\" >0.19</td>\n",
              "                        <td id=\"T_4ced2212_5b16_11ec_8956_0242ac1c0002row3_col3\" class=\"data row3 col3\" >1.00</td>\n",
              "                        <td id=\"T_4ced2212_5b16_11ec_8956_0242ac1c0002row3_col4\" class=\"data row3 col4\" >0.04</td>\n",
              "                        <td id=\"T_4ced2212_5b16_11ec_8956_0242ac1c0002row3_col5\" class=\"data row3 col5\" >-0.01</td>\n",
              "                        <td id=\"T_4ced2212_5b16_11ec_8956_0242ac1c0002row3_col6\" class=\"data row3 col6\" >-0.04</td>\n",
              "            </tr>\n",
              "            <tr>\n",
              "                        <th id=\"T_4ced2212_5b16_11ec_8956_0242ac1c0002level0_row4\" class=\"row_heading level0 row4\" >Loan_Amount_Term</th>\n",
              "                        <td id=\"T_4ced2212_5b16_11ec_8956_0242ac1c0002row4_col0\" class=\"data row4 col0\" >0.07</td>\n",
              "                        <td id=\"T_4ced2212_5b16_11ec_8956_0242ac1c0002row4_col1\" class=\"data row4 col1\" >-0.05</td>\n",
              "                        <td id=\"T_4ced2212_5b16_11ec_8956_0242ac1c0002row4_col2\" class=\"data row4 col2\" >-0.06</td>\n",
              "                        <td id=\"T_4ced2212_5b16_11ec_8956_0242ac1c0002row4_col3\" class=\"data row4 col3\" >0.04</td>\n",
              "                        <td id=\"T_4ced2212_5b16_11ec_8956_0242ac1c0002row4_col4\" class=\"data row4 col4\" >1.00</td>\n",
              "                        <td id=\"T_4ced2212_5b16_11ec_8956_0242ac1c0002row4_col5\" class=\"data row4 col5\" >0.00</td>\n",
              "                        <td id=\"T_4ced2212_5b16_11ec_8956_0242ac1c0002row4_col6\" class=\"data row4 col6\" >-0.02</td>\n",
              "            </tr>\n",
              "            <tr>\n",
              "                        <th id=\"T_4ced2212_5b16_11ec_8956_0242ac1c0002level0_row5\" class=\"row_heading level0 row5\" >Credit_History</th>\n",
              "                        <td id=\"T_4ced2212_5b16_11ec_8956_0242ac1c0002row5_col0\" class=\"data row5 col0\" >-0.01</td>\n",
              "                        <td id=\"T_4ced2212_5b16_11ec_8956_0242ac1c0002row5_col1\" class=\"data row5 col1\" >-0.01</td>\n",
              "                        <td id=\"T_4ced2212_5b16_11ec_8956_0242ac1c0002row5_col2\" class=\"data row5 col2\" >-0.00</td>\n",
              "                        <td id=\"T_4ced2212_5b16_11ec_8956_0242ac1c0002row5_col3\" class=\"data row5 col3\" >-0.01</td>\n",
              "                        <td id=\"T_4ced2212_5b16_11ec_8956_0242ac1c0002row5_col4\" class=\"data row5 col4\" >0.00</td>\n",
              "                        <td id=\"T_4ced2212_5b16_11ec_8956_0242ac1c0002row5_col5\" class=\"data row5 col5\" >1.00</td>\n",
              "                        <td id=\"T_4ced2212_5b16_11ec_8956_0242ac1c0002row5_col6\" class=\"data row5 col6\" >0.56</td>\n",
              "            </tr>\n",
              "            <tr>\n",
              "                        <th id=\"T_4ced2212_5b16_11ec_8956_0242ac1c0002level0_row6\" class=\"row_heading level0 row6\" >Loan_Status</th>\n",
              "                        <td id=\"T_4ced2212_5b16_11ec_8956_0242ac1c0002row6_col0\" class=\"data row6 col0\" >-0.02</td>\n",
              "                        <td id=\"T_4ced2212_5b16_11ec_8956_0242ac1c0002row6_col1\" class=\"data row6 col1\" >-0.00</td>\n",
              "                        <td id=\"T_4ced2212_5b16_11ec_8956_0242ac1c0002row6_col2\" class=\"data row6 col2\" >-0.06</td>\n",
              "                        <td id=\"T_4ced2212_5b16_11ec_8956_0242ac1c0002row6_col3\" class=\"data row6 col3\" >-0.04</td>\n",
              "                        <td id=\"T_4ced2212_5b16_11ec_8956_0242ac1c0002row6_col4\" class=\"data row6 col4\" >-0.02</td>\n",
              "                        <td id=\"T_4ced2212_5b16_11ec_8956_0242ac1c0002row6_col5\" class=\"data row6 col5\" >0.56</td>\n",
              "                        <td id=\"T_4ced2212_5b16_11ec_8956_0242ac1c0002row6_col6\" class=\"data row6 col6\" >1.00</td>\n",
              "            </tr>\n",
              "    </tbody></table>"
            ],
            "text/plain": [
              "<pandas.io.formats.style.Styler at 0x7f42b2bf8990>"
            ]
          },
          "metadata": {},
          "execution_count": 21
        }
      ]
    },
    {
      "cell_type": "code",
      "source": [
        "train['Married'].value_counts()"
      ],
      "metadata": {
        "colab": {
          "base_uri": "https://localhost:8080/"
        },
        "id": "O1Jc4iJo_tOT",
        "outputId": "221edff0-5543-47af-86db-cb48aefccef1"
      },
      "execution_count": 22,
      "outputs": [
        {
          "output_type": "execute_result",
          "data": {
            "text/plain": [
              "Yes    398\n",
              "No     213\n",
              "Name: Married, dtype: int64"
            ]
          },
          "metadata": {},
          "execution_count": 22
        }
      ]
    },
    {
      "cell_type": "code",
      "source": [
        "test['Married'].value_counts()            "
      ],
      "metadata": {
        "colab": {
          "base_uri": "https://localhost:8080/"
        },
        "id": "__ue-NUC-2zB",
        "outputId": "85b319e0-d4d5-42da-caa5-c2ef113a316b"
      },
      "execution_count": 23,
      "outputs": [
        {
          "output_type": "execute_result",
          "data": {
            "text/plain": [
              "Yes    233\n",
              "No     134\n",
              "Name: Married, dtype: int64"
            ]
          },
          "metadata": {},
          "execution_count": 23
        }
      ]
    },
    {
      "cell_type": "code",
      "source": [
        "train[\"Married\"].fillna(\"Yes\", inplace = True)\n",
        "test[\"Married\"].fillna(\"Yes\", inplace = True)"
      ],
      "metadata": {
        "id": "UDvP53iO_5F7"
      },
      "execution_count": 24,
      "outputs": []
    },
    {
      "cell_type": "code",
      "source": [
        "d={'No':0, 'Yes':1}\n",
        "train['Married']=train['Married'].apply(lambda x:d[x])"
      ],
      "metadata": {
        "id": "fiY9oBiqAAp9"
      },
      "execution_count": 25,
      "outputs": []
    },
    {
      "cell_type": "code",
      "source": [
        "corr = train.corr()\n",
        "corr.style.background_gradient(cmap='coolwarm').set_precision(2)"
      ],
      "metadata": {
        "colab": {
          "base_uri": "https://localhost:8080/",
          "height": 300
        },
        "id": "6SUhS83OAFDJ",
        "outputId": "ebad313b-9877-4348-f714-e634f5c8abf6"
      },
      "execution_count": 26,
      "outputs": [
        {
          "output_type": "execute_result",
          "data": {
            "text/html": [
              "<style  type=\"text/css\" >\n",
              "#T_4cfe9c7c_5b16_11ec_8956_0242ac1c0002row0_col0,#T_4cfe9c7c_5b16_11ec_8956_0242ac1c0002row1_col1,#T_4cfe9c7c_5b16_11ec_8956_0242ac1c0002row2_col2,#T_4cfe9c7c_5b16_11ec_8956_0242ac1c0002row3_col3,#T_4cfe9c7c_5b16_11ec_8956_0242ac1c0002row4_col4,#T_4cfe9c7c_5b16_11ec_8956_0242ac1c0002row5_col5,#T_4cfe9c7c_5b16_11ec_8956_0242ac1c0002row6_col6,#T_4cfe9c7c_5b16_11ec_8956_0242ac1c0002row7_col7{\n",
              "            background-color:  #b40426;\n",
              "            color:  #f1f1f1;\n",
              "        }#T_4cfe9c7c_5b16_11ec_8956_0242ac1c0002row0_col1,#T_4cfe9c7c_5b16_11ec_8956_0242ac1c0002row0_col4,#T_4cfe9c7c_5b16_11ec_8956_0242ac1c0002row0_col6,#T_4cfe9c7c_5b16_11ec_8956_0242ac1c0002row1_col0,#T_4cfe9c7c_5b16_11ec_8956_0242ac1c0002row1_col5,#T_4cfe9c7c_5b16_11ec_8956_0242ac1c0002row2_col3,#T_4cfe9c7c_5b16_11ec_8956_0242ac1c0002row2_col6,#T_4cfe9c7c_5b16_11ec_8956_0242ac1c0002row3_col2,#T_4cfe9c7c_5b16_11ec_8956_0242ac1c0002row3_col7{\n",
              "            background-color:  #3b4cc0;\n",
              "            color:  #f1f1f1;\n",
              "        }#T_4cfe9c7c_5b16_11ec_8956_0242ac1c0002row0_col2,#T_4cfe9c7c_5b16_11ec_8956_0242ac1c0002row2_col5,#T_4cfe9c7c_5b16_11ec_8956_0242ac1c0002row2_col7,#T_4cfe9c7c_5b16_11ec_8956_0242ac1c0002row5_col3,#T_4cfe9c7c_5b16_11ec_8956_0242ac1c0002row7_col3{\n",
              "            background-color:  #4a63d3;\n",
              "            color:  #f1f1f1;\n",
              "        }#T_4cfe9c7c_5b16_11ec_8956_0242ac1c0002row0_col3{\n",
              "            background-color:  #4358cb;\n",
              "            color:  #f1f1f1;\n",
              "        }#T_4cfe9c7c_5b16_11ec_8956_0242ac1c0002row0_col5{\n",
              "            background-color:  #6e90f2;\n",
              "            color:  #000000;\n",
              "        }#T_4cfe9c7c_5b16_11ec_8956_0242ac1c0002row0_col7,#T_4cfe9c7c_5b16_11ec_8956_0242ac1c0002row3_col5,#T_4cfe9c7c_5b16_11ec_8956_0242ac1c0002row5_col7{\n",
              "            background-color:  #455cce;\n",
              "            color:  #f1f1f1;\n",
              "        }#T_4cfe9c7c_5b16_11ec_8956_0242ac1c0002row1_col2{\n",
              "            background-color:  #6a8bef;\n",
              "            color:  #000000;\n",
              "        }#T_4cfe9c7c_5b16_11ec_8956_0242ac1c0002row1_col3{\n",
              "            background-color:  #7295f4;\n",
              "            color:  #000000;\n",
              "        }#T_4cfe9c7c_5b16_11ec_8956_0242ac1c0002row1_col4{\n",
              "            background-color:  #86a9fc;\n",
              "            color:  #000000;\n",
              "        }#T_4cfe9c7c_5b16_11ec_8956_0242ac1c0002row1_col6,#T_4cfe9c7c_5b16_11ec_8956_0242ac1c0002row4_col7{\n",
              "            background-color:  #4055c8;\n",
              "            color:  #f1f1f1;\n",
              "        }#T_4cfe9c7c_5b16_11ec_8956_0242ac1c0002row1_col7{\n",
              "            background-color:  #6788ee;\n",
              "            color:  #000000;\n",
              "        }#T_4cfe9c7c_5b16_11ec_8956_0242ac1c0002row2_col0{\n",
              "            background-color:  #84a7fc;\n",
              "            color:  #000000;\n",
              "        }#T_4cfe9c7c_5b16_11ec_8956_0242ac1c0002row2_col1{\n",
              "            background-color:  #a1c0ff;\n",
              "            color:  #000000;\n",
              "        }#T_4cfe9c7c_5b16_11ec_8956_0242ac1c0002row2_col4{\n",
              "            background-color:  #f3c8b2;\n",
              "            color:  #000000;\n",
              "        }#T_4cfe9c7c_5b16_11ec_8956_0242ac1c0002row3_col0{\n",
              "            background-color:  #7da0f9;\n",
              "            color:  #000000;\n",
              "        }#T_4cfe9c7c_5b16_11ec_8956_0242ac1c0002row3_col1,#T_4cfe9c7c_5b16_11ec_8956_0242ac1c0002row5_col0{\n",
              "            background-color:  #a6c4fe;\n",
              "            color:  #000000;\n",
              "        }#T_4cfe9c7c_5b16_11ec_8956_0242ac1c0002row3_col4{\n",
              "            background-color:  #93b5fe;\n",
              "            color:  #000000;\n",
              "        }#T_4cfe9c7c_5b16_11ec_8956_0242ac1c0002row3_col6{\n",
              "            background-color:  #3e51c5;\n",
              "            color:  #f1f1f1;\n",
              "        }#T_4cfe9c7c_5b16_11ec_8956_0242ac1c0002row4_col0{\n",
              "            background-color:  #7699f6;\n",
              "            color:  #000000;\n",
              "        }#T_4cfe9c7c_5b16_11ec_8956_0242ac1c0002row4_col1{\n",
              "            background-color:  #b9d0f9;\n",
              "            color:  #000000;\n",
              "        }#T_4cfe9c7c_5b16_11ec_8956_0242ac1c0002row4_col2{\n",
              "            background-color:  #f3c7b1;\n",
              "            color:  #000000;\n",
              "        }#T_4cfe9c7c_5b16_11ec_8956_0242ac1c0002row4_col3,#T_4cfe9c7c_5b16_11ec_8956_0242ac1c0002row6_col1{\n",
              "            background-color:  #94b6ff;\n",
              "            color:  #000000;\n",
              "        }#T_4cfe9c7c_5b16_11ec_8956_0242ac1c0002row4_col5{\n",
              "            background-color:  #6282ea;\n",
              "            color:  #000000;\n",
              "        }#T_4cfe9c7c_5b16_11ec_8956_0242ac1c0002row4_col6{\n",
              "            background-color:  #3c4ec2;\n",
              "            color:  #f1f1f1;\n",
              "        }#T_4cfe9c7c_5b16_11ec_8956_0242ac1c0002row5_col1{\n",
              "            background-color:  #799cf8;\n",
              "            color:  #000000;\n",
              "        }#T_4cfe9c7c_5b16_11ec_8956_0242ac1c0002row5_col2,#T_4cfe9c7c_5b16_11ec_8956_0242ac1c0002row7_col4{\n",
              "            background-color:  #4e68d8;\n",
              "            color:  #000000;\n",
              "        }#T_4cfe9c7c_5b16_11ec_8956_0242ac1c0002row5_col4{\n",
              "            background-color:  #6485ec;\n",
              "            color:  #000000;\n",
              "        }#T_4cfe9c7c_5b16_11ec_8956_0242ac1c0002row5_col6{\n",
              "            background-color:  #3f53c6;\n",
              "            color:  #f1f1f1;\n",
              "        }#T_4cfe9c7c_5b16_11ec_8956_0242ac1c0002row6_col0,#T_4cfe9c7c_5b16_11ec_8956_0242ac1c0002row7_col0{\n",
              "            background-color:  #8fb1fe;\n",
              "            color:  #000000;\n",
              "        }#T_4cfe9c7c_5b16_11ec_8956_0242ac1c0002row6_col2,#T_4cfe9c7c_5b16_11ec_8956_0242ac1c0002row6_col4{\n",
              "            background-color:  #5673e0;\n",
              "            color:  #000000;\n",
              "        }#T_4cfe9c7c_5b16_11ec_8956_0242ac1c0002row6_col3{\n",
              "            background-color:  #5a78e4;\n",
              "            color:  #000000;\n",
              "        }#T_4cfe9c7c_5b16_11ec_8956_0242ac1c0002row6_col5{\n",
              "            background-color:  #5875e1;\n",
              "            color:  #000000;\n",
              "        }#T_4cfe9c7c_5b16_11ec_8956_0242ac1c0002row6_col7{\n",
              "            background-color:  #f0cdbb;\n",
              "            color:  #000000;\n",
              "        }#T_4cfe9c7c_5b16_11ec_8956_0242ac1c0002row7_col1{\n",
              "            background-color:  #aac7fd;\n",
              "            color:  #000000;\n",
              "        }#T_4cfe9c7c_5b16_11ec_8956_0242ac1c0002row7_col2{\n",
              "            background-color:  #5977e3;\n",
              "            color:  #000000;\n",
              "        }#T_4cfe9c7c_5b16_11ec_8956_0242ac1c0002row7_col5{\n",
              "            background-color:  #506bda;\n",
              "            color:  #000000;\n",
              "        }#T_4cfe9c7c_5b16_11ec_8956_0242ac1c0002row7_col6{\n",
              "            background-color:  #edd2c3;\n",
              "            color:  #000000;\n",
              "        }</style><table id=\"T_4cfe9c7c_5b16_11ec_8956_0242ac1c0002\" class=\"dataframe\"><thead>    <tr>        <th class=\"blank level0\" ></th>        <th class=\"col_heading level0 col0\" >Gender</th>        <th class=\"col_heading level0 col1\" >Married</th>        <th class=\"col_heading level0 col2\" >ApplicantIncome</th>        <th class=\"col_heading level0 col3\" >CoapplicantIncome</th>        <th class=\"col_heading level0 col4\" >LoanAmount</th>        <th class=\"col_heading level0 col5\" >Loan_Amount_Term</th>        <th class=\"col_heading level0 col6\" >Credit_History</th>        <th class=\"col_heading level0 col7\" >Loan_Status</th>    </tr></thead><tbody>\n",
              "                <tr>\n",
              "                        <th id=\"T_4cfe9c7c_5b16_11ec_8956_0242ac1c0002level0_row0\" class=\"row_heading level0 row0\" >Gender</th>\n",
              "                        <td id=\"T_4cfe9c7c_5b16_11ec_8956_0242ac1c0002row0_col0\" class=\"data row0 col0\" >1.00</td>\n",
              "                        <td id=\"T_4cfe9c7c_5b16_11ec_8956_0242ac1c0002row0_col1\" class=\"data row0 col1\" >-0.36</td>\n",
              "                        <td id=\"T_4cfe9c7c_5b16_11ec_8956_0242ac1c0002row0_col2\" class=\"data row0 col2\" >-0.06</td>\n",
              "                        <td id=\"T_4cfe9c7c_5b16_11ec_8956_0242ac1c0002row0_col3\" class=\"data row0 col3\" >-0.08</td>\n",
              "                        <td id=\"T_4cfe9c7c_5b16_11ec_8956_0242ac1c0002row0_col4\" class=\"data row0 col4\" >-0.11</td>\n",
              "                        <td id=\"T_4cfe9c7c_5b16_11ec_8956_0242ac1c0002row0_col5\" class=\"data row0 col5\" >0.07</td>\n",
              "                        <td id=\"T_4cfe9c7c_5b16_11ec_8956_0242ac1c0002row0_col6\" class=\"data row0 col6\" >-0.01</td>\n",
              "                        <td id=\"T_4cfe9c7c_5b16_11ec_8956_0242ac1c0002row0_col7\" class=\"data row0 col7\" >-0.02</td>\n",
              "            </tr>\n",
              "            <tr>\n",
              "                        <th id=\"T_4cfe9c7c_5b16_11ec_8956_0242ac1c0002level0_row1\" class=\"row_heading level0 row1\" >Married</th>\n",
              "                        <td id=\"T_4cfe9c7c_5b16_11ec_8956_0242ac1c0002row1_col0\" class=\"data row1 col0\" >-0.36</td>\n",
              "                        <td id=\"T_4cfe9c7c_5b16_11ec_8956_0242ac1c0002row1_col1\" class=\"data row1 col1\" >1.00</td>\n",
              "                        <td id=\"T_4cfe9c7c_5b16_11ec_8956_0242ac1c0002row1_col2\" class=\"data row1 col2\" >0.05</td>\n",
              "                        <td id=\"T_4cfe9c7c_5b16_11ec_8956_0242ac1c0002row1_col3\" class=\"data row1 col3\" >0.08</td>\n",
              "                        <td id=\"T_4cfe9c7c_5b16_11ec_8956_0242ac1c0002row1_col4\" class=\"data row1 col4\" >0.15</td>\n",
              "                        <td id=\"T_4cfe9c7c_5b16_11ec_8956_0242ac1c0002row1_col5\" class=\"data row1 col5\" >-0.10</td>\n",
              "                        <td id=\"T_4cfe9c7c_5b16_11ec_8956_0242ac1c0002row1_col6\" class=\"data row1 col6\" >0.01</td>\n",
              "                        <td id=\"T_4cfe9c7c_5b16_11ec_8956_0242ac1c0002row1_col7\" class=\"data row1 col7\" >0.09</td>\n",
              "            </tr>\n",
              "            <tr>\n",
              "                        <th id=\"T_4cfe9c7c_5b16_11ec_8956_0242ac1c0002level0_row2\" class=\"row_heading level0 row2\" >ApplicantIncome</th>\n",
              "                        <td id=\"T_4cfe9c7c_5b16_11ec_8956_0242ac1c0002row2_col0\" class=\"data row2 col0\" >-0.06</td>\n",
              "                        <td id=\"T_4cfe9c7c_5b16_11ec_8956_0242ac1c0002row2_col1\" class=\"data row2 col1\" >0.05</td>\n",
              "                        <td id=\"T_4cfe9c7c_5b16_11ec_8956_0242ac1c0002row2_col2\" class=\"data row2 col2\" >1.00</td>\n",
              "                        <td id=\"T_4cfe9c7c_5b16_11ec_8956_0242ac1c0002row2_col3\" class=\"data row2 col3\" >-0.12</td>\n",
              "                        <td id=\"T_4cfe9c7c_5b16_11ec_8956_0242ac1c0002row2_col4\" class=\"data row2 col4\" >0.57</td>\n",
              "                        <td id=\"T_4cfe9c7c_5b16_11ec_8956_0242ac1c0002row2_col5\" class=\"data row2 col5\" >-0.05</td>\n",
              "                        <td id=\"T_4cfe9c7c_5b16_11ec_8956_0242ac1c0002row2_col6\" class=\"data row2 col6\" >-0.01</td>\n",
              "                        <td id=\"T_4cfe9c7c_5b16_11ec_8956_0242ac1c0002row2_col7\" class=\"data row2 col7\" >-0.00</td>\n",
              "            </tr>\n",
              "            <tr>\n",
              "                        <th id=\"T_4cfe9c7c_5b16_11ec_8956_0242ac1c0002level0_row3\" class=\"row_heading level0 row3\" >CoapplicantIncome</th>\n",
              "                        <td id=\"T_4cfe9c7c_5b16_11ec_8956_0242ac1c0002row3_col0\" class=\"data row3 col0\" >-0.08</td>\n",
              "                        <td id=\"T_4cfe9c7c_5b16_11ec_8956_0242ac1c0002row3_col1\" class=\"data row3 col1\" >0.08</td>\n",
              "                        <td id=\"T_4cfe9c7c_5b16_11ec_8956_0242ac1c0002row3_col2\" class=\"data row3 col2\" >-0.12</td>\n",
              "                        <td id=\"T_4cfe9c7c_5b16_11ec_8956_0242ac1c0002row3_col3\" class=\"data row3 col3\" >1.00</td>\n",
              "                        <td id=\"T_4cfe9c7c_5b16_11ec_8956_0242ac1c0002row3_col4\" class=\"data row3 col4\" >0.19</td>\n",
              "                        <td id=\"T_4cfe9c7c_5b16_11ec_8956_0242ac1c0002row3_col5\" class=\"data row3 col5\" >-0.06</td>\n",
              "                        <td id=\"T_4cfe9c7c_5b16_11ec_8956_0242ac1c0002row3_col6\" class=\"data row3 col6\" >-0.00</td>\n",
              "                        <td id=\"T_4cfe9c7c_5b16_11ec_8956_0242ac1c0002row3_col7\" class=\"data row3 col7\" >-0.06</td>\n",
              "            </tr>\n",
              "            <tr>\n",
              "                        <th id=\"T_4cfe9c7c_5b16_11ec_8956_0242ac1c0002level0_row4\" class=\"row_heading level0 row4\" >LoanAmount</th>\n",
              "                        <td id=\"T_4cfe9c7c_5b16_11ec_8956_0242ac1c0002row4_col0\" class=\"data row4 col0\" >-0.11</td>\n",
              "                        <td id=\"T_4cfe9c7c_5b16_11ec_8956_0242ac1c0002row4_col1\" class=\"data row4 col1\" >0.15</td>\n",
              "                        <td id=\"T_4cfe9c7c_5b16_11ec_8956_0242ac1c0002row4_col2\" class=\"data row4 col2\" >0.57</td>\n",
              "                        <td id=\"T_4cfe9c7c_5b16_11ec_8956_0242ac1c0002row4_col3\" class=\"data row4 col3\" >0.19</td>\n",
              "                        <td id=\"T_4cfe9c7c_5b16_11ec_8956_0242ac1c0002row4_col4\" class=\"data row4 col4\" >1.00</td>\n",
              "                        <td id=\"T_4cfe9c7c_5b16_11ec_8956_0242ac1c0002row4_col5\" class=\"data row4 col5\" >0.04</td>\n",
              "                        <td id=\"T_4cfe9c7c_5b16_11ec_8956_0242ac1c0002row4_col6\" class=\"data row4 col6\" >-0.01</td>\n",
              "                        <td id=\"T_4cfe9c7c_5b16_11ec_8956_0242ac1c0002row4_col7\" class=\"data row4 col7\" >-0.04</td>\n",
              "            </tr>\n",
              "            <tr>\n",
              "                        <th id=\"T_4cfe9c7c_5b16_11ec_8956_0242ac1c0002level0_row5\" class=\"row_heading level0 row5\" >Loan_Amount_Term</th>\n",
              "                        <td id=\"T_4cfe9c7c_5b16_11ec_8956_0242ac1c0002row5_col0\" class=\"data row5 col0\" >0.07</td>\n",
              "                        <td id=\"T_4cfe9c7c_5b16_11ec_8956_0242ac1c0002row5_col1\" class=\"data row5 col1\" >-0.10</td>\n",
              "                        <td id=\"T_4cfe9c7c_5b16_11ec_8956_0242ac1c0002row5_col2\" class=\"data row5 col2\" >-0.05</td>\n",
              "                        <td id=\"T_4cfe9c7c_5b16_11ec_8956_0242ac1c0002row5_col3\" class=\"data row5 col3\" >-0.06</td>\n",
              "                        <td id=\"T_4cfe9c7c_5b16_11ec_8956_0242ac1c0002row5_col4\" class=\"data row5 col4\" >0.04</td>\n",
              "                        <td id=\"T_4cfe9c7c_5b16_11ec_8956_0242ac1c0002row5_col5\" class=\"data row5 col5\" >1.00</td>\n",
              "                        <td id=\"T_4cfe9c7c_5b16_11ec_8956_0242ac1c0002row5_col6\" class=\"data row5 col6\" >0.00</td>\n",
              "                        <td id=\"T_4cfe9c7c_5b16_11ec_8956_0242ac1c0002row5_col7\" class=\"data row5 col7\" >-0.02</td>\n",
              "            </tr>\n",
              "            <tr>\n",
              "                        <th id=\"T_4cfe9c7c_5b16_11ec_8956_0242ac1c0002level0_row6\" class=\"row_heading level0 row6\" >Credit_History</th>\n",
              "                        <td id=\"T_4cfe9c7c_5b16_11ec_8956_0242ac1c0002row6_col0\" class=\"data row6 col0\" >-0.01</td>\n",
              "                        <td id=\"T_4cfe9c7c_5b16_11ec_8956_0242ac1c0002row6_col1\" class=\"data row6 col1\" >0.01</td>\n",
              "                        <td id=\"T_4cfe9c7c_5b16_11ec_8956_0242ac1c0002row6_col2\" class=\"data row6 col2\" >-0.01</td>\n",
              "                        <td id=\"T_4cfe9c7c_5b16_11ec_8956_0242ac1c0002row6_col3\" class=\"data row6 col3\" >-0.00</td>\n",
              "                        <td id=\"T_4cfe9c7c_5b16_11ec_8956_0242ac1c0002row6_col4\" class=\"data row6 col4\" >-0.01</td>\n",
              "                        <td id=\"T_4cfe9c7c_5b16_11ec_8956_0242ac1c0002row6_col5\" class=\"data row6 col5\" >0.00</td>\n",
              "                        <td id=\"T_4cfe9c7c_5b16_11ec_8956_0242ac1c0002row6_col6\" class=\"data row6 col6\" >1.00</td>\n",
              "                        <td id=\"T_4cfe9c7c_5b16_11ec_8956_0242ac1c0002row6_col7\" class=\"data row6 col7\" >0.56</td>\n",
              "            </tr>\n",
              "            <tr>\n",
              "                        <th id=\"T_4cfe9c7c_5b16_11ec_8956_0242ac1c0002level0_row7\" class=\"row_heading level0 row7\" >Loan_Status</th>\n",
              "                        <td id=\"T_4cfe9c7c_5b16_11ec_8956_0242ac1c0002row7_col0\" class=\"data row7 col0\" >-0.02</td>\n",
              "                        <td id=\"T_4cfe9c7c_5b16_11ec_8956_0242ac1c0002row7_col1\" class=\"data row7 col1\" >0.09</td>\n",
              "                        <td id=\"T_4cfe9c7c_5b16_11ec_8956_0242ac1c0002row7_col2\" class=\"data row7 col2\" >-0.00</td>\n",
              "                        <td id=\"T_4cfe9c7c_5b16_11ec_8956_0242ac1c0002row7_col3\" class=\"data row7 col3\" >-0.06</td>\n",
              "                        <td id=\"T_4cfe9c7c_5b16_11ec_8956_0242ac1c0002row7_col4\" class=\"data row7 col4\" >-0.04</td>\n",
              "                        <td id=\"T_4cfe9c7c_5b16_11ec_8956_0242ac1c0002row7_col5\" class=\"data row7 col5\" >-0.02</td>\n",
              "                        <td id=\"T_4cfe9c7c_5b16_11ec_8956_0242ac1c0002row7_col6\" class=\"data row7 col6\" >0.56</td>\n",
              "                        <td id=\"T_4cfe9c7c_5b16_11ec_8956_0242ac1c0002row7_col7\" class=\"data row7 col7\" >1.00</td>\n",
              "            </tr>\n",
              "    </tbody></table>"
            ],
            "text/plain": [
              "<pandas.io.formats.style.Styler at 0x7f42b23eae50>"
            ]
          },
          "metadata": {},
          "execution_count": 26
        }
      ]
    },
    {
      "cell_type": "code",
      "source": [
        "train['Dependents'].value_counts()"
      ],
      "metadata": {
        "colab": {
          "base_uri": "https://localhost:8080/"
        },
        "id": "dbGM6exEAGZq",
        "outputId": "53bfdce2-4df5-42e4-ac5a-034e7a5b4259"
      },
      "execution_count": 27,
      "outputs": [
        {
          "output_type": "execute_result",
          "data": {
            "text/plain": [
              "0     345\n",
              "1     102\n",
              "2     101\n",
              "3+     51\n",
              "Name: Dependents, dtype: int64"
            ]
          },
          "metadata": {},
          "execution_count": 27
        }
      ]
    },
    {
      "cell_type": "code",
      "source": [
        "test['Dependents'].value_counts()"
      ],
      "metadata": {
        "colab": {
          "base_uri": "https://localhost:8080/"
        },
        "id": "7DUJ02wgAP6x",
        "outputId": "25934ed3-bc71-4f45-92cf-cfc754d30c15"
      },
      "execution_count": 28,
      "outputs": [
        {
          "output_type": "execute_result",
          "data": {
            "text/plain": [
              "0     200\n",
              "2      59\n",
              "1      58\n",
              "3+     40\n",
              "Name: Dependents, dtype: int64"
            ]
          },
          "metadata": {},
          "execution_count": 28
        }
      ]
    },
    {
      "cell_type": "code",
      "source": [
        "train[\"Dependents\"].fillna(0, inplace = True)"
      ],
      "metadata": {
        "id": "qWXQzRF1AQ69"
      },
      "execution_count": 29,
      "outputs": []
    },
    {
      "cell_type": "code",
      "source": [
        "test[\"Dependents\"].fillna(0, inplace = True)"
      ],
      "metadata": {
        "id": "AcNVjyCSAbHV"
      },
      "execution_count": 30,
      "outputs": []
    },
    {
      "cell_type": "code",
      "source": [
        "train['Dependents'].value_counts()"
      ],
      "metadata": {
        "colab": {
          "base_uri": "https://localhost:8080/"
        },
        "id": "G1VZ-8djAcaB",
        "outputId": "dd2e321c-011d-4c64-9f85-7fde4a816770"
      },
      "execution_count": 31,
      "outputs": [
        {
          "output_type": "execute_result",
          "data": {
            "text/plain": [
              "0     345\n",
              "1     102\n",
              "2     101\n",
              "3+     51\n",
              "0      15\n",
              "Name: Dependents, dtype: int64"
            ]
          },
          "metadata": {},
          "execution_count": 31
        }
      ]
    },
    {
      "cell_type": "code",
      "source": [
        "train['Dependents'].value_counts()"
      ],
      "metadata": {
        "colab": {
          "base_uri": "https://localhost:8080/"
        },
        "id": "QZ_vd5BUCQdd",
        "outputId": "29805f6e-9db0-419e-dd94-193ac2bf96f3"
      },
      "execution_count": 32,
      "outputs": [
        {
          "output_type": "execute_result",
          "data": {
            "text/plain": [
              "0     345\n",
              "1     102\n",
              "2     101\n",
              "3+     51\n",
              "0      15\n",
              "Name: Dependents, dtype: int64"
            ]
          },
          "metadata": {},
          "execution_count": 32
        }
      ]
    },
    {
      "cell_type": "code",
      "source": [
        "corr = train.corr()\n",
        "corr.style.background_gradient(cmap='coolwarm').set_precision(2)"
      ],
      "metadata": {
        "colab": {
          "base_uri": "https://localhost:8080/",
          "height": 300
        },
        "id": "n93nZfIpA3t1",
        "outputId": "cc3e4c48-67f1-4517-edad-3dfc2b7e205b"
      },
      "execution_count": 33,
      "outputs": [
        {
          "output_type": "execute_result",
          "data": {
            "text/html": [
              "<style  type=\"text/css\" >\n",
              "#T_4d155a48_5b16_11ec_8956_0242ac1c0002row0_col0,#T_4d155a48_5b16_11ec_8956_0242ac1c0002row1_col1,#T_4d155a48_5b16_11ec_8956_0242ac1c0002row2_col2,#T_4d155a48_5b16_11ec_8956_0242ac1c0002row3_col3,#T_4d155a48_5b16_11ec_8956_0242ac1c0002row4_col4,#T_4d155a48_5b16_11ec_8956_0242ac1c0002row5_col5,#T_4d155a48_5b16_11ec_8956_0242ac1c0002row6_col6,#T_4d155a48_5b16_11ec_8956_0242ac1c0002row7_col7{\n",
              "            background-color:  #b40426;\n",
              "            color:  #f1f1f1;\n",
              "        }#T_4d155a48_5b16_11ec_8956_0242ac1c0002row0_col1,#T_4d155a48_5b16_11ec_8956_0242ac1c0002row0_col4,#T_4d155a48_5b16_11ec_8956_0242ac1c0002row0_col6,#T_4d155a48_5b16_11ec_8956_0242ac1c0002row1_col0,#T_4d155a48_5b16_11ec_8956_0242ac1c0002row1_col5,#T_4d155a48_5b16_11ec_8956_0242ac1c0002row2_col3,#T_4d155a48_5b16_11ec_8956_0242ac1c0002row2_col6,#T_4d155a48_5b16_11ec_8956_0242ac1c0002row3_col2,#T_4d155a48_5b16_11ec_8956_0242ac1c0002row3_col7{\n",
              "            background-color:  #3b4cc0;\n",
              "            color:  #f1f1f1;\n",
              "        }#T_4d155a48_5b16_11ec_8956_0242ac1c0002row0_col2,#T_4d155a48_5b16_11ec_8956_0242ac1c0002row2_col5,#T_4d155a48_5b16_11ec_8956_0242ac1c0002row2_col7,#T_4d155a48_5b16_11ec_8956_0242ac1c0002row5_col3,#T_4d155a48_5b16_11ec_8956_0242ac1c0002row7_col3{\n",
              "            background-color:  #4a63d3;\n",
              "            color:  #f1f1f1;\n",
              "        }#T_4d155a48_5b16_11ec_8956_0242ac1c0002row0_col3{\n",
              "            background-color:  #4358cb;\n",
              "            color:  #f1f1f1;\n",
              "        }#T_4d155a48_5b16_11ec_8956_0242ac1c0002row0_col5{\n",
              "            background-color:  #6e90f2;\n",
              "            color:  #000000;\n",
              "        }#T_4d155a48_5b16_11ec_8956_0242ac1c0002row0_col7,#T_4d155a48_5b16_11ec_8956_0242ac1c0002row3_col5,#T_4d155a48_5b16_11ec_8956_0242ac1c0002row5_col7{\n",
              "            background-color:  #455cce;\n",
              "            color:  #f1f1f1;\n",
              "        }#T_4d155a48_5b16_11ec_8956_0242ac1c0002row1_col2{\n",
              "            background-color:  #6a8bef;\n",
              "            color:  #000000;\n",
              "        }#T_4d155a48_5b16_11ec_8956_0242ac1c0002row1_col3{\n",
              "            background-color:  #7295f4;\n",
              "            color:  #000000;\n",
              "        }#T_4d155a48_5b16_11ec_8956_0242ac1c0002row1_col4{\n",
              "            background-color:  #86a9fc;\n",
              "            color:  #000000;\n",
              "        }#T_4d155a48_5b16_11ec_8956_0242ac1c0002row1_col6,#T_4d155a48_5b16_11ec_8956_0242ac1c0002row4_col7{\n",
              "            background-color:  #4055c8;\n",
              "            color:  #f1f1f1;\n",
              "        }#T_4d155a48_5b16_11ec_8956_0242ac1c0002row1_col7{\n",
              "            background-color:  #6788ee;\n",
              "            color:  #000000;\n",
              "        }#T_4d155a48_5b16_11ec_8956_0242ac1c0002row2_col0{\n",
              "            background-color:  #84a7fc;\n",
              "            color:  #000000;\n",
              "        }#T_4d155a48_5b16_11ec_8956_0242ac1c0002row2_col1{\n",
              "            background-color:  #a1c0ff;\n",
              "            color:  #000000;\n",
              "        }#T_4d155a48_5b16_11ec_8956_0242ac1c0002row2_col4{\n",
              "            background-color:  #f3c8b2;\n",
              "            color:  #000000;\n",
              "        }#T_4d155a48_5b16_11ec_8956_0242ac1c0002row3_col0{\n",
              "            background-color:  #7da0f9;\n",
              "            color:  #000000;\n",
              "        }#T_4d155a48_5b16_11ec_8956_0242ac1c0002row3_col1,#T_4d155a48_5b16_11ec_8956_0242ac1c0002row5_col0{\n",
              "            background-color:  #a6c4fe;\n",
              "            color:  #000000;\n",
              "        }#T_4d155a48_5b16_11ec_8956_0242ac1c0002row3_col4{\n",
              "            background-color:  #93b5fe;\n",
              "            color:  #000000;\n",
              "        }#T_4d155a48_5b16_11ec_8956_0242ac1c0002row3_col6{\n",
              "            background-color:  #3e51c5;\n",
              "            color:  #f1f1f1;\n",
              "        }#T_4d155a48_5b16_11ec_8956_0242ac1c0002row4_col0{\n",
              "            background-color:  #7699f6;\n",
              "            color:  #000000;\n",
              "        }#T_4d155a48_5b16_11ec_8956_0242ac1c0002row4_col1{\n",
              "            background-color:  #b9d0f9;\n",
              "            color:  #000000;\n",
              "        }#T_4d155a48_5b16_11ec_8956_0242ac1c0002row4_col2{\n",
              "            background-color:  #f3c7b1;\n",
              "            color:  #000000;\n",
              "        }#T_4d155a48_5b16_11ec_8956_0242ac1c0002row4_col3,#T_4d155a48_5b16_11ec_8956_0242ac1c0002row6_col1{\n",
              "            background-color:  #94b6ff;\n",
              "            color:  #000000;\n",
              "        }#T_4d155a48_5b16_11ec_8956_0242ac1c0002row4_col5{\n",
              "            background-color:  #6282ea;\n",
              "            color:  #000000;\n",
              "        }#T_4d155a48_5b16_11ec_8956_0242ac1c0002row4_col6{\n",
              "            background-color:  #3c4ec2;\n",
              "            color:  #f1f1f1;\n",
              "        }#T_4d155a48_5b16_11ec_8956_0242ac1c0002row5_col1{\n",
              "            background-color:  #799cf8;\n",
              "            color:  #000000;\n",
              "        }#T_4d155a48_5b16_11ec_8956_0242ac1c0002row5_col2,#T_4d155a48_5b16_11ec_8956_0242ac1c0002row7_col4{\n",
              "            background-color:  #4e68d8;\n",
              "            color:  #000000;\n",
              "        }#T_4d155a48_5b16_11ec_8956_0242ac1c0002row5_col4{\n",
              "            background-color:  #6485ec;\n",
              "            color:  #000000;\n",
              "        }#T_4d155a48_5b16_11ec_8956_0242ac1c0002row5_col6{\n",
              "            background-color:  #3f53c6;\n",
              "            color:  #f1f1f1;\n",
              "        }#T_4d155a48_5b16_11ec_8956_0242ac1c0002row6_col0,#T_4d155a48_5b16_11ec_8956_0242ac1c0002row7_col0{\n",
              "            background-color:  #8fb1fe;\n",
              "            color:  #000000;\n",
              "        }#T_4d155a48_5b16_11ec_8956_0242ac1c0002row6_col2,#T_4d155a48_5b16_11ec_8956_0242ac1c0002row6_col4{\n",
              "            background-color:  #5673e0;\n",
              "            color:  #000000;\n",
              "        }#T_4d155a48_5b16_11ec_8956_0242ac1c0002row6_col3{\n",
              "            background-color:  #5a78e4;\n",
              "            color:  #000000;\n",
              "        }#T_4d155a48_5b16_11ec_8956_0242ac1c0002row6_col5{\n",
              "            background-color:  #5875e1;\n",
              "            color:  #000000;\n",
              "        }#T_4d155a48_5b16_11ec_8956_0242ac1c0002row6_col7{\n",
              "            background-color:  #f0cdbb;\n",
              "            color:  #000000;\n",
              "        }#T_4d155a48_5b16_11ec_8956_0242ac1c0002row7_col1{\n",
              "            background-color:  #aac7fd;\n",
              "            color:  #000000;\n",
              "        }#T_4d155a48_5b16_11ec_8956_0242ac1c0002row7_col2{\n",
              "            background-color:  #5977e3;\n",
              "            color:  #000000;\n",
              "        }#T_4d155a48_5b16_11ec_8956_0242ac1c0002row7_col5{\n",
              "            background-color:  #506bda;\n",
              "            color:  #000000;\n",
              "        }#T_4d155a48_5b16_11ec_8956_0242ac1c0002row7_col6{\n",
              "            background-color:  #edd2c3;\n",
              "            color:  #000000;\n",
              "        }</style><table id=\"T_4d155a48_5b16_11ec_8956_0242ac1c0002\" class=\"dataframe\"><thead>    <tr>        <th class=\"blank level0\" ></th>        <th class=\"col_heading level0 col0\" >Gender</th>        <th class=\"col_heading level0 col1\" >Married</th>        <th class=\"col_heading level0 col2\" >ApplicantIncome</th>        <th class=\"col_heading level0 col3\" >CoapplicantIncome</th>        <th class=\"col_heading level0 col4\" >LoanAmount</th>        <th class=\"col_heading level0 col5\" >Loan_Amount_Term</th>        <th class=\"col_heading level0 col6\" >Credit_History</th>        <th class=\"col_heading level0 col7\" >Loan_Status</th>    </tr></thead><tbody>\n",
              "                <tr>\n",
              "                        <th id=\"T_4d155a48_5b16_11ec_8956_0242ac1c0002level0_row0\" class=\"row_heading level0 row0\" >Gender</th>\n",
              "                        <td id=\"T_4d155a48_5b16_11ec_8956_0242ac1c0002row0_col0\" class=\"data row0 col0\" >1.00</td>\n",
              "                        <td id=\"T_4d155a48_5b16_11ec_8956_0242ac1c0002row0_col1\" class=\"data row0 col1\" >-0.36</td>\n",
              "                        <td id=\"T_4d155a48_5b16_11ec_8956_0242ac1c0002row0_col2\" class=\"data row0 col2\" >-0.06</td>\n",
              "                        <td id=\"T_4d155a48_5b16_11ec_8956_0242ac1c0002row0_col3\" class=\"data row0 col3\" >-0.08</td>\n",
              "                        <td id=\"T_4d155a48_5b16_11ec_8956_0242ac1c0002row0_col4\" class=\"data row0 col4\" >-0.11</td>\n",
              "                        <td id=\"T_4d155a48_5b16_11ec_8956_0242ac1c0002row0_col5\" class=\"data row0 col5\" >0.07</td>\n",
              "                        <td id=\"T_4d155a48_5b16_11ec_8956_0242ac1c0002row0_col6\" class=\"data row0 col6\" >-0.01</td>\n",
              "                        <td id=\"T_4d155a48_5b16_11ec_8956_0242ac1c0002row0_col7\" class=\"data row0 col7\" >-0.02</td>\n",
              "            </tr>\n",
              "            <tr>\n",
              "                        <th id=\"T_4d155a48_5b16_11ec_8956_0242ac1c0002level0_row1\" class=\"row_heading level0 row1\" >Married</th>\n",
              "                        <td id=\"T_4d155a48_5b16_11ec_8956_0242ac1c0002row1_col0\" class=\"data row1 col0\" >-0.36</td>\n",
              "                        <td id=\"T_4d155a48_5b16_11ec_8956_0242ac1c0002row1_col1\" class=\"data row1 col1\" >1.00</td>\n",
              "                        <td id=\"T_4d155a48_5b16_11ec_8956_0242ac1c0002row1_col2\" class=\"data row1 col2\" >0.05</td>\n",
              "                        <td id=\"T_4d155a48_5b16_11ec_8956_0242ac1c0002row1_col3\" class=\"data row1 col3\" >0.08</td>\n",
              "                        <td id=\"T_4d155a48_5b16_11ec_8956_0242ac1c0002row1_col4\" class=\"data row1 col4\" >0.15</td>\n",
              "                        <td id=\"T_4d155a48_5b16_11ec_8956_0242ac1c0002row1_col5\" class=\"data row1 col5\" >-0.10</td>\n",
              "                        <td id=\"T_4d155a48_5b16_11ec_8956_0242ac1c0002row1_col6\" class=\"data row1 col6\" >0.01</td>\n",
              "                        <td id=\"T_4d155a48_5b16_11ec_8956_0242ac1c0002row1_col7\" class=\"data row1 col7\" >0.09</td>\n",
              "            </tr>\n",
              "            <tr>\n",
              "                        <th id=\"T_4d155a48_5b16_11ec_8956_0242ac1c0002level0_row2\" class=\"row_heading level0 row2\" >ApplicantIncome</th>\n",
              "                        <td id=\"T_4d155a48_5b16_11ec_8956_0242ac1c0002row2_col0\" class=\"data row2 col0\" >-0.06</td>\n",
              "                        <td id=\"T_4d155a48_5b16_11ec_8956_0242ac1c0002row2_col1\" class=\"data row2 col1\" >0.05</td>\n",
              "                        <td id=\"T_4d155a48_5b16_11ec_8956_0242ac1c0002row2_col2\" class=\"data row2 col2\" >1.00</td>\n",
              "                        <td id=\"T_4d155a48_5b16_11ec_8956_0242ac1c0002row2_col3\" class=\"data row2 col3\" >-0.12</td>\n",
              "                        <td id=\"T_4d155a48_5b16_11ec_8956_0242ac1c0002row2_col4\" class=\"data row2 col4\" >0.57</td>\n",
              "                        <td id=\"T_4d155a48_5b16_11ec_8956_0242ac1c0002row2_col5\" class=\"data row2 col5\" >-0.05</td>\n",
              "                        <td id=\"T_4d155a48_5b16_11ec_8956_0242ac1c0002row2_col6\" class=\"data row2 col6\" >-0.01</td>\n",
              "                        <td id=\"T_4d155a48_5b16_11ec_8956_0242ac1c0002row2_col7\" class=\"data row2 col7\" >-0.00</td>\n",
              "            </tr>\n",
              "            <tr>\n",
              "                        <th id=\"T_4d155a48_5b16_11ec_8956_0242ac1c0002level0_row3\" class=\"row_heading level0 row3\" >CoapplicantIncome</th>\n",
              "                        <td id=\"T_4d155a48_5b16_11ec_8956_0242ac1c0002row3_col0\" class=\"data row3 col0\" >-0.08</td>\n",
              "                        <td id=\"T_4d155a48_5b16_11ec_8956_0242ac1c0002row3_col1\" class=\"data row3 col1\" >0.08</td>\n",
              "                        <td id=\"T_4d155a48_5b16_11ec_8956_0242ac1c0002row3_col2\" class=\"data row3 col2\" >-0.12</td>\n",
              "                        <td id=\"T_4d155a48_5b16_11ec_8956_0242ac1c0002row3_col3\" class=\"data row3 col3\" >1.00</td>\n",
              "                        <td id=\"T_4d155a48_5b16_11ec_8956_0242ac1c0002row3_col4\" class=\"data row3 col4\" >0.19</td>\n",
              "                        <td id=\"T_4d155a48_5b16_11ec_8956_0242ac1c0002row3_col5\" class=\"data row3 col5\" >-0.06</td>\n",
              "                        <td id=\"T_4d155a48_5b16_11ec_8956_0242ac1c0002row3_col6\" class=\"data row3 col6\" >-0.00</td>\n",
              "                        <td id=\"T_4d155a48_5b16_11ec_8956_0242ac1c0002row3_col7\" class=\"data row3 col7\" >-0.06</td>\n",
              "            </tr>\n",
              "            <tr>\n",
              "                        <th id=\"T_4d155a48_5b16_11ec_8956_0242ac1c0002level0_row4\" class=\"row_heading level0 row4\" >LoanAmount</th>\n",
              "                        <td id=\"T_4d155a48_5b16_11ec_8956_0242ac1c0002row4_col0\" class=\"data row4 col0\" >-0.11</td>\n",
              "                        <td id=\"T_4d155a48_5b16_11ec_8956_0242ac1c0002row4_col1\" class=\"data row4 col1\" >0.15</td>\n",
              "                        <td id=\"T_4d155a48_5b16_11ec_8956_0242ac1c0002row4_col2\" class=\"data row4 col2\" >0.57</td>\n",
              "                        <td id=\"T_4d155a48_5b16_11ec_8956_0242ac1c0002row4_col3\" class=\"data row4 col3\" >0.19</td>\n",
              "                        <td id=\"T_4d155a48_5b16_11ec_8956_0242ac1c0002row4_col4\" class=\"data row4 col4\" >1.00</td>\n",
              "                        <td id=\"T_4d155a48_5b16_11ec_8956_0242ac1c0002row4_col5\" class=\"data row4 col5\" >0.04</td>\n",
              "                        <td id=\"T_4d155a48_5b16_11ec_8956_0242ac1c0002row4_col6\" class=\"data row4 col6\" >-0.01</td>\n",
              "                        <td id=\"T_4d155a48_5b16_11ec_8956_0242ac1c0002row4_col7\" class=\"data row4 col7\" >-0.04</td>\n",
              "            </tr>\n",
              "            <tr>\n",
              "                        <th id=\"T_4d155a48_5b16_11ec_8956_0242ac1c0002level0_row5\" class=\"row_heading level0 row5\" >Loan_Amount_Term</th>\n",
              "                        <td id=\"T_4d155a48_5b16_11ec_8956_0242ac1c0002row5_col0\" class=\"data row5 col0\" >0.07</td>\n",
              "                        <td id=\"T_4d155a48_5b16_11ec_8956_0242ac1c0002row5_col1\" class=\"data row5 col1\" >-0.10</td>\n",
              "                        <td id=\"T_4d155a48_5b16_11ec_8956_0242ac1c0002row5_col2\" class=\"data row5 col2\" >-0.05</td>\n",
              "                        <td id=\"T_4d155a48_5b16_11ec_8956_0242ac1c0002row5_col3\" class=\"data row5 col3\" >-0.06</td>\n",
              "                        <td id=\"T_4d155a48_5b16_11ec_8956_0242ac1c0002row5_col4\" class=\"data row5 col4\" >0.04</td>\n",
              "                        <td id=\"T_4d155a48_5b16_11ec_8956_0242ac1c0002row5_col5\" class=\"data row5 col5\" >1.00</td>\n",
              "                        <td id=\"T_4d155a48_5b16_11ec_8956_0242ac1c0002row5_col6\" class=\"data row5 col6\" >0.00</td>\n",
              "                        <td id=\"T_4d155a48_5b16_11ec_8956_0242ac1c0002row5_col7\" class=\"data row5 col7\" >-0.02</td>\n",
              "            </tr>\n",
              "            <tr>\n",
              "                        <th id=\"T_4d155a48_5b16_11ec_8956_0242ac1c0002level0_row6\" class=\"row_heading level0 row6\" >Credit_History</th>\n",
              "                        <td id=\"T_4d155a48_5b16_11ec_8956_0242ac1c0002row6_col0\" class=\"data row6 col0\" >-0.01</td>\n",
              "                        <td id=\"T_4d155a48_5b16_11ec_8956_0242ac1c0002row6_col1\" class=\"data row6 col1\" >0.01</td>\n",
              "                        <td id=\"T_4d155a48_5b16_11ec_8956_0242ac1c0002row6_col2\" class=\"data row6 col2\" >-0.01</td>\n",
              "                        <td id=\"T_4d155a48_5b16_11ec_8956_0242ac1c0002row6_col3\" class=\"data row6 col3\" >-0.00</td>\n",
              "                        <td id=\"T_4d155a48_5b16_11ec_8956_0242ac1c0002row6_col4\" class=\"data row6 col4\" >-0.01</td>\n",
              "                        <td id=\"T_4d155a48_5b16_11ec_8956_0242ac1c0002row6_col5\" class=\"data row6 col5\" >0.00</td>\n",
              "                        <td id=\"T_4d155a48_5b16_11ec_8956_0242ac1c0002row6_col6\" class=\"data row6 col6\" >1.00</td>\n",
              "                        <td id=\"T_4d155a48_5b16_11ec_8956_0242ac1c0002row6_col7\" class=\"data row6 col7\" >0.56</td>\n",
              "            </tr>\n",
              "            <tr>\n",
              "                        <th id=\"T_4d155a48_5b16_11ec_8956_0242ac1c0002level0_row7\" class=\"row_heading level0 row7\" >Loan_Status</th>\n",
              "                        <td id=\"T_4d155a48_5b16_11ec_8956_0242ac1c0002row7_col0\" class=\"data row7 col0\" >-0.02</td>\n",
              "                        <td id=\"T_4d155a48_5b16_11ec_8956_0242ac1c0002row7_col1\" class=\"data row7 col1\" >0.09</td>\n",
              "                        <td id=\"T_4d155a48_5b16_11ec_8956_0242ac1c0002row7_col2\" class=\"data row7 col2\" >-0.00</td>\n",
              "                        <td id=\"T_4d155a48_5b16_11ec_8956_0242ac1c0002row7_col3\" class=\"data row7 col3\" >-0.06</td>\n",
              "                        <td id=\"T_4d155a48_5b16_11ec_8956_0242ac1c0002row7_col4\" class=\"data row7 col4\" >-0.04</td>\n",
              "                        <td id=\"T_4d155a48_5b16_11ec_8956_0242ac1c0002row7_col5\" class=\"data row7 col5\" >-0.02</td>\n",
              "                        <td id=\"T_4d155a48_5b16_11ec_8956_0242ac1c0002row7_col6\" class=\"data row7 col6\" >0.56</td>\n",
              "                        <td id=\"T_4d155a48_5b16_11ec_8956_0242ac1c0002row7_col7\" class=\"data row7 col7\" >1.00</td>\n",
              "            </tr>\n",
              "    </tbody></table>"
            ],
            "text/plain": [
              "<pandas.io.formats.style.Styler at 0x7f42b233c590>"
            ]
          },
          "metadata": {},
          "execution_count": 33
        }
      ]
    },
    {
      "cell_type": "code",
      "source": [
        "train.isnull().sum()"
      ],
      "metadata": {
        "colab": {
          "base_uri": "https://localhost:8080/"
        },
        "id": "d_pAh4rYBS16",
        "outputId": "70d2b112-b4fc-40a1-8ba7-bfc58c75db12"
      },
      "execution_count": 34,
      "outputs": [
        {
          "output_type": "execute_result",
          "data": {
            "text/plain": [
              "Gender                0\n",
              "Married               0\n",
              "Dependents            0\n",
              "Education             0\n",
              "Self_Employed        32\n",
              "ApplicantIncome       0\n",
              "CoapplicantIncome     0\n",
              "LoanAmount           22\n",
              "Loan_Amount_Term     14\n",
              "Credit_History       50\n",
              "Property_Area         0\n",
              "Loan_Status           0\n",
              "dtype: int64"
            ]
          },
          "metadata": {},
          "execution_count": 34
        }
      ]
    },
    {
      "cell_type": "code",
      "source": [
        "train['Self_Employed'].value_counts()"
      ],
      "metadata": {
        "colab": {
          "base_uri": "https://localhost:8080/"
        },
        "id": "VV0_yQhQBYtA",
        "outputId": "17fce96e-7b93-4667-d24c-0a68438de651"
      },
      "execution_count": 35,
      "outputs": [
        {
          "output_type": "execute_result",
          "data": {
            "text/plain": [
              "No     500\n",
              "Yes     82\n",
              "Name: Self_Employed, dtype: int64"
            ]
          },
          "metadata": {},
          "execution_count": 35
        }
      ]
    },
    {
      "cell_type": "code",
      "source": [
        "test['Self_Employed'].value_counts()"
      ],
      "metadata": {
        "colab": {
          "base_uri": "https://localhost:8080/"
        },
        "id": "vGX0gERmBT2v",
        "outputId": "d06629c0-500c-4186-e46a-6ca9750189e8"
      },
      "execution_count": 36,
      "outputs": [
        {
          "output_type": "execute_result",
          "data": {
            "text/plain": [
              "No     307\n",
              "Yes     37\n",
              "Name: Self_Employed, dtype: int64"
            ]
          },
          "metadata": {},
          "execution_count": 36
        }
      ]
    },
    {
      "cell_type": "code",
      "source": [
        "train[\"Self_Employed\"].fillna('No', inplace = True)\n",
        "test[\"Self_Employed\"].fillna('No', inplace = True)"
      ],
      "metadata": {
        "id": "rjWaYHT6Be7Z"
      },
      "execution_count": 37,
      "outputs": []
    },
    {
      "cell_type": "code",
      "source": [
        "d={'No':0, 'Yes':1}\n",
        "train['Self_Employed']=train['Self_Employed'].apply(lambda x:d[x])"
      ],
      "metadata": {
        "id": "XpYrJMBLBlub"
      },
      "execution_count": 38,
      "outputs": []
    },
    {
      "cell_type": "code",
      "source": [
        "corr = train.corr()\n",
        "corr.style.background_gradient(cmap='coolwarm').set_precision(2)"
      ],
      "metadata": {
        "colab": {
          "base_uri": "https://localhost:8080/",
          "height": 331
        },
        "id": "PKlCHjcqBq23",
        "outputId": "6b630d11-cd60-4b44-c2e1-a7ca828807af"
      },
      "execution_count": 39,
      "outputs": [
        {
          "output_type": "execute_result",
          "data": {
            "text/html": [
              "<style  type=\"text/css\" >\n",
              "#T_4d2553b2_5b16_11ec_8956_0242ac1c0002row0_col0,#T_4d2553b2_5b16_11ec_8956_0242ac1c0002row1_col1,#T_4d2553b2_5b16_11ec_8956_0242ac1c0002row2_col2,#T_4d2553b2_5b16_11ec_8956_0242ac1c0002row3_col3,#T_4d2553b2_5b16_11ec_8956_0242ac1c0002row4_col4,#T_4d2553b2_5b16_11ec_8956_0242ac1c0002row5_col5,#T_4d2553b2_5b16_11ec_8956_0242ac1c0002row6_col6,#T_4d2553b2_5b16_11ec_8956_0242ac1c0002row7_col7,#T_4d2553b2_5b16_11ec_8956_0242ac1c0002row8_col8{\n",
              "            background-color:  #b40426;\n",
              "            color:  #f1f1f1;\n",
              "        }#T_4d2553b2_5b16_11ec_8956_0242ac1c0002row0_col1,#T_4d2553b2_5b16_11ec_8956_0242ac1c0002row0_col5,#T_4d2553b2_5b16_11ec_8956_0242ac1c0002row0_col7,#T_4d2553b2_5b16_11ec_8956_0242ac1c0002row1_col0,#T_4d2553b2_5b16_11ec_8956_0242ac1c0002row1_col6,#T_4d2553b2_5b16_11ec_8956_0242ac1c0002row3_col4,#T_4d2553b2_5b16_11ec_8956_0242ac1c0002row3_col7,#T_4d2553b2_5b16_11ec_8956_0242ac1c0002row4_col3,#T_4d2553b2_5b16_11ec_8956_0242ac1c0002row4_col8,#T_4d2553b2_5b16_11ec_8956_0242ac1c0002row6_col2{\n",
              "            background-color:  #3b4cc0;\n",
              "            color:  #f1f1f1;\n",
              "        }#T_4d2553b2_5b16_11ec_8956_0242ac1c0002row0_col2{\n",
              "            background-color:  #445acc;\n",
              "            color:  #f1f1f1;\n",
              "        }#T_4d2553b2_5b16_11ec_8956_0242ac1c0002row0_col3,#T_4d2553b2_5b16_11ec_8956_0242ac1c0002row2_col8,#T_4d2553b2_5b16_11ec_8956_0242ac1c0002row3_col6,#T_4d2553b2_5b16_11ec_8956_0242ac1c0002row3_col8,#T_4d2553b2_5b16_11ec_8956_0242ac1c0002row6_col4,#T_4d2553b2_5b16_11ec_8956_0242ac1c0002row8_col4{\n",
              "            background-color:  #4a63d3;\n",
              "            color:  #f1f1f1;\n",
              "        }#T_4d2553b2_5b16_11ec_8956_0242ac1c0002row0_col4,#T_4d2553b2_5b16_11ec_8956_0242ac1c0002row7_col2,#T_4d2553b2_5b16_11ec_8956_0242ac1c0002row8_col2{\n",
              "            background-color:  #4358cb;\n",
              "            color:  #f1f1f1;\n",
              "        }#T_4d2553b2_5b16_11ec_8956_0242ac1c0002row0_col6{\n",
              "            background-color:  #6e90f2;\n",
              "            color:  #000000;\n",
              "        }#T_4d2553b2_5b16_11ec_8956_0242ac1c0002row0_col8,#T_4d2553b2_5b16_11ec_8956_0242ac1c0002row1_col2,#T_4d2553b2_5b16_11ec_8956_0242ac1c0002row4_col6,#T_4d2553b2_5b16_11ec_8956_0242ac1c0002row6_col8{\n",
              "            background-color:  #455cce;\n",
              "            color:  #f1f1f1;\n",
              "        }#T_4d2553b2_5b16_11ec_8956_0242ac1c0002row1_col3{\n",
              "            background-color:  #6a8bef;\n",
              "            color:  #000000;\n",
              "        }#T_4d2553b2_5b16_11ec_8956_0242ac1c0002row1_col4{\n",
              "            background-color:  #7295f4;\n",
              "            color:  #000000;\n",
              "        }#T_4d2553b2_5b16_11ec_8956_0242ac1c0002row1_col5{\n",
              "            background-color:  #86a9fc;\n",
              "            color:  #000000;\n",
              "        }#T_4d2553b2_5b16_11ec_8956_0242ac1c0002row1_col7,#T_4d2553b2_5b16_11ec_8956_0242ac1c0002row5_col8{\n",
              "            background-color:  #4055c8;\n",
              "            color:  #f1f1f1;\n",
              "        }#T_4d2553b2_5b16_11ec_8956_0242ac1c0002row1_col8{\n",
              "            background-color:  #6788ee;\n",
              "            color:  #000000;\n",
              "        }#T_4d2553b2_5b16_11ec_8956_0242ac1c0002row2_col0,#T_4d2553b2_5b16_11ec_8956_0242ac1c0002row4_col5{\n",
              "            background-color:  #93b5fe;\n",
              "            color:  #000000;\n",
              "        }#T_4d2553b2_5b16_11ec_8956_0242ac1c0002row2_col1,#T_4d2553b2_5b16_11ec_8956_0242ac1c0002row5_col4,#T_4d2553b2_5b16_11ec_8956_0242ac1c0002row7_col1{\n",
              "            background-color:  #94b6ff;\n",
              "            color:  #000000;\n",
              "        }#T_4d2553b2_5b16_11ec_8956_0242ac1c0002row2_col3{\n",
              "            background-color:  #81a4fb;\n",
              "            color:  #000000;\n",
              "        }#T_4d2553b2_5b16_11ec_8956_0242ac1c0002row2_col4,#T_4d2553b2_5b16_11ec_8956_0242ac1c0002row7_col3,#T_4d2553b2_5b16_11ec_8956_0242ac1c0002row7_col5{\n",
              "            background-color:  #5673e0;\n",
              "            color:  #000000;\n",
              "        }#T_4d2553b2_5b16_11ec_8956_0242ac1c0002row2_col5,#T_4d2553b2_5b16_11ec_8956_0242ac1c0002row4_col0{\n",
              "            background-color:  #7da0f9;\n",
              "            color:  #000000;\n",
              "        }#T_4d2553b2_5b16_11ec_8956_0242ac1c0002row2_col6{\n",
              "            background-color:  #4c66d6;\n",
              "            color:  #000000;\n",
              "        }#T_4d2553b2_5b16_11ec_8956_0242ac1c0002row2_col7,#T_4d2553b2_5b16_11ec_8956_0242ac1c0002row4_col7{\n",
              "            background-color:  #3e51c5;\n",
              "            color:  #f1f1f1;\n",
              "        }#T_4d2553b2_5b16_11ec_8956_0242ac1c0002row3_col0{\n",
              "            background-color:  #84a7fc;\n",
              "            color:  #000000;\n",
              "        }#T_4d2553b2_5b16_11ec_8956_0242ac1c0002row3_col1{\n",
              "            background-color:  #a1c0ff;\n",
              "            color:  #000000;\n",
              "        }#T_4d2553b2_5b16_11ec_8956_0242ac1c0002row3_col2{\n",
              "            background-color:  #6b8df0;\n",
              "            color:  #000000;\n",
              "        }#T_4d2553b2_5b16_11ec_8956_0242ac1c0002row3_col5{\n",
              "            background-color:  #f3c8b2;\n",
              "            color:  #000000;\n",
              "        }#T_4d2553b2_5b16_11ec_8956_0242ac1c0002row4_col1,#T_4d2553b2_5b16_11ec_8956_0242ac1c0002row6_col0{\n",
              "            background-color:  #a6c4fe;\n",
              "            color:  #000000;\n",
              "        }#T_4d2553b2_5b16_11ec_8956_0242ac1c0002row4_col2,#T_4d2553b2_5b16_11ec_8956_0242ac1c0002row6_col7{\n",
              "            background-color:  #3f53c6;\n",
              "            color:  #f1f1f1;\n",
              "        }#T_4d2553b2_5b16_11ec_8956_0242ac1c0002row5_col0{\n",
              "            background-color:  #7699f6;\n",
              "            color:  #000000;\n",
              "        }#T_4d2553b2_5b16_11ec_8956_0242ac1c0002row5_col1{\n",
              "            background-color:  #b9d0f9;\n",
              "            color:  #000000;\n",
              "        }#T_4d2553b2_5b16_11ec_8956_0242ac1c0002row5_col2{\n",
              "            background-color:  #688aef;\n",
              "            color:  #000000;\n",
              "        }#T_4d2553b2_5b16_11ec_8956_0242ac1c0002row5_col3{\n",
              "            background-color:  #f3c7b1;\n",
              "            color:  #000000;\n",
              "        }#T_4d2553b2_5b16_11ec_8956_0242ac1c0002row5_col6{\n",
              "            background-color:  #6282ea;\n",
              "            color:  #000000;\n",
              "        }#T_4d2553b2_5b16_11ec_8956_0242ac1c0002row5_col7{\n",
              "            background-color:  #3c4ec2;\n",
              "            color:  #f1f1f1;\n",
              "        }#T_4d2553b2_5b16_11ec_8956_0242ac1c0002row6_col1{\n",
              "            background-color:  #799cf8;\n",
              "            color:  #000000;\n",
              "        }#T_4d2553b2_5b16_11ec_8956_0242ac1c0002row6_col3,#T_4d2553b2_5b16_11ec_8956_0242ac1c0002row8_col5{\n",
              "            background-color:  #4e68d8;\n",
              "            color:  #000000;\n",
              "        }#T_4d2553b2_5b16_11ec_8956_0242ac1c0002row6_col5{\n",
              "            background-color:  #6485ec;\n",
              "            color:  #000000;\n",
              "        }#T_4d2553b2_5b16_11ec_8956_0242ac1c0002row7_col0,#T_4d2553b2_5b16_11ec_8956_0242ac1c0002row8_col0{\n",
              "            background-color:  #8fb1fe;\n",
              "            color:  #000000;\n",
              "        }#T_4d2553b2_5b16_11ec_8956_0242ac1c0002row7_col4{\n",
              "            background-color:  #5a78e4;\n",
              "            color:  #000000;\n",
              "        }#T_4d2553b2_5b16_11ec_8956_0242ac1c0002row7_col6{\n",
              "            background-color:  #5875e1;\n",
              "            color:  #000000;\n",
              "        }#T_4d2553b2_5b16_11ec_8956_0242ac1c0002row7_col8{\n",
              "            background-color:  #f0cdbb;\n",
              "            color:  #000000;\n",
              "        }#T_4d2553b2_5b16_11ec_8956_0242ac1c0002row8_col1{\n",
              "            background-color:  #aac7fd;\n",
              "            color:  #000000;\n",
              "        }#T_4d2553b2_5b16_11ec_8956_0242ac1c0002row8_col3{\n",
              "            background-color:  #5977e3;\n",
              "            color:  #000000;\n",
              "        }#T_4d2553b2_5b16_11ec_8956_0242ac1c0002row8_col6{\n",
              "            background-color:  #506bda;\n",
              "            color:  #000000;\n",
              "        }#T_4d2553b2_5b16_11ec_8956_0242ac1c0002row8_col7{\n",
              "            background-color:  #edd2c3;\n",
              "            color:  #000000;\n",
              "        }</style><table id=\"T_4d2553b2_5b16_11ec_8956_0242ac1c0002\" class=\"dataframe\"><thead>    <tr>        <th class=\"blank level0\" ></th>        <th class=\"col_heading level0 col0\" >Gender</th>        <th class=\"col_heading level0 col1\" >Married</th>        <th class=\"col_heading level0 col2\" >Self_Employed</th>        <th class=\"col_heading level0 col3\" >ApplicantIncome</th>        <th class=\"col_heading level0 col4\" >CoapplicantIncome</th>        <th class=\"col_heading level0 col5\" >LoanAmount</th>        <th class=\"col_heading level0 col6\" >Loan_Amount_Term</th>        <th class=\"col_heading level0 col7\" >Credit_History</th>        <th class=\"col_heading level0 col8\" >Loan_Status</th>    </tr></thead><tbody>\n",
              "                <tr>\n",
              "                        <th id=\"T_4d2553b2_5b16_11ec_8956_0242ac1c0002level0_row0\" class=\"row_heading level0 row0\" >Gender</th>\n",
              "                        <td id=\"T_4d2553b2_5b16_11ec_8956_0242ac1c0002row0_col0\" class=\"data row0 col0\" >1.00</td>\n",
              "                        <td id=\"T_4d2553b2_5b16_11ec_8956_0242ac1c0002row0_col1\" class=\"data row0 col1\" >-0.36</td>\n",
              "                        <td id=\"T_4d2553b2_5b16_11ec_8956_0242ac1c0002row0_col2\" class=\"data row0 col2\" >0.00</td>\n",
              "                        <td id=\"T_4d2553b2_5b16_11ec_8956_0242ac1c0002row0_col3\" class=\"data row0 col3\" >-0.06</td>\n",
              "                        <td id=\"T_4d2553b2_5b16_11ec_8956_0242ac1c0002row0_col4\" class=\"data row0 col4\" >-0.08</td>\n",
              "                        <td id=\"T_4d2553b2_5b16_11ec_8956_0242ac1c0002row0_col5\" class=\"data row0 col5\" >-0.11</td>\n",
              "                        <td id=\"T_4d2553b2_5b16_11ec_8956_0242ac1c0002row0_col6\" class=\"data row0 col6\" >0.07</td>\n",
              "                        <td id=\"T_4d2553b2_5b16_11ec_8956_0242ac1c0002row0_col7\" class=\"data row0 col7\" >-0.01</td>\n",
              "                        <td id=\"T_4d2553b2_5b16_11ec_8956_0242ac1c0002row0_col8\" class=\"data row0 col8\" >-0.02</td>\n",
              "            </tr>\n",
              "            <tr>\n",
              "                        <th id=\"T_4d2553b2_5b16_11ec_8956_0242ac1c0002level0_row1\" class=\"row_heading level0 row1\" >Married</th>\n",
              "                        <td id=\"T_4d2553b2_5b16_11ec_8956_0242ac1c0002row1_col0\" class=\"data row1 col0\" >-0.36</td>\n",
              "                        <td id=\"T_4d2553b2_5b16_11ec_8956_0242ac1c0002row1_col1\" class=\"data row1 col1\" >1.00</td>\n",
              "                        <td id=\"T_4d2553b2_5b16_11ec_8956_0242ac1c0002row1_col2\" class=\"data row1 col2\" >0.00</td>\n",
              "                        <td id=\"T_4d2553b2_5b16_11ec_8956_0242ac1c0002row1_col3\" class=\"data row1 col3\" >0.05</td>\n",
              "                        <td id=\"T_4d2553b2_5b16_11ec_8956_0242ac1c0002row1_col4\" class=\"data row1 col4\" >0.08</td>\n",
              "                        <td id=\"T_4d2553b2_5b16_11ec_8956_0242ac1c0002row1_col5\" class=\"data row1 col5\" >0.15</td>\n",
              "                        <td id=\"T_4d2553b2_5b16_11ec_8956_0242ac1c0002row1_col6\" class=\"data row1 col6\" >-0.10</td>\n",
              "                        <td id=\"T_4d2553b2_5b16_11ec_8956_0242ac1c0002row1_col7\" class=\"data row1 col7\" >0.01</td>\n",
              "                        <td id=\"T_4d2553b2_5b16_11ec_8956_0242ac1c0002row1_col8\" class=\"data row1 col8\" >0.09</td>\n",
              "            </tr>\n",
              "            <tr>\n",
              "                        <th id=\"T_4d2553b2_5b16_11ec_8956_0242ac1c0002level0_row2\" class=\"row_heading level0 row2\" >Self_Employed</th>\n",
              "                        <td id=\"T_4d2553b2_5b16_11ec_8956_0242ac1c0002row2_col0\" class=\"data row2 col0\" >0.00</td>\n",
              "                        <td id=\"T_4d2553b2_5b16_11ec_8956_0242ac1c0002row2_col1\" class=\"data row2 col1\" >0.00</td>\n",
              "                        <td id=\"T_4d2553b2_5b16_11ec_8956_0242ac1c0002row2_col2\" class=\"data row2 col2\" >1.00</td>\n",
              "                        <td id=\"T_4d2553b2_5b16_11ec_8956_0242ac1c0002row2_col3\" class=\"data row2 col3\" >0.13</td>\n",
              "                        <td id=\"T_4d2553b2_5b16_11ec_8956_0242ac1c0002row2_col4\" class=\"data row2 col4\" >-0.02</td>\n",
              "                        <td id=\"T_4d2553b2_5b16_11ec_8956_0242ac1c0002row2_col5\" class=\"data row2 col5\" >0.12</td>\n",
              "                        <td id=\"T_4d2553b2_5b16_11ec_8956_0242ac1c0002row2_col6\" class=\"data row2 col6\" >-0.03</td>\n",
              "                        <td id=\"T_4d2553b2_5b16_11ec_8956_0242ac1c0002row2_col7\" class=\"data row2 col7\" >-0.00</td>\n",
              "                        <td id=\"T_4d2553b2_5b16_11ec_8956_0242ac1c0002row2_col8\" class=\"data row2 col8\" >-0.00</td>\n",
              "            </tr>\n",
              "            <tr>\n",
              "                        <th id=\"T_4d2553b2_5b16_11ec_8956_0242ac1c0002level0_row3\" class=\"row_heading level0 row3\" >ApplicantIncome</th>\n",
              "                        <td id=\"T_4d2553b2_5b16_11ec_8956_0242ac1c0002row3_col0\" class=\"data row3 col0\" >-0.06</td>\n",
              "                        <td id=\"T_4d2553b2_5b16_11ec_8956_0242ac1c0002row3_col1\" class=\"data row3 col1\" >0.05</td>\n",
              "                        <td id=\"T_4d2553b2_5b16_11ec_8956_0242ac1c0002row3_col2\" class=\"data row3 col2\" >0.13</td>\n",
              "                        <td id=\"T_4d2553b2_5b16_11ec_8956_0242ac1c0002row3_col3\" class=\"data row3 col3\" >1.00</td>\n",
              "                        <td id=\"T_4d2553b2_5b16_11ec_8956_0242ac1c0002row3_col4\" class=\"data row3 col4\" >-0.12</td>\n",
              "                        <td id=\"T_4d2553b2_5b16_11ec_8956_0242ac1c0002row3_col5\" class=\"data row3 col5\" >0.57</td>\n",
              "                        <td id=\"T_4d2553b2_5b16_11ec_8956_0242ac1c0002row3_col6\" class=\"data row3 col6\" >-0.05</td>\n",
              "                        <td id=\"T_4d2553b2_5b16_11ec_8956_0242ac1c0002row3_col7\" class=\"data row3 col7\" >-0.01</td>\n",
              "                        <td id=\"T_4d2553b2_5b16_11ec_8956_0242ac1c0002row3_col8\" class=\"data row3 col8\" >-0.00</td>\n",
              "            </tr>\n",
              "            <tr>\n",
              "                        <th id=\"T_4d2553b2_5b16_11ec_8956_0242ac1c0002level0_row4\" class=\"row_heading level0 row4\" >CoapplicantIncome</th>\n",
              "                        <td id=\"T_4d2553b2_5b16_11ec_8956_0242ac1c0002row4_col0\" class=\"data row4 col0\" >-0.08</td>\n",
              "                        <td id=\"T_4d2553b2_5b16_11ec_8956_0242ac1c0002row4_col1\" class=\"data row4 col1\" >0.08</td>\n",
              "                        <td id=\"T_4d2553b2_5b16_11ec_8956_0242ac1c0002row4_col2\" class=\"data row4 col2\" >-0.02</td>\n",
              "                        <td id=\"T_4d2553b2_5b16_11ec_8956_0242ac1c0002row4_col3\" class=\"data row4 col3\" >-0.12</td>\n",
              "                        <td id=\"T_4d2553b2_5b16_11ec_8956_0242ac1c0002row4_col4\" class=\"data row4 col4\" >1.00</td>\n",
              "                        <td id=\"T_4d2553b2_5b16_11ec_8956_0242ac1c0002row4_col5\" class=\"data row4 col5\" >0.19</td>\n",
              "                        <td id=\"T_4d2553b2_5b16_11ec_8956_0242ac1c0002row4_col6\" class=\"data row4 col6\" >-0.06</td>\n",
              "                        <td id=\"T_4d2553b2_5b16_11ec_8956_0242ac1c0002row4_col7\" class=\"data row4 col7\" >-0.00</td>\n",
              "                        <td id=\"T_4d2553b2_5b16_11ec_8956_0242ac1c0002row4_col8\" class=\"data row4 col8\" >-0.06</td>\n",
              "            </tr>\n",
              "            <tr>\n",
              "                        <th id=\"T_4d2553b2_5b16_11ec_8956_0242ac1c0002level0_row5\" class=\"row_heading level0 row5\" >LoanAmount</th>\n",
              "                        <td id=\"T_4d2553b2_5b16_11ec_8956_0242ac1c0002row5_col0\" class=\"data row5 col0\" >-0.11</td>\n",
              "                        <td id=\"T_4d2553b2_5b16_11ec_8956_0242ac1c0002row5_col1\" class=\"data row5 col1\" >0.15</td>\n",
              "                        <td id=\"T_4d2553b2_5b16_11ec_8956_0242ac1c0002row5_col2\" class=\"data row5 col2\" >0.12</td>\n",
              "                        <td id=\"T_4d2553b2_5b16_11ec_8956_0242ac1c0002row5_col3\" class=\"data row5 col3\" >0.57</td>\n",
              "                        <td id=\"T_4d2553b2_5b16_11ec_8956_0242ac1c0002row5_col4\" class=\"data row5 col4\" >0.19</td>\n",
              "                        <td id=\"T_4d2553b2_5b16_11ec_8956_0242ac1c0002row5_col5\" class=\"data row5 col5\" >1.00</td>\n",
              "                        <td id=\"T_4d2553b2_5b16_11ec_8956_0242ac1c0002row5_col6\" class=\"data row5 col6\" >0.04</td>\n",
              "                        <td id=\"T_4d2553b2_5b16_11ec_8956_0242ac1c0002row5_col7\" class=\"data row5 col7\" >-0.01</td>\n",
              "                        <td id=\"T_4d2553b2_5b16_11ec_8956_0242ac1c0002row5_col8\" class=\"data row5 col8\" >-0.04</td>\n",
              "            </tr>\n",
              "            <tr>\n",
              "                        <th id=\"T_4d2553b2_5b16_11ec_8956_0242ac1c0002level0_row6\" class=\"row_heading level0 row6\" >Loan_Amount_Term</th>\n",
              "                        <td id=\"T_4d2553b2_5b16_11ec_8956_0242ac1c0002row6_col0\" class=\"data row6 col0\" >0.07</td>\n",
              "                        <td id=\"T_4d2553b2_5b16_11ec_8956_0242ac1c0002row6_col1\" class=\"data row6 col1\" >-0.10</td>\n",
              "                        <td id=\"T_4d2553b2_5b16_11ec_8956_0242ac1c0002row6_col2\" class=\"data row6 col2\" >-0.03</td>\n",
              "                        <td id=\"T_4d2553b2_5b16_11ec_8956_0242ac1c0002row6_col3\" class=\"data row6 col3\" >-0.05</td>\n",
              "                        <td id=\"T_4d2553b2_5b16_11ec_8956_0242ac1c0002row6_col4\" class=\"data row6 col4\" >-0.06</td>\n",
              "                        <td id=\"T_4d2553b2_5b16_11ec_8956_0242ac1c0002row6_col5\" class=\"data row6 col5\" >0.04</td>\n",
              "                        <td id=\"T_4d2553b2_5b16_11ec_8956_0242ac1c0002row6_col6\" class=\"data row6 col6\" >1.00</td>\n",
              "                        <td id=\"T_4d2553b2_5b16_11ec_8956_0242ac1c0002row6_col7\" class=\"data row6 col7\" >0.00</td>\n",
              "                        <td id=\"T_4d2553b2_5b16_11ec_8956_0242ac1c0002row6_col8\" class=\"data row6 col8\" >-0.02</td>\n",
              "            </tr>\n",
              "            <tr>\n",
              "                        <th id=\"T_4d2553b2_5b16_11ec_8956_0242ac1c0002level0_row7\" class=\"row_heading level0 row7\" >Credit_History</th>\n",
              "                        <td id=\"T_4d2553b2_5b16_11ec_8956_0242ac1c0002row7_col0\" class=\"data row7 col0\" >-0.01</td>\n",
              "                        <td id=\"T_4d2553b2_5b16_11ec_8956_0242ac1c0002row7_col1\" class=\"data row7 col1\" >0.01</td>\n",
              "                        <td id=\"T_4d2553b2_5b16_11ec_8956_0242ac1c0002row7_col2\" class=\"data row7 col2\" >-0.00</td>\n",
              "                        <td id=\"T_4d2553b2_5b16_11ec_8956_0242ac1c0002row7_col3\" class=\"data row7 col3\" >-0.01</td>\n",
              "                        <td id=\"T_4d2553b2_5b16_11ec_8956_0242ac1c0002row7_col4\" class=\"data row7 col4\" >-0.00</td>\n",
              "                        <td id=\"T_4d2553b2_5b16_11ec_8956_0242ac1c0002row7_col5\" class=\"data row7 col5\" >-0.01</td>\n",
              "                        <td id=\"T_4d2553b2_5b16_11ec_8956_0242ac1c0002row7_col6\" class=\"data row7 col6\" >0.00</td>\n",
              "                        <td id=\"T_4d2553b2_5b16_11ec_8956_0242ac1c0002row7_col7\" class=\"data row7 col7\" >1.00</td>\n",
              "                        <td id=\"T_4d2553b2_5b16_11ec_8956_0242ac1c0002row7_col8\" class=\"data row7 col8\" >0.56</td>\n",
              "            </tr>\n",
              "            <tr>\n",
              "                        <th id=\"T_4d2553b2_5b16_11ec_8956_0242ac1c0002level0_row8\" class=\"row_heading level0 row8\" >Loan_Status</th>\n",
              "                        <td id=\"T_4d2553b2_5b16_11ec_8956_0242ac1c0002row8_col0\" class=\"data row8 col0\" >-0.02</td>\n",
              "                        <td id=\"T_4d2553b2_5b16_11ec_8956_0242ac1c0002row8_col1\" class=\"data row8 col1\" >0.09</td>\n",
              "                        <td id=\"T_4d2553b2_5b16_11ec_8956_0242ac1c0002row8_col2\" class=\"data row8 col2\" >-0.00</td>\n",
              "                        <td id=\"T_4d2553b2_5b16_11ec_8956_0242ac1c0002row8_col3\" class=\"data row8 col3\" >-0.00</td>\n",
              "                        <td id=\"T_4d2553b2_5b16_11ec_8956_0242ac1c0002row8_col4\" class=\"data row8 col4\" >-0.06</td>\n",
              "                        <td id=\"T_4d2553b2_5b16_11ec_8956_0242ac1c0002row8_col5\" class=\"data row8 col5\" >-0.04</td>\n",
              "                        <td id=\"T_4d2553b2_5b16_11ec_8956_0242ac1c0002row8_col6\" class=\"data row8 col6\" >-0.02</td>\n",
              "                        <td id=\"T_4d2553b2_5b16_11ec_8956_0242ac1c0002row8_col7\" class=\"data row8 col7\" >0.56</td>\n",
              "                        <td id=\"T_4d2553b2_5b16_11ec_8956_0242ac1c0002row8_col8\" class=\"data row8 col8\" >1.00</td>\n",
              "            </tr>\n",
              "    </tbody></table>"
            ],
            "text/plain": [
              "<pandas.io.formats.style.Styler at 0x7f42b2398350>"
            ]
          },
          "metadata": {},
          "execution_count": 39
        }
      ]
    },
    {
      "cell_type": "code",
      "source": [
        "print(f\"categorial list:- {categorial_list}\")"
      ],
      "metadata": {
        "colab": {
          "base_uri": "https://localhost:8080/"
        },
        "id": "aVydEBc9CiFi",
        "outputId": "a50d828f-a0d8-44cc-8ce6-bd3af4055e03"
      },
      "execution_count": 40,
      "outputs": [
        {
          "output_type": "stream",
          "name": "stdout",
          "text": [
            "categorial list:- ['Gender', 'Married', 'Dependents', 'Education', 'Self_Employed', 'Property_Area', 'Loan_Status']\n"
          ]
        }
      ]
    },
    {
      "cell_type": "code",
      "source": [
        "test['Education'].value_counts()"
      ],
      "metadata": {
        "colab": {
          "base_uri": "https://localhost:8080/"
        },
        "id": "LBtMO-TSCku2",
        "outputId": "df2eeba7-82be-4a95-c303-a35da209e62b"
      },
      "execution_count": 41,
      "outputs": [
        {
          "output_type": "execute_result",
          "data": {
            "text/plain": [
              "Graduate        283\n",
              "Not Graduate     84\n",
              "Name: Education, dtype: int64"
            ]
          },
          "metadata": {},
          "execution_count": 41
        }
      ]
    },
    {
      "cell_type": "code",
      "source": [
        "sns.set_style('whitegrid')\n",
        "sns.countplot(x='Education',hue='Loan_Status',data=train,palette='RdBu_r')"
      ],
      "metadata": {
        "colab": {
          "base_uri": "https://localhost:8080/",
          "height": 296
        },
        "id": "0UV4l9nnCqLp",
        "outputId": "43cc4a03-72c6-466d-ad67-3cbc9073e366"
      },
      "execution_count": 42,
      "outputs": [
        {
          "output_type": "execute_result",
          "data": {
            "text/plain": [
              "<matplotlib.axes._subplots.AxesSubplot at 0x7f42b23583d0>"
            ]
          },
          "metadata": {},
          "execution_count": 42
        },
        {
          "output_type": "display_data",
          "data": {
            "image/png": "[encoded data removed]",
            "text/plain": [
              "<Figure size 432x288 with 1 Axes>"
            ]
          },
          "metadata": {}
        }
      ]
    },
    {
      "cell_type": "code",
      "source": [
        "train['Education'].value_counts()"
      ],
      "metadata": {
        "colab": {
          "base_uri": "https://localhost:8080/"
        },
        "id": "miGkvJq6CpDF",
        "outputId": "104231b1-8cde-4d60-aefd-4f357f816564"
      },
      "execution_count": 43,
      "outputs": [
        {
          "output_type": "execute_result",
          "data": {
            "text/plain": [
              "Graduate        480\n",
              "Not Graduate    134\n",
              "Name: Education, dtype: int64"
            ]
          },
          "metadata": {},
          "execution_count": 43
        }
      ]
    },
    {
      "cell_type": "code",
      "source": [
        "d={'Not Graduate':0, 'Graduate':1}\n",
        "train['Education']=train['Education'].apply(lambda x:d[x])"
      ],
      "metadata": {
        "id": "BfFf9dnNDRDx"
      },
      "execution_count": 44,
      "outputs": []
    },
    {
      "cell_type": "code",
      "source": [
        "corr = train.corr()\n",
        "corr.style.background_gradient(cmap='coolwarm').set_precision(2)"
      ],
      "metadata": {
        "colab": {
          "base_uri": "https://localhost:8080/",
          "height": 363
        },
        "id": "jmWO-6eKDXea",
        "outputId": "7fa39ef6-7e0d-4460-a375-3b8fd322cca0"
      },
      "execution_count": 45,
      "outputs": [
        {
          "output_type": "execute_result",
          "data": {
            "text/html": [
              "<style  type=\"text/css\" >\n",
              "#T_4d621fae_5b16_11ec_8956_0242ac1c0002row0_col0,#T_4d621fae_5b16_11ec_8956_0242ac1c0002row1_col1,#T_4d621fae_5b16_11ec_8956_0242ac1c0002row2_col2,#T_4d621fae_5b16_11ec_8956_0242ac1c0002row3_col3,#T_4d621fae_5b16_11ec_8956_0242ac1c0002row4_col4,#T_4d621fae_5b16_11ec_8956_0242ac1c0002row5_col5,#T_4d621fae_5b16_11ec_8956_0242ac1c0002row6_col6,#T_4d621fae_5b16_11ec_8956_0242ac1c0002row7_col7,#T_4d621fae_5b16_11ec_8956_0242ac1c0002row8_col8,#T_4d621fae_5b16_11ec_8956_0242ac1c0002row9_col9{\n",
              "            background-color:  #b40426;\n",
              "            color:  #f1f1f1;\n",
              "        }#T_4d621fae_5b16_11ec_8956_0242ac1c0002row0_col1,#T_4d621fae_5b16_11ec_8956_0242ac1c0002row0_col6,#T_4d621fae_5b16_11ec_8956_0242ac1c0002row0_col8,#T_4d621fae_5b16_11ec_8956_0242ac1c0002row1_col0,#T_4d621fae_5b16_11ec_8956_0242ac1c0002row1_col2,#T_4d621fae_5b16_11ec_8956_0242ac1c0002row1_col7,#T_4d621fae_5b16_11ec_8956_0242ac1c0002row4_col5,#T_4d621fae_5b16_11ec_8956_0242ac1c0002row4_col8,#T_4d621fae_5b16_11ec_8956_0242ac1c0002row5_col4,#T_4d621fae_5b16_11ec_8956_0242ac1c0002row5_col9,#T_4d621fae_5b16_11ec_8956_0242ac1c0002row7_col3{\n",
              "            background-color:  #3b4cc0;\n",
              "            color:  #f1f1f1;\n",
              "        }#T_4d621fae_5b16_11ec_8956_0242ac1c0002row0_col2{\n",
              "            background-color:  #4b64d5;\n",
              "            color:  #f1f1f1;\n",
              "        }#T_4d621fae_5b16_11ec_8956_0242ac1c0002row0_col3{\n",
              "            background-color:  #445acc;\n",
              "            color:  #f1f1f1;\n",
              "        }#T_4d621fae_5b16_11ec_8956_0242ac1c0002row0_col4,#T_4d621fae_5b16_11ec_8956_0242ac1c0002row3_col9,#T_4d621fae_5b16_11ec_8956_0242ac1c0002row4_col7,#T_4d621fae_5b16_11ec_8956_0242ac1c0002row4_col9,#T_4d621fae_5b16_11ec_8956_0242ac1c0002row7_col5,#T_4d621fae_5b16_11ec_8956_0242ac1c0002row9_col5{\n",
              "            background-color:  #4a63d3;\n",
              "            color:  #f1f1f1;\n",
              "        }#T_4d621fae_5b16_11ec_8956_0242ac1c0002row0_col5,#T_4d621fae_5b16_11ec_8956_0242ac1c0002row8_col3,#T_4d621fae_5b16_11ec_8956_0242ac1c0002row9_col3{\n",
              "            background-color:  #4358cb;\n",
              "            color:  #f1f1f1;\n",
              "        }#T_4d621fae_5b16_11ec_8956_0242ac1c0002row0_col7,#T_4d621fae_5b16_11ec_8956_0242ac1c0002row2_col5{\n",
              "            background-color:  #6e90f2;\n",
              "            color:  #000000;\n",
              "        }#T_4d621fae_5b16_11ec_8956_0242ac1c0002row0_col9,#T_4d621fae_5b16_11ec_8956_0242ac1c0002row1_col3,#T_4d621fae_5b16_11ec_8956_0242ac1c0002row5_col7,#T_4d621fae_5b16_11ec_8956_0242ac1c0002row7_col9{\n",
              "            background-color:  #455cce;\n",
              "            color:  #f1f1f1;\n",
              "        }#T_4d621fae_5b16_11ec_8956_0242ac1c0002row1_col4,#T_4d621fae_5b16_11ec_8956_0242ac1c0002row4_col2{\n",
              "            background-color:  #6a8bef;\n",
              "            color:  #000000;\n",
              "        }#T_4d621fae_5b16_11ec_8956_0242ac1c0002row1_col5{\n",
              "            background-color:  #7295f4;\n",
              "            color:  #000000;\n",
              "        }#T_4d621fae_5b16_11ec_8956_0242ac1c0002row1_col6,#T_4d621fae_5b16_11ec_8956_0242ac1c0002row2_col4{\n",
              "            background-color:  #86a9fc;\n",
              "            color:  #000000;\n",
              "        }#T_4d621fae_5b16_11ec_8956_0242ac1c0002row1_col8,#T_4d621fae_5b16_11ec_8956_0242ac1c0002row3_col2,#T_4d621fae_5b16_11ec_8956_0242ac1c0002row6_col9{\n",
              "            background-color:  #4055c8;\n",
              "            color:  #f1f1f1;\n",
              "        }#T_4d621fae_5b16_11ec_8956_0242ac1c0002row1_col9{\n",
              "            background-color:  #6788ee;\n",
              "            color:  #000000;\n",
              "        }#T_4d621fae_5b16_11ec_8956_0242ac1c0002row2_col0{\n",
              "            background-color:  #9ebeff;\n",
              "            color:  #000000;\n",
              "        }#T_4d621fae_5b16_11ec_8956_0242ac1c0002row2_col1{\n",
              "            background-color:  #90b2fe;\n",
              "            color:  #000000;\n",
              "        }#T_4d621fae_5b16_11ec_8956_0242ac1c0002row2_col3{\n",
              "            background-color:  #485fd1;\n",
              "            color:  #f1f1f1;\n",
              "        }#T_4d621fae_5b16_11ec_8956_0242ac1c0002row2_col6{\n",
              "            background-color:  #8db0fe;\n",
              "            color:  #000000;\n",
              "        }#T_4d621fae_5b16_11ec_8956_0242ac1c0002row2_col7{\n",
              "            background-color:  #6f92f3;\n",
              "            color:  #000000;\n",
              "        }#T_4d621fae_5b16_11ec_8956_0242ac1c0002row2_col8,#T_4d621fae_5b16_11ec_8956_0242ac1c0002row8_col7,#T_4d621fae_5b16_11ec_8956_0242ac1c0002row9_col2{\n",
              "            background-color:  #5875e1;\n",
              "            color:  #000000;\n",
              "        }#T_4d621fae_5b16_11ec_8956_0242ac1c0002row2_col9{\n",
              "            background-color:  #6687ed;\n",
              "            color:  #000000;\n",
              "        }#T_4d621fae_5b16_11ec_8956_0242ac1c0002row3_col0,#T_4d621fae_5b16_11ec_8956_0242ac1c0002row5_col6{\n",
              "            background-color:  #93b5fe;\n",
              "            color:  #000000;\n",
              "        }#T_4d621fae_5b16_11ec_8956_0242ac1c0002row3_col1,#T_4d621fae_5b16_11ec_8956_0242ac1c0002row6_col5,#T_4d621fae_5b16_11ec_8956_0242ac1c0002row8_col1{\n",
              "            background-color:  #94b6ff;\n",
              "            color:  #000000;\n",
              "        }#T_4d621fae_5b16_11ec_8956_0242ac1c0002row3_col4{\n",
              "            background-color:  #81a4fb;\n",
              "            color:  #000000;\n",
              "        }#T_4d621fae_5b16_11ec_8956_0242ac1c0002row3_col5,#T_4d621fae_5b16_11ec_8956_0242ac1c0002row7_col2,#T_4d621fae_5b16_11ec_8956_0242ac1c0002row8_col2,#T_4d621fae_5b16_11ec_8956_0242ac1c0002row8_col4,#T_4d621fae_5b16_11ec_8956_0242ac1c0002row8_col6{\n",
              "            background-color:  #5673e0;\n",
              "            color:  #000000;\n",
              "        }#T_4d621fae_5b16_11ec_8956_0242ac1c0002row3_col6,#T_4d621fae_5b16_11ec_8956_0242ac1c0002row5_col0{\n",
              "            background-color:  #7da0f9;\n",
              "            color:  #000000;\n",
              "        }#T_4d621fae_5b16_11ec_8956_0242ac1c0002row3_col7{\n",
              "            background-color:  #4c66d6;\n",
              "            color:  #000000;\n",
              "        }#T_4d621fae_5b16_11ec_8956_0242ac1c0002row3_col8,#T_4d621fae_5b16_11ec_8956_0242ac1c0002row5_col8{\n",
              "            background-color:  #3e51c5;\n",
              "            color:  #f1f1f1;\n",
              "        }#T_4d621fae_5b16_11ec_8956_0242ac1c0002row4_col0{\n",
              "            background-color:  #84a7fc;\n",
              "            color:  #000000;\n",
              "        }#T_4d621fae_5b16_11ec_8956_0242ac1c0002row4_col1{\n",
              "            background-color:  #a1c0ff;\n",
              "            color:  #000000;\n",
              "        }#T_4d621fae_5b16_11ec_8956_0242ac1c0002row4_col3{\n",
              "            background-color:  #6b8df0;\n",
              "            color:  #000000;\n",
              "        }#T_4d621fae_5b16_11ec_8956_0242ac1c0002row4_col6{\n",
              "            background-color:  #f3c8b2;\n",
              "            color:  #000000;\n",
              "        }#T_4d621fae_5b16_11ec_8956_0242ac1c0002row5_col1,#T_4d621fae_5b16_11ec_8956_0242ac1c0002row7_col0{\n",
              "            background-color:  #a6c4fe;\n",
              "            color:  #000000;\n",
              "        }#T_4d621fae_5b16_11ec_8956_0242ac1c0002row5_col2,#T_4d621fae_5b16_11ec_8956_0242ac1c0002row9_col7{\n",
              "            background-color:  #506bda;\n",
              "            color:  #000000;\n",
              "        }#T_4d621fae_5b16_11ec_8956_0242ac1c0002row5_col3,#T_4d621fae_5b16_11ec_8956_0242ac1c0002row7_col8{\n",
              "            background-color:  #3f53c6;\n",
              "            color:  #f1f1f1;\n",
              "        }#T_4d621fae_5b16_11ec_8956_0242ac1c0002row6_col0{\n",
              "            background-color:  #7699f6;\n",
              "            color:  #000000;\n",
              "        }#T_4d621fae_5b16_11ec_8956_0242ac1c0002row6_col1{\n",
              "            background-color:  #b9d0f9;\n",
              "            color:  #000000;\n",
              "        }#T_4d621fae_5b16_11ec_8956_0242ac1c0002row6_col2{\n",
              "            background-color:  #7597f6;\n",
              "            color:  #000000;\n",
              "        }#T_4d621fae_5b16_11ec_8956_0242ac1c0002row6_col3{\n",
              "            background-color:  #688aef;\n",
              "            color:  #000000;\n",
              "        }#T_4d621fae_5b16_11ec_8956_0242ac1c0002row6_col4{\n",
              "            background-color:  #f3c7b1;\n",
              "            color:  #000000;\n",
              "        }#T_4d621fae_5b16_11ec_8956_0242ac1c0002row6_col7{\n",
              "            background-color:  #6282ea;\n",
              "            color:  #000000;\n",
              "        }#T_4d621fae_5b16_11ec_8956_0242ac1c0002row6_col8{\n",
              "            background-color:  #3c4ec2;\n",
              "            color:  #f1f1f1;\n",
              "        }#T_4d621fae_5b16_11ec_8956_0242ac1c0002row7_col1{\n",
              "            background-color:  #799cf8;\n",
              "            color:  #000000;\n",
              "        }#T_4d621fae_5b16_11ec_8956_0242ac1c0002row7_col4,#T_4d621fae_5b16_11ec_8956_0242ac1c0002row9_col6{\n",
              "            background-color:  #4e68d8;\n",
              "            color:  #000000;\n",
              "        }#T_4d621fae_5b16_11ec_8956_0242ac1c0002row7_col6{\n",
              "            background-color:  #6485ec;\n",
              "            color:  #000000;\n",
              "        }#T_4d621fae_5b16_11ec_8956_0242ac1c0002row8_col0,#T_4d621fae_5b16_11ec_8956_0242ac1c0002row9_col0{\n",
              "            background-color:  #8fb1fe;\n",
              "            color:  #000000;\n",
              "        }#T_4d621fae_5b16_11ec_8956_0242ac1c0002row8_col5{\n",
              "            background-color:  #5a78e4;\n",
              "            color:  #000000;\n",
              "        }#T_4d621fae_5b16_11ec_8956_0242ac1c0002row8_col9{\n",
              "            background-color:  #f0cdbb;\n",
              "            color:  #000000;\n",
              "        }#T_4d621fae_5b16_11ec_8956_0242ac1c0002row9_col1{\n",
              "            background-color:  #aac7fd;\n",
              "            color:  #000000;\n",
              "        }#T_4d621fae_5b16_11ec_8956_0242ac1c0002row9_col4{\n",
              "            background-color:  #5977e3;\n",
              "            color:  #000000;\n",
              "        }#T_4d621fae_5b16_11ec_8956_0242ac1c0002row9_col8{\n",
              "            background-color:  #edd2c3;\n",
              "            color:  #000000;\n",
              "        }</style><table id=\"T_4d621fae_5b16_11ec_8956_0242ac1c0002\" class=\"dataframe\"><thead>    <tr>        <th class=\"blank level0\" ></th>        <th class=\"col_heading level0 col0\" >Gender</th>        <th class=\"col_heading level0 col1\" >Married</th>        <th class=\"col_heading level0 col2\" >Education</th>        <th class=\"col_heading level0 col3\" >Self_Employed</th>        <th class=\"col_heading level0 col4\" >ApplicantIncome</th>        <th class=\"col_heading level0 col5\" >CoapplicantIncome</th>        <th class=\"col_heading level0 col6\" >LoanAmount</th>        <th class=\"col_heading level0 col7\" >Loan_Amount_Term</th>        <th class=\"col_heading level0 col8\" >Credit_History</th>        <th class=\"col_heading level0 col9\" >Loan_Status</th>    </tr></thead><tbody>\n",
              "                <tr>\n",
              "                        <th id=\"T_4d621fae_5b16_11ec_8956_0242ac1c0002level0_row0\" class=\"row_heading level0 row0\" >Gender</th>\n",
              "                        <td id=\"T_4d621fae_5b16_11ec_8956_0242ac1c0002row0_col0\" class=\"data row0 col0\" >1.00</td>\n",
              "                        <td id=\"T_4d621fae_5b16_11ec_8956_0242ac1c0002row0_col1\" class=\"data row0 col1\" >-0.36</td>\n",
              "                        <td id=\"T_4d621fae_5b16_11ec_8956_0242ac1c0002row0_col2\" class=\"data row0 col2\" >0.05</td>\n",
              "                        <td id=\"T_4d621fae_5b16_11ec_8956_0242ac1c0002row0_col3\" class=\"data row0 col3\" >0.00</td>\n",
              "                        <td id=\"T_4d621fae_5b16_11ec_8956_0242ac1c0002row0_col4\" class=\"data row0 col4\" >-0.06</td>\n",
              "                        <td id=\"T_4d621fae_5b16_11ec_8956_0242ac1c0002row0_col5\" class=\"data row0 col5\" >-0.08</td>\n",
              "                        <td id=\"T_4d621fae_5b16_11ec_8956_0242ac1c0002row0_col6\" class=\"data row0 col6\" >-0.11</td>\n",
              "                        <td id=\"T_4d621fae_5b16_11ec_8956_0242ac1c0002row0_col7\" class=\"data row0 col7\" >0.07</td>\n",
              "                        <td id=\"T_4d621fae_5b16_11ec_8956_0242ac1c0002row0_col8\" class=\"data row0 col8\" >-0.01</td>\n",
              "                        <td id=\"T_4d621fae_5b16_11ec_8956_0242ac1c0002row0_col9\" class=\"data row0 col9\" >-0.02</td>\n",
              "            </tr>\n",
              "            <tr>\n",
              "                        <th id=\"T_4d621fae_5b16_11ec_8956_0242ac1c0002level0_row1\" class=\"row_heading level0 row1\" >Married</th>\n",
              "                        <td id=\"T_4d621fae_5b16_11ec_8956_0242ac1c0002row1_col0\" class=\"data row1 col0\" >-0.36</td>\n",
              "                        <td id=\"T_4d621fae_5b16_11ec_8956_0242ac1c0002row1_col1\" class=\"data row1 col1\" >1.00</td>\n",
              "                        <td id=\"T_4d621fae_5b16_11ec_8956_0242ac1c0002row1_col2\" class=\"data row1 col2\" >-0.01</td>\n",
              "                        <td id=\"T_4d621fae_5b16_11ec_8956_0242ac1c0002row1_col3\" class=\"data row1 col3\" >0.00</td>\n",
              "                        <td id=\"T_4d621fae_5b16_11ec_8956_0242ac1c0002row1_col4\" class=\"data row1 col4\" >0.05</td>\n",
              "                        <td id=\"T_4d621fae_5b16_11ec_8956_0242ac1c0002row1_col5\" class=\"data row1 col5\" >0.08</td>\n",
              "                        <td id=\"T_4d621fae_5b16_11ec_8956_0242ac1c0002row1_col6\" class=\"data row1 col6\" >0.15</td>\n",
              "                        <td id=\"T_4d621fae_5b16_11ec_8956_0242ac1c0002row1_col7\" class=\"data row1 col7\" >-0.10</td>\n",
              "                        <td id=\"T_4d621fae_5b16_11ec_8956_0242ac1c0002row1_col8\" class=\"data row1 col8\" >0.01</td>\n",
              "                        <td id=\"T_4d621fae_5b16_11ec_8956_0242ac1c0002row1_col9\" class=\"data row1 col9\" >0.09</td>\n",
              "            </tr>\n",
              "            <tr>\n",
              "                        <th id=\"T_4d621fae_5b16_11ec_8956_0242ac1c0002level0_row2\" class=\"row_heading level0 row2\" >Education</th>\n",
              "                        <td id=\"T_4d621fae_5b16_11ec_8956_0242ac1c0002row2_col0\" class=\"data row2 col0\" >0.05</td>\n",
              "                        <td id=\"T_4d621fae_5b16_11ec_8956_0242ac1c0002row2_col1\" class=\"data row2 col1\" >-0.01</td>\n",
              "                        <td id=\"T_4d621fae_5b16_11ec_8956_0242ac1c0002row2_col2\" class=\"data row2 col2\" >1.00</td>\n",
              "                        <td id=\"T_4d621fae_5b16_11ec_8956_0242ac1c0002row2_col3\" class=\"data row2 col3\" >0.01</td>\n",
              "                        <td id=\"T_4d621fae_5b16_11ec_8956_0242ac1c0002row2_col4\" class=\"data row2 col4\" >0.14</td>\n",
              "                        <td id=\"T_4d621fae_5b16_11ec_8956_0242ac1c0002row2_col5\" class=\"data row2 col5\" >0.06</td>\n",
              "                        <td id=\"T_4d621fae_5b16_11ec_8956_0242ac1c0002row2_col6\" class=\"data row2 col6\" >0.17</td>\n",
              "                        <td id=\"T_4d621fae_5b16_11ec_8956_0242ac1c0002row2_col7\" class=\"data row2 col7\" >0.08</td>\n",
              "                        <td id=\"T_4d621fae_5b16_11ec_8956_0242ac1c0002row2_col8\" class=\"data row2 col8\" >0.08</td>\n",
              "                        <td id=\"T_4d621fae_5b16_11ec_8956_0242ac1c0002row2_col9\" class=\"data row2 col9\" >0.09</td>\n",
              "            </tr>\n",
              "            <tr>\n",
              "                        <th id=\"T_4d621fae_5b16_11ec_8956_0242ac1c0002level0_row3\" class=\"row_heading level0 row3\" >Self_Employed</th>\n",
              "                        <td id=\"T_4d621fae_5b16_11ec_8956_0242ac1c0002row3_col0\" class=\"data row3 col0\" >0.00</td>\n",
              "                        <td id=\"T_4d621fae_5b16_11ec_8956_0242ac1c0002row3_col1\" class=\"data row3 col1\" >0.00</td>\n",
              "                        <td id=\"T_4d621fae_5b16_11ec_8956_0242ac1c0002row3_col2\" class=\"data row3 col2\" >0.01</td>\n",
              "                        <td id=\"T_4d621fae_5b16_11ec_8956_0242ac1c0002row3_col3\" class=\"data row3 col3\" >1.00</td>\n",
              "                        <td id=\"T_4d621fae_5b16_11ec_8956_0242ac1c0002row3_col4\" class=\"data row3 col4\" >0.13</td>\n",
              "                        <td id=\"T_4d621fae_5b16_11ec_8956_0242ac1c0002row3_col5\" class=\"data row3 col5\" >-0.02</td>\n",
              "                        <td id=\"T_4d621fae_5b16_11ec_8956_0242ac1c0002row3_col6\" class=\"data row3 col6\" >0.12</td>\n",
              "                        <td id=\"T_4d621fae_5b16_11ec_8956_0242ac1c0002row3_col7\" class=\"data row3 col7\" >-0.03</td>\n",
              "                        <td id=\"T_4d621fae_5b16_11ec_8956_0242ac1c0002row3_col8\" class=\"data row3 col8\" >-0.00</td>\n",
              "                        <td id=\"T_4d621fae_5b16_11ec_8956_0242ac1c0002row3_col9\" class=\"data row3 col9\" >-0.00</td>\n",
              "            </tr>\n",
              "            <tr>\n",
              "                        <th id=\"T_4d621fae_5b16_11ec_8956_0242ac1c0002level0_row4\" class=\"row_heading level0 row4\" >ApplicantIncome</th>\n",
              "                        <td id=\"T_4d621fae_5b16_11ec_8956_0242ac1c0002row4_col0\" class=\"data row4 col0\" >-0.06</td>\n",
              "                        <td id=\"T_4d621fae_5b16_11ec_8956_0242ac1c0002row4_col1\" class=\"data row4 col1\" >0.05</td>\n",
              "                        <td id=\"T_4d621fae_5b16_11ec_8956_0242ac1c0002row4_col2\" class=\"data row4 col2\" >0.14</td>\n",
              "                        <td id=\"T_4d621fae_5b16_11ec_8956_0242ac1c0002row4_col3\" class=\"data row4 col3\" >0.13</td>\n",
              "                        <td id=\"T_4d621fae_5b16_11ec_8956_0242ac1c0002row4_col4\" class=\"data row4 col4\" >1.00</td>\n",
              "                        <td id=\"T_4d621fae_5b16_11ec_8956_0242ac1c0002row4_col5\" class=\"data row4 col5\" >-0.12</td>\n",
              "                        <td id=\"T_4d621fae_5b16_11ec_8956_0242ac1c0002row4_col6\" class=\"data row4 col6\" >0.57</td>\n",
              "                        <td id=\"T_4d621fae_5b16_11ec_8956_0242ac1c0002row4_col7\" class=\"data row4 col7\" >-0.05</td>\n",
              "                        <td id=\"T_4d621fae_5b16_11ec_8956_0242ac1c0002row4_col8\" class=\"data row4 col8\" >-0.01</td>\n",
              "                        <td id=\"T_4d621fae_5b16_11ec_8956_0242ac1c0002row4_col9\" class=\"data row4 col9\" >-0.00</td>\n",
              "            </tr>\n",
              "            <tr>\n",
              "                        <th id=\"T_4d621fae_5b16_11ec_8956_0242ac1c0002level0_row5\" class=\"row_heading level0 row5\" >CoapplicantIncome</th>\n",
              "                        <td id=\"T_4d621fae_5b16_11ec_8956_0242ac1c0002row5_col0\" class=\"data row5 col0\" >-0.08</td>\n",
              "                        <td id=\"T_4d621fae_5b16_11ec_8956_0242ac1c0002row5_col1\" class=\"data row5 col1\" >0.08</td>\n",
              "                        <td id=\"T_4d621fae_5b16_11ec_8956_0242ac1c0002row5_col2\" class=\"data row5 col2\" >0.06</td>\n",
              "                        <td id=\"T_4d621fae_5b16_11ec_8956_0242ac1c0002row5_col3\" class=\"data row5 col3\" >-0.02</td>\n",
              "                        <td id=\"T_4d621fae_5b16_11ec_8956_0242ac1c0002row5_col4\" class=\"data row5 col4\" >-0.12</td>\n",
              "                        <td id=\"T_4d621fae_5b16_11ec_8956_0242ac1c0002row5_col5\" class=\"data row5 col5\" >1.00</td>\n",
              "                        <td id=\"T_4d621fae_5b16_11ec_8956_0242ac1c0002row5_col6\" class=\"data row5 col6\" >0.19</td>\n",
              "                        <td id=\"T_4d621fae_5b16_11ec_8956_0242ac1c0002row5_col7\" class=\"data row5 col7\" >-0.06</td>\n",
              "                        <td id=\"T_4d621fae_5b16_11ec_8956_0242ac1c0002row5_col8\" class=\"data row5 col8\" >-0.00</td>\n",
              "                        <td id=\"T_4d621fae_5b16_11ec_8956_0242ac1c0002row5_col9\" class=\"data row5 col9\" >-0.06</td>\n",
              "            </tr>\n",
              "            <tr>\n",
              "                        <th id=\"T_4d621fae_5b16_11ec_8956_0242ac1c0002level0_row6\" class=\"row_heading level0 row6\" >LoanAmount</th>\n",
              "                        <td id=\"T_4d621fae_5b16_11ec_8956_0242ac1c0002row6_col0\" class=\"data row6 col0\" >-0.11</td>\n",
              "                        <td id=\"T_4d621fae_5b16_11ec_8956_0242ac1c0002row6_col1\" class=\"data row6 col1\" >0.15</td>\n",
              "                        <td id=\"T_4d621fae_5b16_11ec_8956_0242ac1c0002row6_col2\" class=\"data row6 col2\" >0.17</td>\n",
              "                        <td id=\"T_4d621fae_5b16_11ec_8956_0242ac1c0002row6_col3\" class=\"data row6 col3\" >0.12</td>\n",
              "                        <td id=\"T_4d621fae_5b16_11ec_8956_0242ac1c0002row6_col4\" class=\"data row6 col4\" >0.57</td>\n",
              "                        <td id=\"T_4d621fae_5b16_11ec_8956_0242ac1c0002row6_col5\" class=\"data row6 col5\" >0.19</td>\n",
              "                        <td id=\"T_4d621fae_5b16_11ec_8956_0242ac1c0002row6_col6\" class=\"data row6 col6\" >1.00</td>\n",
              "                        <td id=\"T_4d621fae_5b16_11ec_8956_0242ac1c0002row6_col7\" class=\"data row6 col7\" >0.04</td>\n",
              "                        <td id=\"T_4d621fae_5b16_11ec_8956_0242ac1c0002row6_col8\" class=\"data row6 col8\" >-0.01</td>\n",
              "                        <td id=\"T_4d621fae_5b16_11ec_8956_0242ac1c0002row6_col9\" class=\"data row6 col9\" >-0.04</td>\n",
              "            </tr>\n",
              "            <tr>\n",
              "                        <th id=\"T_4d621fae_5b16_11ec_8956_0242ac1c0002level0_row7\" class=\"row_heading level0 row7\" >Loan_Amount_Term</th>\n",
              "                        <td id=\"T_4d621fae_5b16_11ec_8956_0242ac1c0002row7_col0\" class=\"data row7 col0\" >0.07</td>\n",
              "                        <td id=\"T_4d621fae_5b16_11ec_8956_0242ac1c0002row7_col1\" class=\"data row7 col1\" >-0.10</td>\n",
              "                        <td id=\"T_4d621fae_5b16_11ec_8956_0242ac1c0002row7_col2\" class=\"data row7 col2\" >0.08</td>\n",
              "                        <td id=\"T_4d621fae_5b16_11ec_8956_0242ac1c0002row7_col3\" class=\"data row7 col3\" >-0.03</td>\n",
              "                        <td id=\"T_4d621fae_5b16_11ec_8956_0242ac1c0002row7_col4\" class=\"data row7 col4\" >-0.05</td>\n",
              "                        <td id=\"T_4d621fae_5b16_11ec_8956_0242ac1c0002row7_col5\" class=\"data row7 col5\" >-0.06</td>\n",
              "                        <td id=\"T_4d621fae_5b16_11ec_8956_0242ac1c0002row7_col6\" class=\"data row7 col6\" >0.04</td>\n",
              "                        <td id=\"T_4d621fae_5b16_11ec_8956_0242ac1c0002row7_col7\" class=\"data row7 col7\" >1.00</td>\n",
              "                        <td id=\"T_4d621fae_5b16_11ec_8956_0242ac1c0002row7_col8\" class=\"data row7 col8\" >0.00</td>\n",
              "                        <td id=\"T_4d621fae_5b16_11ec_8956_0242ac1c0002row7_col9\" class=\"data row7 col9\" >-0.02</td>\n",
              "            </tr>\n",
              "            <tr>\n",
              "                        <th id=\"T_4d621fae_5b16_11ec_8956_0242ac1c0002level0_row8\" class=\"row_heading level0 row8\" >Credit_History</th>\n",
              "                        <td id=\"T_4d621fae_5b16_11ec_8956_0242ac1c0002row8_col0\" class=\"data row8 col0\" >-0.01</td>\n",
              "                        <td id=\"T_4d621fae_5b16_11ec_8956_0242ac1c0002row8_col1\" class=\"data row8 col1\" >0.01</td>\n",
              "                        <td id=\"T_4d621fae_5b16_11ec_8956_0242ac1c0002row8_col2\" class=\"data row8 col2\" >0.08</td>\n",
              "                        <td id=\"T_4d621fae_5b16_11ec_8956_0242ac1c0002row8_col3\" class=\"data row8 col3\" >-0.00</td>\n",
              "                        <td id=\"T_4d621fae_5b16_11ec_8956_0242ac1c0002row8_col4\" class=\"data row8 col4\" >-0.01</td>\n",
              "                        <td id=\"T_4d621fae_5b16_11ec_8956_0242ac1c0002row8_col5\" class=\"data row8 col5\" >-0.00</td>\n",
              "                        <td id=\"T_4d621fae_5b16_11ec_8956_0242ac1c0002row8_col6\" class=\"data row8 col6\" >-0.01</td>\n",
              "                        <td id=\"T_4d621fae_5b16_11ec_8956_0242ac1c0002row8_col7\" class=\"data row8 col7\" >0.00</td>\n",
              "                        <td id=\"T_4d621fae_5b16_11ec_8956_0242ac1c0002row8_col8\" class=\"data row8 col8\" >1.00</td>\n",
              "                        <td id=\"T_4d621fae_5b16_11ec_8956_0242ac1c0002row8_col9\" class=\"data row8 col9\" >0.56</td>\n",
              "            </tr>\n",
              "            <tr>\n",
              "                        <th id=\"T_4d621fae_5b16_11ec_8956_0242ac1c0002level0_row9\" class=\"row_heading level0 row9\" >Loan_Status</th>\n",
              "                        <td id=\"T_4d621fae_5b16_11ec_8956_0242ac1c0002row9_col0\" class=\"data row9 col0\" >-0.02</td>\n",
              "                        <td id=\"T_4d621fae_5b16_11ec_8956_0242ac1c0002row9_col1\" class=\"data row9 col1\" >0.09</td>\n",
              "                        <td id=\"T_4d621fae_5b16_11ec_8956_0242ac1c0002row9_col2\" class=\"data row9 col2\" >0.09</td>\n",
              "                        <td id=\"T_4d621fae_5b16_11ec_8956_0242ac1c0002row9_col3\" class=\"data row9 col3\" >-0.00</td>\n",
              "                        <td id=\"T_4d621fae_5b16_11ec_8956_0242ac1c0002row9_col4\" class=\"data row9 col4\" >-0.00</td>\n",
              "                        <td id=\"T_4d621fae_5b16_11ec_8956_0242ac1c0002row9_col5\" class=\"data row9 col5\" >-0.06</td>\n",
              "                        <td id=\"T_4d621fae_5b16_11ec_8956_0242ac1c0002row9_col6\" class=\"data row9 col6\" >-0.04</td>\n",
              "                        <td id=\"T_4d621fae_5b16_11ec_8956_0242ac1c0002row9_col7\" class=\"data row9 col7\" >-0.02</td>\n",
              "                        <td id=\"T_4d621fae_5b16_11ec_8956_0242ac1c0002row9_col8\" class=\"data row9 col8\" >0.56</td>\n",
              "                        <td id=\"T_4d621fae_5b16_11ec_8956_0242ac1c0002row9_col9\" class=\"data row9 col9\" >1.00</td>\n",
              "            </tr>\n",
              "    </tbody></table>"
            ],
            "text/plain": [
              "<pandas.io.formats.style.Styler at 0x7f42b2395090>"
            ]
          },
          "metadata": {},
          "execution_count": 45
        }
      ]
    },
    {
      "cell_type": "code",
      "source": [
        "train['Property_Area'].value_counts()"
      ],
      "metadata": {
        "colab": {
          "base_uri": "https://localhost:8080/"
        },
        "id": "0P5nmnJ3EHW5",
        "outputId": "612a512f-2784-49e6-f371-6238df13dbb5"
      },
      "execution_count": 46,
      "outputs": [
        {
          "output_type": "execute_result",
          "data": {
            "text/plain": [
              "Semiurban    233\n",
              "Urban        202\n",
              "Rural        179\n",
              "Name: Property_Area, dtype: int64"
            ]
          },
          "metadata": {},
          "execution_count": 46
        }
      ]
    },
    {
      "cell_type": "code",
      "source": [
        "test['Property_Area'].value_counts()"
      ],
      "metadata": {
        "colab": {
          "base_uri": "https://localhost:8080/"
        },
        "id": "FH9YZn4iEMf4",
        "outputId": "53377ea5-d64d-4cac-8599-4479f2dd18b1"
      },
      "execution_count": 47,
      "outputs": [
        {
          "output_type": "execute_result",
          "data": {
            "text/plain": [
              "Urban        140\n",
              "Semiurban    116\n",
              "Rural        111\n",
              "Name: Property_Area, dtype: int64"
            ]
          },
          "metadata": {},
          "execution_count": 47
        }
      ]
    },
    {
      "cell_type": "code",
      "source": [
        "sns.set_style('whitegrid')\n",
        "sns.countplot(x='Property_Area',hue='Loan_Status',data=train,palette='RdBu_r')"
      ],
      "metadata": {
        "colab": {
          "base_uri": "https://localhost:8080/",
          "height": 298
        },
        "id": "tsf8JCIDEW6G",
        "outputId": "2437cb9e-3665-49ea-dafa-925ac8641235"
      },
      "execution_count": 48,
      "outputs": [
        {
          "output_type": "execute_result",
          "data": {
            "text/plain": [
              "<matplotlib.axes._subplots.AxesSubplot at 0x7f42b1625610>"
            ]
          },
          "metadata": {},
          "execution_count": 48
        },
        {
          "output_type": "display_data",
          "data": {
            "image/png": "[encoded data removed]",
            "text/plain": [
              "<Figure size 432x288 with 1 Axes>"
            ]
          },
          "metadata": {}
        }
      ]
    },
    {
      "cell_type": "code",
      "source": [
        "d={'Rural':0, 'Urban':2,'Semiurban':1}\n",
        "train['Property_Area']=train['Property_Area'].apply(lambda x:d[x])"
      ],
      "metadata": {
        "id": "EinNv4FjEgpB"
      },
      "execution_count": 49,
      "outputs": []
    },
    {
      "cell_type": "code",
      "source": [
        "train.isnull().sum()"
      ],
      "metadata": {
        "colab": {
          "base_uri": "https://localhost:8080/"
        },
        "id": "jHkmFWfNEM9k",
        "outputId": "baea8936-cc24-442a-d1d8-a5c0d547dbbb"
      },
      "execution_count": 50,
      "outputs": [
        {
          "output_type": "execute_result",
          "data": {
            "text/plain": [
              "Gender                0\n",
              "Married               0\n",
              "Dependents            0\n",
              "Education             0\n",
              "Self_Employed         0\n",
              "ApplicantIncome       0\n",
              "CoapplicantIncome     0\n",
              "LoanAmount           22\n",
              "Loan_Amount_Term     14\n",
              "Credit_History       50\n",
              "Property_Area         0\n",
              "Loan_Status           0\n",
              "dtype: int64"
            ]
          },
          "metadata": {},
          "execution_count": 50
        }
      ]
    },
    {
      "cell_type": "code",
      "source": [
        "corr = train.corr()\n",
        "corr.style.background_gradient(cmap='coolwarm').set_precision(2)"
      ],
      "metadata": {
        "colab": {
          "base_uri": "https://localhost:8080/",
          "height": 394
        },
        "id": "TJAOxm-ZEP-5",
        "outputId": "f4f64145-669f-490a-c5e2-7ed3325eea2f"
      },
      "execution_count": 51,
      "outputs": [
        {
          "output_type": "execute_result",
          "data": {
            "text/html": [
              "<style  type=\"text/css\" >\n",
              "#T_4d963ae6_5b16_11ec_8956_0242ac1c0002row0_col0,#T_4d963ae6_5b16_11ec_8956_0242ac1c0002row1_col1,#T_4d963ae6_5b16_11ec_8956_0242ac1c0002row2_col2,#T_4d963ae6_5b16_11ec_8956_0242ac1c0002row3_col3,#T_4d963ae6_5b16_11ec_8956_0242ac1c0002row4_col4,#T_4d963ae6_5b16_11ec_8956_0242ac1c0002row5_col5,#T_4d963ae6_5b16_11ec_8956_0242ac1c0002row6_col6,#T_4d963ae6_5b16_11ec_8956_0242ac1c0002row7_col7,#T_4d963ae6_5b16_11ec_8956_0242ac1c0002row8_col8,#T_4d963ae6_5b16_11ec_8956_0242ac1c0002row9_col9,#T_4d963ae6_5b16_11ec_8956_0242ac1c0002row10_col10{\n",
              "            background-color:  #b40426;\n",
              "            color:  #f1f1f1;\n",
              "        }#T_4d963ae6_5b16_11ec_8956_0242ac1c0002row0_col1,#T_4d963ae6_5b16_11ec_8956_0242ac1c0002row0_col6,#T_4d963ae6_5b16_11ec_8956_0242ac1c0002row0_col8,#T_4d963ae6_5b16_11ec_8956_0242ac1c0002row1_col0,#T_4d963ae6_5b16_11ec_8956_0242ac1c0002row1_col2,#T_4d963ae6_5b16_11ec_8956_0242ac1c0002row1_col7,#T_4d963ae6_5b16_11ec_8956_0242ac1c0002row4_col5,#T_4d963ae6_5b16_11ec_8956_0242ac1c0002row4_col8,#T_4d963ae6_5b16_11ec_8956_0242ac1c0002row5_col4,#T_4d963ae6_5b16_11ec_8956_0242ac1c0002row5_col10,#T_4d963ae6_5b16_11ec_8956_0242ac1c0002row7_col3,#T_4d963ae6_5b16_11ec_8956_0242ac1c0002row7_col9,#T_4d963ae6_5b16_11ec_8956_0242ac1c0002row9_col3{\n",
              "            background-color:  #3b4cc0;\n",
              "            color:  #f1f1f1;\n",
              "        }#T_4d963ae6_5b16_11ec_8956_0242ac1c0002row0_col2,#T_4d963ae6_5b16_11ec_8956_0242ac1c0002row9_col6{\n",
              "            background-color:  #4b64d5;\n",
              "            color:  #f1f1f1;\n",
              "        }#T_4d963ae6_5b16_11ec_8956_0242ac1c0002row0_col3{\n",
              "            background-color:  #445acc;\n",
              "            color:  #f1f1f1;\n",
              "        }#T_4d963ae6_5b16_11ec_8956_0242ac1c0002row0_col4,#T_4d963ae6_5b16_11ec_8956_0242ac1c0002row3_col10,#T_4d963ae6_5b16_11ec_8956_0242ac1c0002row4_col7,#T_4d963ae6_5b16_11ec_8956_0242ac1c0002row4_col10,#T_4d963ae6_5b16_11ec_8956_0242ac1c0002row7_col5,#T_4d963ae6_5b16_11ec_8956_0242ac1c0002row10_col5{\n",
              "            background-color:  #4a63d3;\n",
              "            color:  #f1f1f1;\n",
              "        }#T_4d963ae6_5b16_11ec_8956_0242ac1c0002row0_col5,#T_4d963ae6_5b16_11ec_8956_0242ac1c0002row6_col9,#T_4d963ae6_5b16_11ec_8956_0242ac1c0002row8_col3,#T_4d963ae6_5b16_11ec_8956_0242ac1c0002row10_col3{\n",
              "            background-color:  #4358cb;\n",
              "            color:  #f1f1f1;\n",
              "        }#T_4d963ae6_5b16_11ec_8956_0242ac1c0002row0_col7,#T_4d963ae6_5b16_11ec_8956_0242ac1c0002row2_col5{\n",
              "            background-color:  #6e90f2;\n",
              "            color:  #000000;\n",
              "        }#T_4d963ae6_5b16_11ec_8956_0242ac1c0002row0_col9,#T_4d963ae6_5b16_11ec_8956_0242ac1c0002row2_col8,#T_4d963ae6_5b16_11ec_8956_0242ac1c0002row8_col7,#T_4d963ae6_5b16_11ec_8956_0242ac1c0002row9_col4,#T_4d963ae6_5b16_11ec_8956_0242ac1c0002row10_col2{\n",
              "            background-color:  #5875e1;\n",
              "            color:  #000000;\n",
              "        }#T_4d963ae6_5b16_11ec_8956_0242ac1c0002row0_col10,#T_4d963ae6_5b16_11ec_8956_0242ac1c0002row1_col3,#T_4d963ae6_5b16_11ec_8956_0242ac1c0002row5_col7,#T_4d963ae6_5b16_11ec_8956_0242ac1c0002row7_col10{\n",
              "            background-color:  #455cce;\n",
              "            color:  #f1f1f1;\n",
              "        }#T_4d963ae6_5b16_11ec_8956_0242ac1c0002row1_col4,#T_4d963ae6_5b16_11ec_8956_0242ac1c0002row4_col2{\n",
              "            background-color:  #6a8bef;\n",
              "            color:  #000000;\n",
              "        }#T_4d963ae6_5b16_11ec_8956_0242ac1c0002row1_col5{\n",
              "            background-color:  #7295f4;\n",
              "            color:  #000000;\n",
              "        }#T_4d963ae6_5b16_11ec_8956_0242ac1c0002row1_col6,#T_4d963ae6_5b16_11ec_8956_0242ac1c0002row2_col4{\n",
              "            background-color:  #86a9fc;\n",
              "            color:  #000000;\n",
              "        }#T_4d963ae6_5b16_11ec_8956_0242ac1c0002row1_col8,#T_4d963ae6_5b16_11ec_8956_0242ac1c0002row3_col2,#T_4d963ae6_5b16_11ec_8956_0242ac1c0002row6_col10,#T_4d963ae6_5b16_11ec_8956_0242ac1c0002row9_col7{\n",
              "            background-color:  #4055c8;\n",
              "            color:  #f1f1f1;\n",
              "        }#T_4d963ae6_5b16_11ec_8956_0242ac1c0002row1_col9,#T_4d963ae6_5b16_11ec_8956_0242ac1c0002row9_col2{\n",
              "            background-color:  #516ddb;\n",
              "            color:  #000000;\n",
              "        }#T_4d963ae6_5b16_11ec_8956_0242ac1c0002row1_col10{\n",
              "            background-color:  #6788ee;\n",
              "            color:  #000000;\n",
              "        }#T_4d963ae6_5b16_11ec_8956_0242ac1c0002row2_col0{\n",
              "            background-color:  #9ebeff;\n",
              "            color:  #000000;\n",
              "        }#T_4d963ae6_5b16_11ec_8956_0242ac1c0002row2_col1{\n",
              "            background-color:  #90b2fe;\n",
              "            color:  #000000;\n",
              "        }#T_4d963ae6_5b16_11ec_8956_0242ac1c0002row2_col3,#T_4d963ae6_5b16_11ec_8956_0242ac1c0002row3_col9{\n",
              "            background-color:  #485fd1;\n",
              "            color:  #f1f1f1;\n",
              "        }#T_4d963ae6_5b16_11ec_8956_0242ac1c0002row2_col6{\n",
              "            background-color:  #8db0fe;\n",
              "            color:  #000000;\n",
              "        }#T_4d963ae6_5b16_11ec_8956_0242ac1c0002row2_col7{\n",
              "            background-color:  #6f92f3;\n",
              "            color:  #000000;\n",
              "        }#T_4d963ae6_5b16_11ec_8956_0242ac1c0002row2_col9,#T_4d963ae6_5b16_11ec_8956_0242ac1c0002row7_col6{\n",
              "            background-color:  #6485ec;\n",
              "            color:  #000000;\n",
              "        }#T_4d963ae6_5b16_11ec_8956_0242ac1c0002row2_col10{\n",
              "            background-color:  #6687ed;\n",
              "            color:  #000000;\n",
              "        }#T_4d963ae6_5b16_11ec_8956_0242ac1c0002row3_col0,#T_4d963ae6_5b16_11ec_8956_0242ac1c0002row5_col6{\n",
              "            background-color:  #93b5fe;\n",
              "            color:  #000000;\n",
              "        }#T_4d963ae6_5b16_11ec_8956_0242ac1c0002row3_col1,#T_4d963ae6_5b16_11ec_8956_0242ac1c0002row6_col5,#T_4d963ae6_5b16_11ec_8956_0242ac1c0002row8_col1,#T_4d963ae6_5b16_11ec_8956_0242ac1c0002row9_col1{\n",
              "            background-color:  #94b6ff;\n",
              "            color:  #000000;\n",
              "        }#T_4d963ae6_5b16_11ec_8956_0242ac1c0002row3_col4{\n",
              "            background-color:  #81a4fb;\n",
              "            color:  #000000;\n",
              "        }#T_4d963ae6_5b16_11ec_8956_0242ac1c0002row3_col5,#T_4d963ae6_5b16_11ec_8956_0242ac1c0002row7_col2,#T_4d963ae6_5b16_11ec_8956_0242ac1c0002row8_col2,#T_4d963ae6_5b16_11ec_8956_0242ac1c0002row8_col4,#T_4d963ae6_5b16_11ec_8956_0242ac1c0002row8_col6{\n",
              "            background-color:  #5673e0;\n",
              "            color:  #000000;\n",
              "        }#T_4d963ae6_5b16_11ec_8956_0242ac1c0002row3_col6,#T_4d963ae6_5b16_11ec_8956_0242ac1c0002row5_col0{\n",
              "            background-color:  #7da0f9;\n",
              "            color:  #000000;\n",
              "        }#T_4d963ae6_5b16_11ec_8956_0242ac1c0002row3_col7{\n",
              "            background-color:  #4c66d6;\n",
              "            color:  #000000;\n",
              "        }#T_4d963ae6_5b16_11ec_8956_0242ac1c0002row3_col8,#T_4d963ae6_5b16_11ec_8956_0242ac1c0002row5_col8,#T_4d963ae6_5b16_11ec_8956_0242ac1c0002row9_col8{\n",
              "            background-color:  #3e51c5;\n",
              "            color:  #f1f1f1;\n",
              "        }#T_4d963ae6_5b16_11ec_8956_0242ac1c0002row4_col0{\n",
              "            background-color:  #84a7fc;\n",
              "            color:  #000000;\n",
              "        }#T_4d963ae6_5b16_11ec_8956_0242ac1c0002row4_col1{\n",
              "            background-color:  #a1c0ff;\n",
              "            color:  #000000;\n",
              "        }#T_4d963ae6_5b16_11ec_8956_0242ac1c0002row4_col3{\n",
              "            background-color:  #6b8df0;\n",
              "            color:  #000000;\n",
              "        }#T_4d963ae6_5b16_11ec_8956_0242ac1c0002row4_col6{\n",
              "            background-color:  #f3c8b2;\n",
              "            color:  #000000;\n",
              "        }#T_4d963ae6_5b16_11ec_8956_0242ac1c0002row4_col9,#T_4d963ae6_5b16_11ec_8956_0242ac1c0002row7_col4,#T_4d963ae6_5b16_11ec_8956_0242ac1c0002row10_col6{\n",
              "            background-color:  #4e68d8;\n",
              "            color:  #000000;\n",
              "        }#T_4d963ae6_5b16_11ec_8956_0242ac1c0002row5_col1,#T_4d963ae6_5b16_11ec_8956_0242ac1c0002row7_col0{\n",
              "            background-color:  #a6c4fe;\n",
              "            color:  #000000;\n",
              "        }#T_4d963ae6_5b16_11ec_8956_0242ac1c0002row5_col2,#T_4d963ae6_5b16_11ec_8956_0242ac1c0002row8_col9,#T_4d963ae6_5b16_11ec_8956_0242ac1c0002row10_col7{\n",
              "            background-color:  #506bda;\n",
              "            color:  #000000;\n",
              "        }#T_4d963ae6_5b16_11ec_8956_0242ac1c0002row5_col3,#T_4d963ae6_5b16_11ec_8956_0242ac1c0002row7_col8{\n",
              "            background-color:  #3f53c6;\n",
              "            color:  #f1f1f1;\n",
              "        }#T_4d963ae6_5b16_11ec_8956_0242ac1c0002row5_col9{\n",
              "            background-color:  #5470de;\n",
              "            color:  #000000;\n",
              "        }#T_4d963ae6_5b16_11ec_8956_0242ac1c0002row6_col0{\n",
              "            background-color:  #7699f6;\n",
              "            color:  #000000;\n",
              "        }#T_4d963ae6_5b16_11ec_8956_0242ac1c0002row6_col1{\n",
              "            background-color:  #b9d0f9;\n",
              "            color:  #000000;\n",
              "        }#T_4d963ae6_5b16_11ec_8956_0242ac1c0002row6_col2{\n",
              "            background-color:  #7597f6;\n",
              "            color:  #000000;\n",
              "        }#T_4d963ae6_5b16_11ec_8956_0242ac1c0002row6_col3{\n",
              "            background-color:  #688aef;\n",
              "            color:  #000000;\n",
              "        }#T_4d963ae6_5b16_11ec_8956_0242ac1c0002row6_col4{\n",
              "            background-color:  #f3c7b1;\n",
              "            color:  #000000;\n",
              "        }#T_4d963ae6_5b16_11ec_8956_0242ac1c0002row6_col7{\n",
              "            background-color:  #6282ea;\n",
              "            color:  #000000;\n",
              "        }#T_4d963ae6_5b16_11ec_8956_0242ac1c0002row6_col8{\n",
              "            background-color:  #3c4ec2;\n",
              "            color:  #f1f1f1;\n",
              "        }#T_4d963ae6_5b16_11ec_8956_0242ac1c0002row7_col1{\n",
              "            background-color:  #799cf8;\n",
              "            color:  #000000;\n",
              "        }#T_4d963ae6_5b16_11ec_8956_0242ac1c0002row8_col0,#T_4d963ae6_5b16_11ec_8956_0242ac1c0002row10_col0{\n",
              "            background-color:  #8fb1fe;\n",
              "            color:  #000000;\n",
              "        }#T_4d963ae6_5b16_11ec_8956_0242ac1c0002row8_col5,#T_4d963ae6_5b16_11ec_8956_0242ac1c0002row10_col9{\n",
              "            background-color:  #5a78e4;\n",
              "            color:  #000000;\n",
              "        }#T_4d963ae6_5b16_11ec_8956_0242ac1c0002row8_col10{\n",
              "            background-color:  #f0cdbb;\n",
              "            color:  #000000;\n",
              "        }#T_4d963ae6_5b16_11ec_8956_0242ac1c0002row9_col0{\n",
              "            background-color:  #9abbff;\n",
              "            color:  #000000;\n",
              "        }#T_4d963ae6_5b16_11ec_8956_0242ac1c0002row9_col5{\n",
              "            background-color:  #5e7de7;\n",
              "            color:  #000000;\n",
              "        }#T_4d963ae6_5b16_11ec_8956_0242ac1c0002row9_col10{\n",
              "            background-color:  #5572df;\n",
              "            color:  #000000;\n",
              "        }#T_4d963ae6_5b16_11ec_8956_0242ac1c0002row10_col1{\n",
              "            background-color:  #aac7fd;\n",
              "            color:  #000000;\n",
              "        }#T_4d963ae6_5b16_11ec_8956_0242ac1c0002row10_col4{\n",
              "            background-color:  #5977e3;\n",
              "            color:  #000000;\n",
              "        }#T_4d963ae6_5b16_11ec_8956_0242ac1c0002row10_col8{\n",
              "            background-color:  #edd2c3;\n",
              "            color:  #000000;\n",
              "        }</style><table id=\"T_4d963ae6_5b16_11ec_8956_0242ac1c0002\" class=\"dataframe\"><thead>    <tr>        <th class=\"blank level0\" ></th>        <th class=\"col_heading level0 col0\" >Gender</th>        <th class=\"col_heading level0 col1\" >Married</th>        <th class=\"col_heading level0 col2\" >Education</th>        <th class=\"col_heading level0 col3\" >Self_Employed</th>        <th class=\"col_heading level0 col4\" >ApplicantIncome</th>        <th class=\"col_heading level0 col5\" >CoapplicantIncome</th>        <th class=\"col_heading level0 col6\" >LoanAmount</th>        <th class=\"col_heading level0 col7\" >Loan_Amount_Term</th>        <th class=\"col_heading level0 col8\" >Credit_History</th>        <th class=\"col_heading level0 col9\" >Property_Area</th>        <th class=\"col_heading level0 col10\" >Loan_Status</th>    </tr></thead><tbody>\n",
              "                <tr>\n",
              "                        <th id=\"T_4d963ae6_5b16_11ec_8956_0242ac1c0002level0_row0\" class=\"row_heading level0 row0\" >Gender</th>\n",
              "                        <td id=\"T_4d963ae6_5b16_11ec_8956_0242ac1c0002row0_col0\" class=\"data row0 col0\" >1.00</td>\n",
              "                        <td id=\"T_4d963ae6_5b16_11ec_8956_0242ac1c0002row0_col1\" class=\"data row0 col1\" >-0.36</td>\n",
              "                        <td id=\"T_4d963ae6_5b16_11ec_8956_0242ac1c0002row0_col2\" class=\"data row0 col2\" >0.05</td>\n",
              "                        <td id=\"T_4d963ae6_5b16_11ec_8956_0242ac1c0002row0_col3\" class=\"data row0 col3\" >0.00</td>\n",
              "                        <td id=\"T_4d963ae6_5b16_11ec_8956_0242ac1c0002row0_col4\" class=\"data row0 col4\" >-0.06</td>\n",
              "                        <td id=\"T_4d963ae6_5b16_11ec_8956_0242ac1c0002row0_col5\" class=\"data row0 col5\" >-0.08</td>\n",
              "                        <td id=\"T_4d963ae6_5b16_11ec_8956_0242ac1c0002row0_col6\" class=\"data row0 col6\" >-0.11</td>\n",
              "                        <td id=\"T_4d963ae6_5b16_11ec_8956_0242ac1c0002row0_col7\" class=\"data row0 col7\" >0.07</td>\n",
              "                        <td id=\"T_4d963ae6_5b16_11ec_8956_0242ac1c0002row0_col8\" class=\"data row0 col8\" >-0.01</td>\n",
              "                        <td id=\"T_4d963ae6_5b16_11ec_8956_0242ac1c0002row0_col9\" class=\"data row0 col9\" >0.03</td>\n",
              "                        <td id=\"T_4d963ae6_5b16_11ec_8956_0242ac1c0002row0_col10\" class=\"data row0 col10\" >-0.02</td>\n",
              "            </tr>\n",
              "            <tr>\n",
              "                        <th id=\"T_4d963ae6_5b16_11ec_8956_0242ac1c0002level0_row1\" class=\"row_heading level0 row1\" >Married</th>\n",
              "                        <td id=\"T_4d963ae6_5b16_11ec_8956_0242ac1c0002row1_col0\" class=\"data row1 col0\" >-0.36</td>\n",
              "                        <td id=\"T_4d963ae6_5b16_11ec_8956_0242ac1c0002row1_col1\" class=\"data row1 col1\" >1.00</td>\n",
              "                        <td id=\"T_4d963ae6_5b16_11ec_8956_0242ac1c0002row1_col2\" class=\"data row1 col2\" >-0.01</td>\n",
              "                        <td id=\"T_4d963ae6_5b16_11ec_8956_0242ac1c0002row1_col3\" class=\"data row1 col3\" >0.00</td>\n",
              "                        <td id=\"T_4d963ae6_5b16_11ec_8956_0242ac1c0002row1_col4\" class=\"data row1 col4\" >0.05</td>\n",
              "                        <td id=\"T_4d963ae6_5b16_11ec_8956_0242ac1c0002row1_col5\" class=\"data row1 col5\" >0.08</td>\n",
              "                        <td id=\"T_4d963ae6_5b16_11ec_8956_0242ac1c0002row1_col6\" class=\"data row1 col6\" >0.15</td>\n",
              "                        <td id=\"T_4d963ae6_5b16_11ec_8956_0242ac1c0002row1_col7\" class=\"data row1 col7\" >-0.10</td>\n",
              "                        <td id=\"T_4d963ae6_5b16_11ec_8956_0242ac1c0002row1_col8\" class=\"data row1 col8\" >0.01</td>\n",
              "                        <td id=\"T_4d963ae6_5b16_11ec_8956_0242ac1c0002row1_col9\" class=\"data row1 col9\" >0.00</td>\n",
              "                        <td id=\"T_4d963ae6_5b16_11ec_8956_0242ac1c0002row1_col10\" class=\"data row1 col10\" >0.09</td>\n",
              "            </tr>\n",
              "            <tr>\n",
              "                        <th id=\"T_4d963ae6_5b16_11ec_8956_0242ac1c0002level0_row2\" class=\"row_heading level0 row2\" >Education</th>\n",
              "                        <td id=\"T_4d963ae6_5b16_11ec_8956_0242ac1c0002row2_col0\" class=\"data row2 col0\" >0.05</td>\n",
              "                        <td id=\"T_4d963ae6_5b16_11ec_8956_0242ac1c0002row2_col1\" class=\"data row2 col1\" >-0.01</td>\n",
              "                        <td id=\"T_4d963ae6_5b16_11ec_8956_0242ac1c0002row2_col2\" class=\"data row2 col2\" >1.00</td>\n",
              "                        <td id=\"T_4d963ae6_5b16_11ec_8956_0242ac1c0002row2_col3\" class=\"data row2 col3\" >0.01</td>\n",
              "                        <td id=\"T_4d963ae6_5b16_11ec_8956_0242ac1c0002row2_col4\" class=\"data row2 col4\" >0.14</td>\n",
              "                        <td id=\"T_4d963ae6_5b16_11ec_8956_0242ac1c0002row2_col5\" class=\"data row2 col5\" >0.06</td>\n",
              "                        <td id=\"T_4d963ae6_5b16_11ec_8956_0242ac1c0002row2_col6\" class=\"data row2 col6\" >0.17</td>\n",
              "                        <td id=\"T_4d963ae6_5b16_11ec_8956_0242ac1c0002row2_col7\" class=\"data row2 col7\" >0.08</td>\n",
              "                        <td id=\"T_4d963ae6_5b16_11ec_8956_0242ac1c0002row2_col8\" class=\"data row2 col8\" >0.08</td>\n",
              "                        <td id=\"T_4d963ae6_5b16_11ec_8956_0242ac1c0002row2_col9\" class=\"data row2 col9\" >0.07</td>\n",
              "                        <td id=\"T_4d963ae6_5b16_11ec_8956_0242ac1c0002row2_col10\" class=\"data row2 col10\" >0.09</td>\n",
              "            </tr>\n",
              "            <tr>\n",
              "                        <th id=\"T_4d963ae6_5b16_11ec_8956_0242ac1c0002level0_row3\" class=\"row_heading level0 row3\" >Self_Employed</th>\n",
              "                        <td id=\"T_4d963ae6_5b16_11ec_8956_0242ac1c0002row3_col0\" class=\"data row3 col0\" >0.00</td>\n",
              "                        <td id=\"T_4d963ae6_5b16_11ec_8956_0242ac1c0002row3_col1\" class=\"data row3 col1\" >0.00</td>\n",
              "                        <td id=\"T_4d963ae6_5b16_11ec_8956_0242ac1c0002row3_col2\" class=\"data row3 col2\" >0.01</td>\n",
              "                        <td id=\"T_4d963ae6_5b16_11ec_8956_0242ac1c0002row3_col3\" class=\"data row3 col3\" >1.00</td>\n",
              "                        <td id=\"T_4d963ae6_5b16_11ec_8956_0242ac1c0002row3_col4\" class=\"data row3 col4\" >0.13</td>\n",
              "                        <td id=\"T_4d963ae6_5b16_11ec_8956_0242ac1c0002row3_col5\" class=\"data row3 col5\" >-0.02</td>\n",
              "                        <td id=\"T_4d963ae6_5b16_11ec_8956_0242ac1c0002row3_col6\" class=\"data row3 col6\" >0.12</td>\n",
              "                        <td id=\"T_4d963ae6_5b16_11ec_8956_0242ac1c0002row3_col7\" class=\"data row3 col7\" >-0.03</td>\n",
              "                        <td id=\"T_4d963ae6_5b16_11ec_8956_0242ac1c0002row3_col8\" class=\"data row3 col8\" >-0.00</td>\n",
              "                        <td id=\"T_4d963ae6_5b16_11ec_8956_0242ac1c0002row3_col9\" class=\"data row3 col9\" >-0.03</td>\n",
              "                        <td id=\"T_4d963ae6_5b16_11ec_8956_0242ac1c0002row3_col10\" class=\"data row3 col10\" >-0.00</td>\n",
              "            </tr>\n",
              "            <tr>\n",
              "                        <th id=\"T_4d963ae6_5b16_11ec_8956_0242ac1c0002level0_row4\" class=\"row_heading level0 row4\" >ApplicantIncome</th>\n",
              "                        <td id=\"T_4d963ae6_5b16_11ec_8956_0242ac1c0002row4_col0\" class=\"data row4 col0\" >-0.06</td>\n",
              "                        <td id=\"T_4d963ae6_5b16_11ec_8956_0242ac1c0002row4_col1\" class=\"data row4 col1\" >0.05</td>\n",
              "                        <td id=\"T_4d963ae6_5b16_11ec_8956_0242ac1c0002row4_col2\" class=\"data row4 col2\" >0.14</td>\n",
              "                        <td id=\"T_4d963ae6_5b16_11ec_8956_0242ac1c0002row4_col3\" class=\"data row4 col3\" >0.13</td>\n",
              "                        <td id=\"T_4d963ae6_5b16_11ec_8956_0242ac1c0002row4_col4\" class=\"data row4 col4\" >1.00</td>\n",
              "                        <td id=\"T_4d963ae6_5b16_11ec_8956_0242ac1c0002row4_col5\" class=\"data row4 col5\" >-0.12</td>\n",
              "                        <td id=\"T_4d963ae6_5b16_11ec_8956_0242ac1c0002row4_col6\" class=\"data row4 col6\" >0.57</td>\n",
              "                        <td id=\"T_4d963ae6_5b16_11ec_8956_0242ac1c0002row4_col7\" class=\"data row4 col7\" >-0.05</td>\n",
              "                        <td id=\"T_4d963ae6_5b16_11ec_8956_0242ac1c0002row4_col8\" class=\"data row4 col8\" >-0.01</td>\n",
              "                        <td id=\"T_4d963ae6_5b16_11ec_8956_0242ac1c0002row4_col9\" class=\"data row4 col9\" >-0.01</td>\n",
              "                        <td id=\"T_4d963ae6_5b16_11ec_8956_0242ac1c0002row4_col10\" class=\"data row4 col10\" >-0.00</td>\n",
              "            </tr>\n",
              "            <tr>\n",
              "                        <th id=\"T_4d963ae6_5b16_11ec_8956_0242ac1c0002level0_row5\" class=\"row_heading level0 row5\" >CoapplicantIncome</th>\n",
              "                        <td id=\"T_4d963ae6_5b16_11ec_8956_0242ac1c0002row5_col0\" class=\"data row5 col0\" >-0.08</td>\n",
              "                        <td id=\"T_4d963ae6_5b16_11ec_8956_0242ac1c0002row5_col1\" class=\"data row5 col1\" >0.08</td>\n",
              "                        <td id=\"T_4d963ae6_5b16_11ec_8956_0242ac1c0002row5_col2\" class=\"data row5 col2\" >0.06</td>\n",
              "                        <td id=\"T_4d963ae6_5b16_11ec_8956_0242ac1c0002row5_col3\" class=\"data row5 col3\" >-0.02</td>\n",
              "                        <td id=\"T_4d963ae6_5b16_11ec_8956_0242ac1c0002row5_col4\" class=\"data row5 col4\" >-0.12</td>\n",
              "                        <td id=\"T_4d963ae6_5b16_11ec_8956_0242ac1c0002row5_col5\" class=\"data row5 col5\" >1.00</td>\n",
              "                        <td id=\"T_4d963ae6_5b16_11ec_8956_0242ac1c0002row5_col6\" class=\"data row5 col6\" >0.19</td>\n",
              "                        <td id=\"T_4d963ae6_5b16_11ec_8956_0242ac1c0002row5_col7\" class=\"data row5 col7\" >-0.06</td>\n",
              "                        <td id=\"T_4d963ae6_5b16_11ec_8956_0242ac1c0002row5_col8\" class=\"data row5 col8\" >-0.00</td>\n",
              "                        <td id=\"T_4d963ae6_5b16_11ec_8956_0242ac1c0002row5_col9\" class=\"data row5 col9\" >0.01</td>\n",
              "                        <td id=\"T_4d963ae6_5b16_11ec_8956_0242ac1c0002row5_col10\" class=\"data row5 col10\" >-0.06</td>\n",
              "            </tr>\n",
              "            <tr>\n",
              "                        <th id=\"T_4d963ae6_5b16_11ec_8956_0242ac1c0002level0_row6\" class=\"row_heading level0 row6\" >LoanAmount</th>\n",
              "                        <td id=\"T_4d963ae6_5b16_11ec_8956_0242ac1c0002row6_col0\" class=\"data row6 col0\" >-0.11</td>\n",
              "                        <td id=\"T_4d963ae6_5b16_11ec_8956_0242ac1c0002row6_col1\" class=\"data row6 col1\" >0.15</td>\n",
              "                        <td id=\"T_4d963ae6_5b16_11ec_8956_0242ac1c0002row6_col2\" class=\"data row6 col2\" >0.17</td>\n",
              "                        <td id=\"T_4d963ae6_5b16_11ec_8956_0242ac1c0002row6_col3\" class=\"data row6 col3\" >0.12</td>\n",
              "                        <td id=\"T_4d963ae6_5b16_11ec_8956_0242ac1c0002row6_col4\" class=\"data row6 col4\" >0.57</td>\n",
              "                        <td id=\"T_4d963ae6_5b16_11ec_8956_0242ac1c0002row6_col5\" class=\"data row6 col5\" >0.19</td>\n",
              "                        <td id=\"T_4d963ae6_5b16_11ec_8956_0242ac1c0002row6_col6\" class=\"data row6 col6\" >1.00</td>\n",
              "                        <td id=\"T_4d963ae6_5b16_11ec_8956_0242ac1c0002row6_col7\" class=\"data row6 col7\" >0.04</td>\n",
              "                        <td id=\"T_4d963ae6_5b16_11ec_8956_0242ac1c0002row6_col8\" class=\"data row6 col8\" >-0.01</td>\n",
              "                        <td id=\"T_4d963ae6_5b16_11ec_8956_0242ac1c0002row6_col9\" class=\"data row6 col9\" >-0.05</td>\n",
              "                        <td id=\"T_4d963ae6_5b16_11ec_8956_0242ac1c0002row6_col10\" class=\"data row6 col10\" >-0.04</td>\n",
              "            </tr>\n",
              "            <tr>\n",
              "                        <th id=\"T_4d963ae6_5b16_11ec_8956_0242ac1c0002level0_row7\" class=\"row_heading level0 row7\" >Loan_Amount_Term</th>\n",
              "                        <td id=\"T_4d963ae6_5b16_11ec_8956_0242ac1c0002row7_col0\" class=\"data row7 col0\" >0.07</td>\n",
              "                        <td id=\"T_4d963ae6_5b16_11ec_8956_0242ac1c0002row7_col1\" class=\"data row7 col1\" >-0.10</td>\n",
              "                        <td id=\"T_4d963ae6_5b16_11ec_8956_0242ac1c0002row7_col2\" class=\"data row7 col2\" >0.08</td>\n",
              "                        <td id=\"T_4d963ae6_5b16_11ec_8956_0242ac1c0002row7_col3\" class=\"data row7 col3\" >-0.03</td>\n",
              "                        <td id=\"T_4d963ae6_5b16_11ec_8956_0242ac1c0002row7_col4\" class=\"data row7 col4\" >-0.05</td>\n",
              "                        <td id=\"T_4d963ae6_5b16_11ec_8956_0242ac1c0002row7_col5\" class=\"data row7 col5\" >-0.06</td>\n",
              "                        <td id=\"T_4d963ae6_5b16_11ec_8956_0242ac1c0002row7_col6\" class=\"data row7 col6\" >0.04</td>\n",
              "                        <td id=\"T_4d963ae6_5b16_11ec_8956_0242ac1c0002row7_col7\" class=\"data row7 col7\" >1.00</td>\n",
              "                        <td id=\"T_4d963ae6_5b16_11ec_8956_0242ac1c0002row7_col8\" class=\"data row7 col8\" >0.00</td>\n",
              "                        <td id=\"T_4d963ae6_5b16_11ec_8956_0242ac1c0002row7_col9\" class=\"data row7 col9\" >-0.08</td>\n",
              "                        <td id=\"T_4d963ae6_5b16_11ec_8956_0242ac1c0002row7_col10\" class=\"data row7 col10\" >-0.02</td>\n",
              "            </tr>\n",
              "            <tr>\n",
              "                        <th id=\"T_4d963ae6_5b16_11ec_8956_0242ac1c0002level0_row8\" class=\"row_heading level0 row8\" >Credit_History</th>\n",
              "                        <td id=\"T_4d963ae6_5b16_11ec_8956_0242ac1c0002row8_col0\" class=\"data row8 col0\" >-0.01</td>\n",
              "                        <td id=\"T_4d963ae6_5b16_11ec_8956_0242ac1c0002row8_col1\" class=\"data row8 col1\" >0.01</td>\n",
              "                        <td id=\"T_4d963ae6_5b16_11ec_8956_0242ac1c0002row8_col2\" class=\"data row8 col2\" >0.08</td>\n",
              "                        <td id=\"T_4d963ae6_5b16_11ec_8956_0242ac1c0002row8_col3\" class=\"data row8 col3\" >-0.00</td>\n",
              "                        <td id=\"T_4d963ae6_5b16_11ec_8956_0242ac1c0002row8_col4\" class=\"data row8 col4\" >-0.01</td>\n",
              "                        <td id=\"T_4d963ae6_5b16_11ec_8956_0242ac1c0002row8_col5\" class=\"data row8 col5\" >-0.00</td>\n",
              "                        <td id=\"T_4d963ae6_5b16_11ec_8956_0242ac1c0002row8_col6\" class=\"data row8 col6\" >-0.01</td>\n",
              "                        <td id=\"T_4d963ae6_5b16_11ec_8956_0242ac1c0002row8_col7\" class=\"data row8 col7\" >0.00</td>\n",
              "                        <td id=\"T_4d963ae6_5b16_11ec_8956_0242ac1c0002row8_col8\" class=\"data row8 col8\" >1.00</td>\n",
              "                        <td id=\"T_4d963ae6_5b16_11ec_8956_0242ac1c0002row8_col9\" class=\"data row8 col9\" >-0.00</td>\n",
              "                        <td id=\"T_4d963ae6_5b16_11ec_8956_0242ac1c0002row8_col10\" class=\"data row8 col10\" >0.56</td>\n",
              "            </tr>\n",
              "            <tr>\n",
              "                        <th id=\"T_4d963ae6_5b16_11ec_8956_0242ac1c0002level0_row9\" class=\"row_heading level0 row9\" >Property_Area</th>\n",
              "                        <td id=\"T_4d963ae6_5b16_11ec_8956_0242ac1c0002row9_col0\" class=\"data row9 col0\" >0.03</td>\n",
              "                        <td id=\"T_4d963ae6_5b16_11ec_8956_0242ac1c0002row9_col1\" class=\"data row9 col1\" >0.00</td>\n",
              "                        <td id=\"T_4d963ae6_5b16_11ec_8956_0242ac1c0002row9_col2\" class=\"data row9 col2\" >0.07</td>\n",
              "                        <td id=\"T_4d963ae6_5b16_11ec_8956_0242ac1c0002row9_col3\" class=\"data row9 col3\" >-0.03</td>\n",
              "                        <td id=\"T_4d963ae6_5b16_11ec_8956_0242ac1c0002row9_col4\" class=\"data row9 col4\" >-0.01</td>\n",
              "                        <td id=\"T_4d963ae6_5b16_11ec_8956_0242ac1c0002row9_col5\" class=\"data row9 col5\" >0.01</td>\n",
              "                        <td id=\"T_4d963ae6_5b16_11ec_8956_0242ac1c0002row9_col6\" class=\"data row9 col6\" >-0.05</td>\n",
              "                        <td id=\"T_4d963ae6_5b16_11ec_8956_0242ac1c0002row9_col7\" class=\"data row9 col7\" >-0.08</td>\n",
              "                        <td id=\"T_4d963ae6_5b16_11ec_8956_0242ac1c0002row9_col8\" class=\"data row9 col8\" >-0.00</td>\n",
              "                        <td id=\"T_4d963ae6_5b16_11ec_8956_0242ac1c0002row9_col9\" class=\"data row9 col9\" >1.00</td>\n",
              "                        <td id=\"T_4d963ae6_5b16_11ec_8956_0242ac1c0002row9_col10\" class=\"data row9 col10\" >0.03</td>\n",
              "            </tr>\n",
              "            <tr>\n",
              "                        <th id=\"T_4d963ae6_5b16_11ec_8956_0242ac1c0002level0_row10\" class=\"row_heading level0 row10\" >Loan_Status</th>\n",
              "                        <td id=\"T_4d963ae6_5b16_11ec_8956_0242ac1c0002row10_col0\" class=\"data row10 col0\" >-0.02</td>\n",
              "                        <td id=\"T_4d963ae6_5b16_11ec_8956_0242ac1c0002row10_col1\" class=\"data row10 col1\" >0.09</td>\n",
              "                        <td id=\"T_4d963ae6_5b16_11ec_8956_0242ac1c0002row10_col2\" class=\"data row10 col2\" >0.09</td>\n",
              "                        <td id=\"T_4d963ae6_5b16_11ec_8956_0242ac1c0002row10_col3\" class=\"data row10 col3\" >-0.00</td>\n",
              "                        <td id=\"T_4d963ae6_5b16_11ec_8956_0242ac1c0002row10_col4\" class=\"data row10 col4\" >-0.00</td>\n",
              "                        <td id=\"T_4d963ae6_5b16_11ec_8956_0242ac1c0002row10_col5\" class=\"data row10 col5\" >-0.06</td>\n",
              "                        <td id=\"T_4d963ae6_5b16_11ec_8956_0242ac1c0002row10_col6\" class=\"data row10 col6\" >-0.04</td>\n",
              "                        <td id=\"T_4d963ae6_5b16_11ec_8956_0242ac1c0002row10_col7\" class=\"data row10 col7\" >-0.02</td>\n",
              "                        <td id=\"T_4d963ae6_5b16_11ec_8956_0242ac1c0002row10_col8\" class=\"data row10 col8\" >0.56</td>\n",
              "                        <td id=\"T_4d963ae6_5b16_11ec_8956_0242ac1c0002row10_col9\" class=\"data row10 col9\" >0.03</td>\n",
              "                        <td id=\"T_4d963ae6_5b16_11ec_8956_0242ac1c0002row10_col10\" class=\"data row10 col10\" >1.00</td>\n",
              "            </tr>\n",
              "    </tbody></table>"
            ],
            "text/plain": [
              "<pandas.io.formats.style.Styler at 0x7f42b1169c90>"
            ]
          },
          "metadata": {},
          "execution_count": 51
        }
      ]
    },
    {
      "cell_type": "code",
      "source": [
        "train.isnull().sum()"
      ],
      "metadata": {
        "colab": {
          "base_uri": "https://localhost:8080/"
        },
        "id": "8gSzokXPEtFu",
        "outputId": "4660ce10-43f4-459e-af1c-5a68ddaa9ce4"
      },
      "execution_count": 52,
      "outputs": [
        {
          "output_type": "execute_result",
          "data": {
            "text/plain": [
              "Gender                0\n",
              "Married               0\n",
              "Dependents            0\n",
              "Education             0\n",
              "Self_Employed         0\n",
              "ApplicantIncome       0\n",
              "CoapplicantIncome     0\n",
              "LoanAmount           22\n",
              "Loan_Amount_Term     14\n",
              "Credit_History       50\n",
              "Property_Area         0\n",
              "Loan_Status           0\n",
              "dtype: int64"
            ]
          },
          "metadata": {},
          "execution_count": 52
        }
      ]
    },
    {
      "cell_type": "code",
      "source": [
        "train['Loan_Amount_Term'].fillna(train['Loan_Amount_Term'].mean(), inplace=True)\n",
        "train['LoanAmount'].fillna(train['LoanAmount'].mean(), inplace=True)"
      ],
      "metadata": {
        "id": "OBhwfH4tFI-h"
      },
      "execution_count": 53,
      "outputs": []
    },
    {
      "cell_type": "code",
      "source": [
        "corr = train.corr()\n",
        "corr.style.background_gradient(cmap='coolwarm').set_precision(2)"
      ],
      "metadata": {
        "colab": {
          "base_uri": "https://localhost:8080/",
          "height": 394
        },
        "id": "B2jyZBwjFXUV",
        "outputId": "6848d175-3a8e-4c84-dd8a-494557dc3103"
      },
      "execution_count": 54,
      "outputs": [
        {
          "output_type": "execute_result",
          "data": {
            "text/html": [
              "<style  type=\"text/css\" >\n",
              "#T_4da1d4be_5b16_11ec_8956_0242ac1c0002row0_col0,#T_4da1d4be_5b16_11ec_8956_0242ac1c0002row1_col1,#T_4da1d4be_5b16_11ec_8956_0242ac1c0002row2_col2,#T_4da1d4be_5b16_11ec_8956_0242ac1c0002row3_col3,#T_4da1d4be_5b16_11ec_8956_0242ac1c0002row4_col4,#T_4da1d4be_5b16_11ec_8956_0242ac1c0002row5_col5,#T_4da1d4be_5b16_11ec_8956_0242ac1c0002row6_col6,#T_4da1d4be_5b16_11ec_8956_0242ac1c0002row7_col7,#T_4da1d4be_5b16_11ec_8956_0242ac1c0002row8_col8,#T_4da1d4be_5b16_11ec_8956_0242ac1c0002row9_col9,#T_4da1d4be_5b16_11ec_8956_0242ac1c0002row10_col10{\n",
              "            background-color:  #b40426;\n",
              "            color:  #f1f1f1;\n",
              "        }#T_4da1d4be_5b16_11ec_8956_0242ac1c0002row0_col1,#T_4da1d4be_5b16_11ec_8956_0242ac1c0002row0_col6,#T_4da1d4be_5b16_11ec_8956_0242ac1c0002row0_col8,#T_4da1d4be_5b16_11ec_8956_0242ac1c0002row1_col0,#T_4da1d4be_5b16_11ec_8956_0242ac1c0002row1_col2,#T_4da1d4be_5b16_11ec_8956_0242ac1c0002row1_col7,#T_4da1d4be_5b16_11ec_8956_0242ac1c0002row4_col5,#T_4da1d4be_5b16_11ec_8956_0242ac1c0002row4_col8,#T_4da1d4be_5b16_11ec_8956_0242ac1c0002row5_col4,#T_4da1d4be_5b16_11ec_8956_0242ac1c0002row5_col10,#T_4da1d4be_5b16_11ec_8956_0242ac1c0002row7_col3,#T_4da1d4be_5b16_11ec_8956_0242ac1c0002row7_col9,#T_4da1d4be_5b16_11ec_8956_0242ac1c0002row9_col3{\n",
              "            background-color:  #3b4cc0;\n",
              "            color:  #f1f1f1;\n",
              "        }#T_4da1d4be_5b16_11ec_8956_0242ac1c0002row0_col2,#T_4da1d4be_5b16_11ec_8956_0242ac1c0002row9_col6{\n",
              "            background-color:  #4b64d5;\n",
              "            color:  #f1f1f1;\n",
              "        }#T_4da1d4be_5b16_11ec_8956_0242ac1c0002row0_col3{\n",
              "            background-color:  #445acc;\n",
              "            color:  #f1f1f1;\n",
              "        }#T_4da1d4be_5b16_11ec_8956_0242ac1c0002row0_col4,#T_4da1d4be_5b16_11ec_8956_0242ac1c0002row3_col10,#T_4da1d4be_5b16_11ec_8956_0242ac1c0002row4_col10,#T_4da1d4be_5b16_11ec_8956_0242ac1c0002row7_col5,#T_4da1d4be_5b16_11ec_8956_0242ac1c0002row10_col5{\n",
              "            background-color:  #4a63d3;\n",
              "            color:  #f1f1f1;\n",
              "        }#T_4da1d4be_5b16_11ec_8956_0242ac1c0002row0_col5,#T_4da1d4be_5b16_11ec_8956_0242ac1c0002row6_col9,#T_4da1d4be_5b16_11ec_8956_0242ac1c0002row8_col3,#T_4da1d4be_5b16_11ec_8956_0242ac1c0002row10_col3{\n",
              "            background-color:  #4358cb;\n",
              "            color:  #f1f1f1;\n",
              "        }#T_4da1d4be_5b16_11ec_8956_0242ac1c0002row0_col7{\n",
              "            background-color:  #6c8ff1;\n",
              "            color:  #000000;\n",
              "        }#T_4da1d4be_5b16_11ec_8956_0242ac1c0002row0_col9,#T_4da1d4be_5b16_11ec_8956_0242ac1c0002row2_col8,#T_4da1d4be_5b16_11ec_8956_0242ac1c0002row9_col4,#T_4da1d4be_5b16_11ec_8956_0242ac1c0002row10_col2{\n",
              "            background-color:  #5875e1;\n",
              "            color:  #000000;\n",
              "        }#T_4da1d4be_5b16_11ec_8956_0242ac1c0002row0_col10,#T_4da1d4be_5b16_11ec_8956_0242ac1c0002row1_col3,#T_4da1d4be_5b16_11ec_8956_0242ac1c0002row5_col7,#T_4da1d4be_5b16_11ec_8956_0242ac1c0002row7_col10{\n",
              "            background-color:  #455cce;\n",
              "            color:  #f1f1f1;\n",
              "        }#T_4da1d4be_5b16_11ec_8956_0242ac1c0002row1_col4,#T_4da1d4be_5b16_11ec_8956_0242ac1c0002row4_col2{\n",
              "            background-color:  #6a8bef;\n",
              "            color:  #000000;\n",
              "        }#T_4da1d4be_5b16_11ec_8956_0242ac1c0002row1_col5{\n",
              "            background-color:  #7295f4;\n",
              "            color:  #000000;\n",
              "        }#T_4da1d4be_5b16_11ec_8956_0242ac1c0002row1_col6{\n",
              "            background-color:  #85a8fc;\n",
              "            color:  #000000;\n",
              "        }#T_4da1d4be_5b16_11ec_8956_0242ac1c0002row1_col8,#T_4da1d4be_5b16_11ec_8956_0242ac1c0002row3_col2,#T_4da1d4be_5b16_11ec_8956_0242ac1c0002row6_col10,#T_4da1d4be_5b16_11ec_8956_0242ac1c0002row9_col7{\n",
              "            background-color:  #4055c8;\n",
              "            color:  #f1f1f1;\n",
              "        }#T_4da1d4be_5b16_11ec_8956_0242ac1c0002row1_col9,#T_4da1d4be_5b16_11ec_8956_0242ac1c0002row9_col2{\n",
              "            background-color:  #516ddb;\n",
              "            color:  #000000;\n",
              "        }#T_4da1d4be_5b16_11ec_8956_0242ac1c0002row1_col10,#T_4da1d4be_5b16_11ec_8956_0242ac1c0002row6_col3{\n",
              "            background-color:  #6788ee;\n",
              "            color:  #000000;\n",
              "        }#T_4da1d4be_5b16_11ec_8956_0242ac1c0002row2_col0{\n",
              "            background-color:  #9ebeff;\n",
              "            color:  #000000;\n",
              "        }#T_4da1d4be_5b16_11ec_8956_0242ac1c0002row2_col1{\n",
              "            background-color:  #90b2fe;\n",
              "            color:  #000000;\n",
              "        }#T_4da1d4be_5b16_11ec_8956_0242ac1c0002row2_col3{\n",
              "            background-color:  #465ecf;\n",
              "            color:  #f1f1f1;\n",
              "        }#T_4da1d4be_5b16_11ec_8956_0242ac1c0002row2_col4{\n",
              "            background-color:  #86a9fc;\n",
              "            color:  #000000;\n",
              "        }#T_4da1d4be_5b16_11ec_8956_0242ac1c0002row2_col5,#T_4da1d4be_5b16_11ec_8956_0242ac1c0002row2_col7{\n",
              "            background-color:  #6e90f2;\n",
              "            color:  #000000;\n",
              "        }#T_4da1d4be_5b16_11ec_8956_0242ac1c0002row2_col6{\n",
              "            background-color:  #8caffe;\n",
              "            color:  #000000;\n",
              "        }#T_4da1d4be_5b16_11ec_8956_0242ac1c0002row2_col9,#T_4da1d4be_5b16_11ec_8956_0242ac1c0002row7_col6{\n",
              "            background-color:  #6384eb;\n",
              "            color:  #000000;\n",
              "        }#T_4da1d4be_5b16_11ec_8956_0242ac1c0002row2_col10{\n",
              "            background-color:  #6687ed;\n",
              "            color:  #000000;\n",
              "        }#T_4da1d4be_5b16_11ec_8956_0242ac1c0002row3_col0,#T_4da1d4be_5b16_11ec_8956_0242ac1c0002row5_col6{\n",
              "            background-color:  #93b5fe;\n",
              "            color:  #000000;\n",
              "        }#T_4da1d4be_5b16_11ec_8956_0242ac1c0002row3_col1,#T_4da1d4be_5b16_11ec_8956_0242ac1c0002row6_col5,#T_4da1d4be_5b16_11ec_8956_0242ac1c0002row8_col1,#T_4da1d4be_5b16_11ec_8956_0242ac1c0002row9_col1{\n",
              "            background-color:  #94b6ff;\n",
              "            color:  #000000;\n",
              "        }#T_4da1d4be_5b16_11ec_8956_0242ac1c0002row3_col4{\n",
              "            background-color:  #81a4fb;\n",
              "            color:  #000000;\n",
              "        }#T_4da1d4be_5b16_11ec_8956_0242ac1c0002row3_col5,#T_4da1d4be_5b16_11ec_8956_0242ac1c0002row8_col2,#T_4da1d4be_5b16_11ec_8956_0242ac1c0002row8_col4,#T_4da1d4be_5b16_11ec_8956_0242ac1c0002row8_col6,#T_4da1d4be_5b16_11ec_8956_0242ac1c0002row8_col7{\n",
              "            background-color:  #5673e0;\n",
              "            color:  #000000;\n",
              "        }#T_4da1d4be_5b16_11ec_8956_0242ac1c0002row3_col6{\n",
              "            background-color:  #7b9ff9;\n",
              "            color:  #000000;\n",
              "        }#T_4da1d4be_5b16_11ec_8956_0242ac1c0002row3_col7{\n",
              "            background-color:  #4c66d6;\n",
              "            color:  #000000;\n",
              "        }#T_4da1d4be_5b16_11ec_8956_0242ac1c0002row3_col8,#T_4da1d4be_5b16_11ec_8956_0242ac1c0002row5_col8,#T_4da1d4be_5b16_11ec_8956_0242ac1c0002row9_col8{\n",
              "            background-color:  #3e51c5;\n",
              "            color:  #f1f1f1;\n",
              "        }#T_4da1d4be_5b16_11ec_8956_0242ac1c0002row3_col9{\n",
              "            background-color:  #485fd1;\n",
              "            color:  #f1f1f1;\n",
              "        }#T_4da1d4be_5b16_11ec_8956_0242ac1c0002row4_col0{\n",
              "            background-color:  #84a7fc;\n",
              "            color:  #000000;\n",
              "        }#T_4da1d4be_5b16_11ec_8956_0242ac1c0002row4_col1{\n",
              "            background-color:  #a1c0ff;\n",
              "            color:  #000000;\n",
              "        }#T_4da1d4be_5b16_11ec_8956_0242ac1c0002row4_col3{\n",
              "            background-color:  #6b8df0;\n",
              "            color:  #000000;\n",
              "        }#T_4da1d4be_5b16_11ec_8956_0242ac1c0002row4_col6{\n",
              "            background-color:  #f2c9b4;\n",
              "            color:  #000000;\n",
              "        }#T_4da1d4be_5b16_11ec_8956_0242ac1c0002row4_col7{\n",
              "            background-color:  #4961d2;\n",
              "            color:  #f1f1f1;\n",
              "        }#T_4da1d4be_5b16_11ec_8956_0242ac1c0002row4_col9,#T_4da1d4be_5b16_11ec_8956_0242ac1c0002row7_col4,#T_4da1d4be_5b16_11ec_8956_0242ac1c0002row10_col6{\n",
              "            background-color:  #4e68d8;\n",
              "            color:  #000000;\n",
              "        }#T_4da1d4be_5b16_11ec_8956_0242ac1c0002row5_col0{\n",
              "            background-color:  #7da0f9;\n",
              "            color:  #000000;\n",
              "        }#T_4da1d4be_5b16_11ec_8956_0242ac1c0002row5_col1,#T_4da1d4be_5b16_11ec_8956_0242ac1c0002row7_col0{\n",
              "            background-color:  #a6c4fe;\n",
              "            color:  #000000;\n",
              "        }#T_4da1d4be_5b16_11ec_8956_0242ac1c0002row5_col2,#T_4da1d4be_5b16_11ec_8956_0242ac1c0002row10_col7{\n",
              "            background-color:  #506bda;\n",
              "            color:  #000000;\n",
              "        }#T_4da1d4be_5b16_11ec_8956_0242ac1c0002row5_col3,#T_4da1d4be_5b16_11ec_8956_0242ac1c0002row7_col8{\n",
              "            background-color:  #3f53c6;\n",
              "            color:  #f1f1f1;\n",
              "        }#T_4da1d4be_5b16_11ec_8956_0242ac1c0002row5_col9{\n",
              "            background-color:  #536edd;\n",
              "            color:  #000000;\n",
              "        }#T_4da1d4be_5b16_11ec_8956_0242ac1c0002row6_col0{\n",
              "            background-color:  #779af7;\n",
              "            color:  #000000;\n",
              "        }#T_4da1d4be_5b16_11ec_8956_0242ac1c0002row6_col1{\n",
              "            background-color:  #b7cff9;\n",
              "            color:  #000000;\n",
              "        }#T_4da1d4be_5b16_11ec_8956_0242ac1c0002row6_col2{\n",
              "            background-color:  #7396f5;\n",
              "            color:  #000000;\n",
              "        }#T_4da1d4be_5b16_11ec_8956_0242ac1c0002row6_col4{\n",
              "            background-color:  #f3c8b2;\n",
              "            color:  #000000;\n",
              "        }#T_4da1d4be_5b16_11ec_8956_0242ac1c0002row6_col7{\n",
              "            background-color:  #6282ea;\n",
              "            color:  #000000;\n",
              "        }#T_4da1d4be_5b16_11ec_8956_0242ac1c0002row6_col8{\n",
              "            background-color:  #3c4ec2;\n",
              "            color:  #f1f1f1;\n",
              "        }#T_4da1d4be_5b16_11ec_8956_0242ac1c0002row7_col1{\n",
              "            background-color:  #799cf8;\n",
              "            color:  #000000;\n",
              "        }#T_4da1d4be_5b16_11ec_8956_0242ac1c0002row7_col2,#T_4da1d4be_5b16_11ec_8956_0242ac1c0002row9_col10{\n",
              "            background-color:  #5572df;\n",
              "            color:  #000000;\n",
              "        }#T_4da1d4be_5b16_11ec_8956_0242ac1c0002row8_col0,#T_4da1d4be_5b16_11ec_8956_0242ac1c0002row10_col0{\n",
              "            background-color:  #8fb1fe;\n",
              "            color:  #000000;\n",
              "        }#T_4da1d4be_5b16_11ec_8956_0242ac1c0002row8_col5,#T_4da1d4be_5b16_11ec_8956_0242ac1c0002row10_col9{\n",
              "            background-color:  #5a78e4;\n",
              "            color:  #000000;\n",
              "        }#T_4da1d4be_5b16_11ec_8956_0242ac1c0002row8_col9{\n",
              "            background-color:  #4f69d9;\n",
              "            color:  #000000;\n",
              "        }#T_4da1d4be_5b16_11ec_8956_0242ac1c0002row8_col10{\n",
              "            background-color:  #f0cdbb;\n",
              "            color:  #000000;\n",
              "        }#T_4da1d4be_5b16_11ec_8956_0242ac1c0002row9_col0{\n",
              "            background-color:  #9abbff;\n",
              "            color:  #000000;\n",
              "        }#T_4da1d4be_5b16_11ec_8956_0242ac1c0002row9_col5{\n",
              "            background-color:  #5e7de7;\n",
              "            color:  #000000;\n",
              "        }#T_4da1d4be_5b16_11ec_8956_0242ac1c0002row10_col1{\n",
              "            background-color:  #aac7fd;\n",
              "            color:  #000000;\n",
              "        }#T_4da1d4be_5b16_11ec_8956_0242ac1c0002row10_col4{\n",
              "            background-color:  #5977e3;\n",
              "            color:  #000000;\n",
              "        }#T_4da1d4be_5b16_11ec_8956_0242ac1c0002row10_col8{\n",
              "            background-color:  #edd2c3;\n",
              "            color:  #000000;\n",
              "        }</style><table id=\"T_4da1d4be_5b16_11ec_8956_0242ac1c0002\" class=\"dataframe\"><thead>    <tr>        <th class=\"blank level0\" ></th>        <th class=\"col_heading level0 col0\" >Gender</th>        <th class=\"col_heading level0 col1\" >Married</th>        <th class=\"col_heading level0 col2\" >Education</th>        <th class=\"col_heading level0 col3\" >Self_Employed</th>        <th class=\"col_heading level0 col4\" >ApplicantIncome</th>        <th class=\"col_heading level0 col5\" >CoapplicantIncome</th>        <th class=\"col_heading level0 col6\" >LoanAmount</th>        <th class=\"col_heading level0 col7\" >Loan_Amount_Term</th>        <th class=\"col_heading level0 col8\" >Credit_History</th>        <th class=\"col_heading level0 col9\" >Property_Area</th>        <th class=\"col_heading level0 col10\" >Loan_Status</th>    </tr></thead><tbody>\n",
              "                <tr>\n",
              "                        <th id=\"T_4da1d4be_5b16_11ec_8956_0242ac1c0002level0_row0\" class=\"row_heading level0 row0\" >Gender</th>\n",
              "                        <td id=\"T_4da1d4be_5b16_11ec_8956_0242ac1c0002row0_col0\" class=\"data row0 col0\" >1.00</td>\n",
              "                        <td id=\"T_4da1d4be_5b16_11ec_8956_0242ac1c0002row0_col1\" class=\"data row0 col1\" >-0.36</td>\n",
              "                        <td id=\"T_4da1d4be_5b16_11ec_8956_0242ac1c0002row0_col2\" class=\"data row0 col2\" >0.05</td>\n",
              "                        <td id=\"T_4da1d4be_5b16_11ec_8956_0242ac1c0002row0_col3\" class=\"data row0 col3\" >0.00</td>\n",
              "                        <td id=\"T_4da1d4be_5b16_11ec_8956_0242ac1c0002row0_col4\" class=\"data row0 col4\" >-0.06</td>\n",
              "                        <td id=\"T_4da1d4be_5b16_11ec_8956_0242ac1c0002row0_col5\" class=\"data row0 col5\" >-0.08</td>\n",
              "                        <td id=\"T_4da1d4be_5b16_11ec_8956_0242ac1c0002row0_col6\" class=\"data row0 col6\" >-0.11</td>\n",
              "                        <td id=\"T_4da1d4be_5b16_11ec_8956_0242ac1c0002row0_col7\" class=\"data row0 col7\" >0.07</td>\n",
              "                        <td id=\"T_4da1d4be_5b16_11ec_8956_0242ac1c0002row0_col8\" class=\"data row0 col8\" >-0.01</td>\n",
              "                        <td id=\"T_4da1d4be_5b16_11ec_8956_0242ac1c0002row0_col9\" class=\"data row0 col9\" >0.03</td>\n",
              "                        <td id=\"T_4da1d4be_5b16_11ec_8956_0242ac1c0002row0_col10\" class=\"data row0 col10\" >-0.02</td>\n",
              "            </tr>\n",
              "            <tr>\n",
              "                        <th id=\"T_4da1d4be_5b16_11ec_8956_0242ac1c0002level0_row1\" class=\"row_heading level0 row1\" >Married</th>\n",
              "                        <td id=\"T_4da1d4be_5b16_11ec_8956_0242ac1c0002row1_col0\" class=\"data row1 col0\" >-0.36</td>\n",
              "                        <td id=\"T_4da1d4be_5b16_11ec_8956_0242ac1c0002row1_col1\" class=\"data row1 col1\" >1.00</td>\n",
              "                        <td id=\"T_4da1d4be_5b16_11ec_8956_0242ac1c0002row1_col2\" class=\"data row1 col2\" >-0.01</td>\n",
              "                        <td id=\"T_4da1d4be_5b16_11ec_8956_0242ac1c0002row1_col3\" class=\"data row1 col3\" >0.00</td>\n",
              "                        <td id=\"T_4da1d4be_5b16_11ec_8956_0242ac1c0002row1_col4\" class=\"data row1 col4\" >0.05</td>\n",
              "                        <td id=\"T_4da1d4be_5b16_11ec_8956_0242ac1c0002row1_col5\" class=\"data row1 col5\" >0.08</td>\n",
              "                        <td id=\"T_4da1d4be_5b16_11ec_8956_0242ac1c0002row1_col6\" class=\"data row1 col6\" >0.15</td>\n",
              "                        <td id=\"T_4da1d4be_5b16_11ec_8956_0242ac1c0002row1_col7\" class=\"data row1 col7\" >-0.10</td>\n",
              "                        <td id=\"T_4da1d4be_5b16_11ec_8956_0242ac1c0002row1_col8\" class=\"data row1 col8\" >0.01</td>\n",
              "                        <td id=\"T_4da1d4be_5b16_11ec_8956_0242ac1c0002row1_col9\" class=\"data row1 col9\" >0.00</td>\n",
              "                        <td id=\"T_4da1d4be_5b16_11ec_8956_0242ac1c0002row1_col10\" class=\"data row1 col10\" >0.09</td>\n",
              "            </tr>\n",
              "            <tr>\n",
              "                        <th id=\"T_4da1d4be_5b16_11ec_8956_0242ac1c0002level0_row2\" class=\"row_heading level0 row2\" >Education</th>\n",
              "                        <td id=\"T_4da1d4be_5b16_11ec_8956_0242ac1c0002row2_col0\" class=\"data row2 col0\" >0.05</td>\n",
              "                        <td id=\"T_4da1d4be_5b16_11ec_8956_0242ac1c0002row2_col1\" class=\"data row2 col1\" >-0.01</td>\n",
              "                        <td id=\"T_4da1d4be_5b16_11ec_8956_0242ac1c0002row2_col2\" class=\"data row2 col2\" >1.00</td>\n",
              "                        <td id=\"T_4da1d4be_5b16_11ec_8956_0242ac1c0002row2_col3\" class=\"data row2 col3\" >0.01</td>\n",
              "                        <td id=\"T_4da1d4be_5b16_11ec_8956_0242ac1c0002row2_col4\" class=\"data row2 col4\" >0.14</td>\n",
              "                        <td id=\"T_4da1d4be_5b16_11ec_8956_0242ac1c0002row2_col5\" class=\"data row2 col5\" >0.06</td>\n",
              "                        <td id=\"T_4da1d4be_5b16_11ec_8956_0242ac1c0002row2_col6\" class=\"data row2 col6\" >0.17</td>\n",
              "                        <td id=\"T_4da1d4be_5b16_11ec_8956_0242ac1c0002row2_col7\" class=\"data row2 col7\" >0.08</td>\n",
              "                        <td id=\"T_4da1d4be_5b16_11ec_8956_0242ac1c0002row2_col8\" class=\"data row2 col8\" >0.08</td>\n",
              "                        <td id=\"T_4da1d4be_5b16_11ec_8956_0242ac1c0002row2_col9\" class=\"data row2 col9\" >0.07</td>\n",
              "                        <td id=\"T_4da1d4be_5b16_11ec_8956_0242ac1c0002row2_col10\" class=\"data row2 col10\" >0.09</td>\n",
              "            </tr>\n",
              "            <tr>\n",
              "                        <th id=\"T_4da1d4be_5b16_11ec_8956_0242ac1c0002level0_row3\" class=\"row_heading level0 row3\" >Self_Employed</th>\n",
              "                        <td id=\"T_4da1d4be_5b16_11ec_8956_0242ac1c0002row3_col0\" class=\"data row3 col0\" >0.00</td>\n",
              "                        <td id=\"T_4da1d4be_5b16_11ec_8956_0242ac1c0002row3_col1\" class=\"data row3 col1\" >0.00</td>\n",
              "                        <td id=\"T_4da1d4be_5b16_11ec_8956_0242ac1c0002row3_col2\" class=\"data row3 col2\" >0.01</td>\n",
              "                        <td id=\"T_4da1d4be_5b16_11ec_8956_0242ac1c0002row3_col3\" class=\"data row3 col3\" >1.00</td>\n",
              "                        <td id=\"T_4da1d4be_5b16_11ec_8956_0242ac1c0002row3_col4\" class=\"data row3 col4\" >0.13</td>\n",
              "                        <td id=\"T_4da1d4be_5b16_11ec_8956_0242ac1c0002row3_col5\" class=\"data row3 col5\" >-0.02</td>\n",
              "                        <td id=\"T_4da1d4be_5b16_11ec_8956_0242ac1c0002row3_col6\" class=\"data row3 col6\" >0.12</td>\n",
              "                        <td id=\"T_4da1d4be_5b16_11ec_8956_0242ac1c0002row3_col7\" class=\"data row3 col7\" >-0.03</td>\n",
              "                        <td id=\"T_4da1d4be_5b16_11ec_8956_0242ac1c0002row3_col8\" class=\"data row3 col8\" >-0.00</td>\n",
              "                        <td id=\"T_4da1d4be_5b16_11ec_8956_0242ac1c0002row3_col9\" class=\"data row3 col9\" >-0.03</td>\n",
              "                        <td id=\"T_4da1d4be_5b16_11ec_8956_0242ac1c0002row3_col10\" class=\"data row3 col10\" >-0.00</td>\n",
              "            </tr>\n",
              "            <tr>\n",
              "                        <th id=\"T_4da1d4be_5b16_11ec_8956_0242ac1c0002level0_row4\" class=\"row_heading level0 row4\" >ApplicantIncome</th>\n",
              "                        <td id=\"T_4da1d4be_5b16_11ec_8956_0242ac1c0002row4_col0\" class=\"data row4 col0\" >-0.06</td>\n",
              "                        <td id=\"T_4da1d4be_5b16_11ec_8956_0242ac1c0002row4_col1\" class=\"data row4 col1\" >0.05</td>\n",
              "                        <td id=\"T_4da1d4be_5b16_11ec_8956_0242ac1c0002row4_col2\" class=\"data row4 col2\" >0.14</td>\n",
              "                        <td id=\"T_4da1d4be_5b16_11ec_8956_0242ac1c0002row4_col3\" class=\"data row4 col3\" >0.13</td>\n",
              "                        <td id=\"T_4da1d4be_5b16_11ec_8956_0242ac1c0002row4_col4\" class=\"data row4 col4\" >1.00</td>\n",
              "                        <td id=\"T_4da1d4be_5b16_11ec_8956_0242ac1c0002row4_col5\" class=\"data row4 col5\" >-0.12</td>\n",
              "                        <td id=\"T_4da1d4be_5b16_11ec_8956_0242ac1c0002row4_col6\" class=\"data row4 col6\" >0.57</td>\n",
              "                        <td id=\"T_4da1d4be_5b16_11ec_8956_0242ac1c0002row4_col7\" class=\"data row4 col7\" >-0.05</td>\n",
              "                        <td id=\"T_4da1d4be_5b16_11ec_8956_0242ac1c0002row4_col8\" class=\"data row4 col8\" >-0.01</td>\n",
              "                        <td id=\"T_4da1d4be_5b16_11ec_8956_0242ac1c0002row4_col9\" class=\"data row4 col9\" >-0.01</td>\n",
              "                        <td id=\"T_4da1d4be_5b16_11ec_8956_0242ac1c0002row4_col10\" class=\"data row4 col10\" >-0.00</td>\n",
              "            </tr>\n",
              "            <tr>\n",
              "                        <th id=\"T_4da1d4be_5b16_11ec_8956_0242ac1c0002level0_row5\" class=\"row_heading level0 row5\" >CoapplicantIncome</th>\n",
              "                        <td id=\"T_4da1d4be_5b16_11ec_8956_0242ac1c0002row5_col0\" class=\"data row5 col0\" >-0.08</td>\n",
              "                        <td id=\"T_4da1d4be_5b16_11ec_8956_0242ac1c0002row5_col1\" class=\"data row5 col1\" >0.08</td>\n",
              "                        <td id=\"T_4da1d4be_5b16_11ec_8956_0242ac1c0002row5_col2\" class=\"data row5 col2\" >0.06</td>\n",
              "                        <td id=\"T_4da1d4be_5b16_11ec_8956_0242ac1c0002row5_col3\" class=\"data row5 col3\" >-0.02</td>\n",
              "                        <td id=\"T_4da1d4be_5b16_11ec_8956_0242ac1c0002row5_col4\" class=\"data row5 col4\" >-0.12</td>\n",
              "                        <td id=\"T_4da1d4be_5b16_11ec_8956_0242ac1c0002row5_col5\" class=\"data row5 col5\" >1.00</td>\n",
              "                        <td id=\"T_4da1d4be_5b16_11ec_8956_0242ac1c0002row5_col6\" class=\"data row5 col6\" >0.19</td>\n",
              "                        <td id=\"T_4da1d4be_5b16_11ec_8956_0242ac1c0002row5_col7\" class=\"data row5 col7\" >-0.06</td>\n",
              "                        <td id=\"T_4da1d4be_5b16_11ec_8956_0242ac1c0002row5_col8\" class=\"data row5 col8\" >-0.00</td>\n",
              "                        <td id=\"T_4da1d4be_5b16_11ec_8956_0242ac1c0002row5_col9\" class=\"data row5 col9\" >0.01</td>\n",
              "                        <td id=\"T_4da1d4be_5b16_11ec_8956_0242ac1c0002row5_col10\" class=\"data row5 col10\" >-0.06</td>\n",
              "            </tr>\n",
              "            <tr>\n",
              "                        <th id=\"T_4da1d4be_5b16_11ec_8956_0242ac1c0002level0_row6\" class=\"row_heading level0 row6\" >LoanAmount</th>\n",
              "                        <td id=\"T_4da1d4be_5b16_11ec_8956_0242ac1c0002row6_col0\" class=\"data row6 col0\" >-0.11</td>\n",
              "                        <td id=\"T_4da1d4be_5b16_11ec_8956_0242ac1c0002row6_col1\" class=\"data row6 col1\" >0.15</td>\n",
              "                        <td id=\"T_4da1d4be_5b16_11ec_8956_0242ac1c0002row6_col2\" class=\"data row6 col2\" >0.17</td>\n",
              "                        <td id=\"T_4da1d4be_5b16_11ec_8956_0242ac1c0002row6_col3\" class=\"data row6 col3\" >0.12</td>\n",
              "                        <td id=\"T_4da1d4be_5b16_11ec_8956_0242ac1c0002row6_col4\" class=\"data row6 col4\" >0.57</td>\n",
              "                        <td id=\"T_4da1d4be_5b16_11ec_8956_0242ac1c0002row6_col5\" class=\"data row6 col5\" >0.19</td>\n",
              "                        <td id=\"T_4da1d4be_5b16_11ec_8956_0242ac1c0002row6_col6\" class=\"data row6 col6\" >1.00</td>\n",
              "                        <td id=\"T_4da1d4be_5b16_11ec_8956_0242ac1c0002row6_col7\" class=\"data row6 col7\" >0.04</td>\n",
              "                        <td id=\"T_4da1d4be_5b16_11ec_8956_0242ac1c0002row6_col8\" class=\"data row6 col8\" >-0.01</td>\n",
              "                        <td id=\"T_4da1d4be_5b16_11ec_8956_0242ac1c0002row6_col9\" class=\"data row6 col9\" >-0.04</td>\n",
              "                        <td id=\"T_4da1d4be_5b16_11ec_8956_0242ac1c0002row6_col10\" class=\"data row6 col10\" >-0.04</td>\n",
              "            </tr>\n",
              "            <tr>\n",
              "                        <th id=\"T_4da1d4be_5b16_11ec_8956_0242ac1c0002level0_row7\" class=\"row_heading level0 row7\" >Loan_Amount_Term</th>\n",
              "                        <td id=\"T_4da1d4be_5b16_11ec_8956_0242ac1c0002row7_col0\" class=\"data row7 col0\" >0.07</td>\n",
              "                        <td id=\"T_4da1d4be_5b16_11ec_8956_0242ac1c0002row7_col1\" class=\"data row7 col1\" >-0.10</td>\n",
              "                        <td id=\"T_4da1d4be_5b16_11ec_8956_0242ac1c0002row7_col2\" class=\"data row7 col2\" >0.08</td>\n",
              "                        <td id=\"T_4da1d4be_5b16_11ec_8956_0242ac1c0002row7_col3\" class=\"data row7 col3\" >-0.03</td>\n",
              "                        <td id=\"T_4da1d4be_5b16_11ec_8956_0242ac1c0002row7_col4\" class=\"data row7 col4\" >-0.05</td>\n",
              "                        <td id=\"T_4da1d4be_5b16_11ec_8956_0242ac1c0002row7_col5\" class=\"data row7 col5\" >-0.06</td>\n",
              "                        <td id=\"T_4da1d4be_5b16_11ec_8956_0242ac1c0002row7_col6\" class=\"data row7 col6\" >0.04</td>\n",
              "                        <td id=\"T_4da1d4be_5b16_11ec_8956_0242ac1c0002row7_col7\" class=\"data row7 col7\" >1.00</td>\n",
              "                        <td id=\"T_4da1d4be_5b16_11ec_8956_0242ac1c0002row7_col8\" class=\"data row7 col8\" >0.00</td>\n",
              "                        <td id=\"T_4da1d4be_5b16_11ec_8956_0242ac1c0002row7_col9\" class=\"data row7 col9\" >-0.08</td>\n",
              "                        <td id=\"T_4da1d4be_5b16_11ec_8956_0242ac1c0002row7_col10\" class=\"data row7 col10\" >-0.02</td>\n",
              "            </tr>\n",
              "            <tr>\n",
              "                        <th id=\"T_4da1d4be_5b16_11ec_8956_0242ac1c0002level0_row8\" class=\"row_heading level0 row8\" >Credit_History</th>\n",
              "                        <td id=\"T_4da1d4be_5b16_11ec_8956_0242ac1c0002row8_col0\" class=\"data row8 col0\" >-0.01</td>\n",
              "                        <td id=\"T_4da1d4be_5b16_11ec_8956_0242ac1c0002row8_col1\" class=\"data row8 col1\" >0.01</td>\n",
              "                        <td id=\"T_4da1d4be_5b16_11ec_8956_0242ac1c0002row8_col2\" class=\"data row8 col2\" >0.08</td>\n",
              "                        <td id=\"T_4da1d4be_5b16_11ec_8956_0242ac1c0002row8_col3\" class=\"data row8 col3\" >-0.00</td>\n",
              "                        <td id=\"T_4da1d4be_5b16_11ec_8956_0242ac1c0002row8_col4\" class=\"data row8 col4\" >-0.01</td>\n",
              "                        <td id=\"T_4da1d4be_5b16_11ec_8956_0242ac1c0002row8_col5\" class=\"data row8 col5\" >-0.00</td>\n",
              "                        <td id=\"T_4da1d4be_5b16_11ec_8956_0242ac1c0002row8_col6\" class=\"data row8 col6\" >-0.01</td>\n",
              "                        <td id=\"T_4da1d4be_5b16_11ec_8956_0242ac1c0002row8_col7\" class=\"data row8 col7\" >0.00</td>\n",
              "                        <td id=\"T_4da1d4be_5b16_11ec_8956_0242ac1c0002row8_col8\" class=\"data row8 col8\" >1.00</td>\n",
              "                        <td id=\"T_4da1d4be_5b16_11ec_8956_0242ac1c0002row8_col9\" class=\"data row8 col9\" >-0.00</td>\n",
              "                        <td id=\"T_4da1d4be_5b16_11ec_8956_0242ac1c0002row8_col10\" class=\"data row8 col10\" >0.56</td>\n",
              "            </tr>\n",
              "            <tr>\n",
              "                        <th id=\"T_4da1d4be_5b16_11ec_8956_0242ac1c0002level0_row9\" class=\"row_heading level0 row9\" >Property_Area</th>\n",
              "                        <td id=\"T_4da1d4be_5b16_11ec_8956_0242ac1c0002row9_col0\" class=\"data row9 col0\" >0.03</td>\n",
              "                        <td id=\"T_4da1d4be_5b16_11ec_8956_0242ac1c0002row9_col1\" class=\"data row9 col1\" >0.00</td>\n",
              "                        <td id=\"T_4da1d4be_5b16_11ec_8956_0242ac1c0002row9_col2\" class=\"data row9 col2\" >0.07</td>\n",
              "                        <td id=\"T_4da1d4be_5b16_11ec_8956_0242ac1c0002row9_col3\" class=\"data row9 col3\" >-0.03</td>\n",
              "                        <td id=\"T_4da1d4be_5b16_11ec_8956_0242ac1c0002row9_col4\" class=\"data row9 col4\" >-0.01</td>\n",
              "                        <td id=\"T_4da1d4be_5b16_11ec_8956_0242ac1c0002row9_col5\" class=\"data row9 col5\" >0.01</td>\n",
              "                        <td id=\"T_4da1d4be_5b16_11ec_8956_0242ac1c0002row9_col6\" class=\"data row9 col6\" >-0.04</td>\n",
              "                        <td id=\"T_4da1d4be_5b16_11ec_8956_0242ac1c0002row9_col7\" class=\"data row9 col7\" >-0.08</td>\n",
              "                        <td id=\"T_4da1d4be_5b16_11ec_8956_0242ac1c0002row9_col8\" class=\"data row9 col8\" >-0.00</td>\n",
              "                        <td id=\"T_4da1d4be_5b16_11ec_8956_0242ac1c0002row9_col9\" class=\"data row9 col9\" >1.00</td>\n",
              "                        <td id=\"T_4da1d4be_5b16_11ec_8956_0242ac1c0002row9_col10\" class=\"data row9 col10\" >0.03</td>\n",
              "            </tr>\n",
              "            <tr>\n",
              "                        <th id=\"T_4da1d4be_5b16_11ec_8956_0242ac1c0002level0_row10\" class=\"row_heading level0 row10\" >Loan_Status</th>\n",
              "                        <td id=\"T_4da1d4be_5b16_11ec_8956_0242ac1c0002row10_col0\" class=\"data row10 col0\" >-0.02</td>\n",
              "                        <td id=\"T_4da1d4be_5b16_11ec_8956_0242ac1c0002row10_col1\" class=\"data row10 col1\" >0.09</td>\n",
              "                        <td id=\"T_4da1d4be_5b16_11ec_8956_0242ac1c0002row10_col2\" class=\"data row10 col2\" >0.09</td>\n",
              "                        <td id=\"T_4da1d4be_5b16_11ec_8956_0242ac1c0002row10_col3\" class=\"data row10 col3\" >-0.00</td>\n",
              "                        <td id=\"T_4da1d4be_5b16_11ec_8956_0242ac1c0002row10_col4\" class=\"data row10 col4\" >-0.00</td>\n",
              "                        <td id=\"T_4da1d4be_5b16_11ec_8956_0242ac1c0002row10_col5\" class=\"data row10 col5\" >-0.06</td>\n",
              "                        <td id=\"T_4da1d4be_5b16_11ec_8956_0242ac1c0002row10_col6\" class=\"data row10 col6\" >-0.04</td>\n",
              "                        <td id=\"T_4da1d4be_5b16_11ec_8956_0242ac1c0002row10_col7\" class=\"data row10 col7\" >-0.02</td>\n",
              "                        <td id=\"T_4da1d4be_5b16_11ec_8956_0242ac1c0002row10_col8\" class=\"data row10 col8\" >0.56</td>\n",
              "                        <td id=\"T_4da1d4be_5b16_11ec_8956_0242ac1c0002row10_col9\" class=\"data row10 col9\" >0.03</td>\n",
              "                        <td id=\"T_4da1d4be_5b16_11ec_8956_0242ac1c0002row10_col10\" class=\"data row10 col10\" >1.00</td>\n",
              "            </tr>\n",
              "    </tbody></table>"
            ],
            "text/plain": [
              "<pandas.io.formats.style.Styler at 0x7f42b163ec50>"
            ]
          },
          "metadata": {},
          "execution_count": 54
        }
      ]
    },
    {
      "cell_type": "code",
      "source": [
        "train['Credit_History'].value_counts()"
      ],
      "metadata": {
        "colab": {
          "base_uri": "https://localhost:8080/"
        },
        "id": "XuKeOvsFGKjV",
        "outputId": "91d89ae5-dda2-4fc9-f75e-9f45bfde8cdf"
      },
      "execution_count": 55,
      "outputs": [
        {
          "output_type": "execute_result",
          "data": {
            "text/plain": [
              "1.0    475\n",
              "0.0     89\n",
              "Name: Credit_History, dtype: int64"
            ]
          },
          "metadata": {},
          "execution_count": 55
        }
      ]
    },
    {
      "cell_type": "code",
      "source": [
        "test['Credit_History'].value_counts()"
      ],
      "metadata": {
        "colab": {
          "base_uri": "https://localhost:8080/"
        },
        "id": "EE8gChVpGchI",
        "outputId": "cb42e8ca-a998-4ebf-9c06-405eac19c195"
      },
      "execution_count": 56,
      "outputs": [
        {
          "output_type": "execute_result",
          "data": {
            "text/plain": [
              "1.0    279\n",
              "0.0     59\n",
              "Name: Credit_History, dtype: int64"
            ]
          },
          "metadata": {},
          "execution_count": 56
        }
      ]
    },
    {
      "cell_type": "code",
      "source": [
        "test[\"Credit_History\"].fillna(1.0, inplace = True)"
      ],
      "metadata": {
        "id": "6iISsFjbGWXH"
      },
      "execution_count": 57,
      "outputs": []
    },
    {
      "cell_type": "code",
      "source": [
        "train[\"Credit_History\"].fillna(1.0, inplace = True)"
      ],
      "metadata": {
        "id": "vba6O4XgJZfi"
      },
      "execution_count": 58,
      "outputs": []
    },
    {
      "cell_type": "code",
      "source": [
        "train.drop('Self_Employed',axis = 1,inplace = True)\n",
        "test.drop('Self_Employed',axis = 1,inplace = True)\n",
        "\n",
        "train.drop('ApplicantIncome',axis = 1,inplace = True)\n",
        "test.drop('ApplicantIncome',axis = 1,inplace = True)"
      ],
      "metadata": {
        "id": "PWEOhbOVGtiG"
      },
      "execution_count": 59,
      "outputs": []
    },
    {
      "cell_type": "code",
      "source": [
        "test['Loan_Amount_Term'].fillna(test['Loan_Amount_Term'].mean(), inplace=True)\n",
        "test['LoanAmount'].fillna(test['LoanAmount'].mean(), inplace=True)"
      ],
      "metadata": {
        "id": "xRdl5YLKHwRv"
      },
      "execution_count": 60,
      "outputs": []
    },
    {
      "cell_type": "code",
      "source": [
        "d={'Male':0, 'Female':1}\n",
        "test['Gender']=test['Gender'].apply(lambda x:d[x])"
      ],
      "metadata": {
        "id": "es_OX7IPITN6"
      },
      "execution_count": 61,
      "outputs": []
    },
    {
      "cell_type": "code",
      "source": [
        "d={'Not Graduate':0, 'Graduate':1}\n",
        "test['Education']=test['Education'].apply(lambda x:d[x])"
      ],
      "metadata": {
        "id": "8IOKXaAPIIaA"
      },
      "execution_count": 62,
      "outputs": []
    },
    {
      "cell_type": "code",
      "source": [
        "d={'Rural':0, 'Urban':2,'Semiurban':1}\n",
        "test['Property_Area']=test['Property_Area'].apply(lambda x:d[x])"
      ],
      "metadata": {
        "id": "DHvJoDUKIkTP"
      },
      "execution_count": 63,
      "outputs": []
    },
    {
      "cell_type": "code",
      "source": [
        "d={'No':0, 'Yes':1}\n",
        "test['Married']=test['Married'].apply(lambda x:d[x])"
      ],
      "metadata": {
        "id": "vtZuOvoEIq12"
      },
      "execution_count": 64,
      "outputs": []
    },
    {
      "cell_type": "code",
      "source": [
        "train.drop('Dependents',axis = 1,inplace = True)\n",
        "test.drop('Dependents',axis = 1,inplace = True)"
      ],
      "metadata": {
        "id": "hd-53yMnJFMj"
      },
      "execution_count": 65,
      "outputs": []
    },
    {
      "cell_type": "code",
      "source": [
        "X_train = train.drop('Loan_Status',1)\n",
        "Y_train = train.Loan_Status"
      ],
      "metadata": {
        "id": "Iv-B5bGoG9ht"
      },
      "execution_count": 66,
      "outputs": []
    },
    {
      "cell_type": "code",
      "source": [
        "test"
      ],
      "metadata": {
        "colab": {
          "base_uri": "https://localhost:8080/",
          "height": 423
        },
        "id": "y_9LpOXtIDgo",
        "outputId": "044caf65-96e2-4094-d699-01d097fd650f"
      },
      "execution_count": 67,
      "outputs": [
        {
          "output_type": "execute_result",
          "data": {
            "text/html": [
              "<div>\n",
              "<style scoped>\n",
              "    .dataframe tbody tr th:only-of-type {\n",
              "        vertical-align: middle;\n",
              "    }\n",
              "\n",
              "    .dataframe tbody tr th {\n",
              "        vertical-align: top;\n",
              "    }\n",
              "\n",
              "    .dataframe thead th {\n",
              "        text-align: right;\n",
              "    }\n",
              "</style>\n",
              "<table border=\"1\" class=\"dataframe\">\n",
              "  <thead>\n",
              "    <tr style=\"text-align: right;\">\n",
              "      <th></th>\n",
              "      <th>Gender</th>\n",
              "      <th>Married</th>\n",
              "      <th>Education</th>\n",
              "      <th>CoapplicantIncome</th>\n",
              "      <th>LoanAmount</th>\n",
              "      <th>Loan_Amount_Term</th>\n",
              "      <th>Credit_History</th>\n",
              "      <th>Property_Area</th>\n",
              "    </tr>\n",
              "  </thead>\n",
              "  <tbody>\n",
              "    <tr>\n",
              "      <th>0</th>\n",
              "      <td>0</td>\n",
              "      <td>1</td>\n",
              "      <td>1</td>\n",
              "      <td>0</td>\n",
              "      <td>110.0</td>\n",
              "      <td>360.0</td>\n",
              "      <td>1.0</td>\n",
              "      <td>2</td>\n",
              "    </tr>\n",
              "    <tr>\n",
              "      <th>1</th>\n",
              "      <td>0</td>\n",
              "      <td>1</td>\n",
              "      <td>1</td>\n",
              "      <td>1500</td>\n",
              "      <td>126.0</td>\n",
              "      <td>360.0</td>\n",
              "      <td>1.0</td>\n",
              "      <td>2</td>\n",
              "    </tr>\n",
              "    <tr>\n",
              "      <th>2</th>\n",
              "      <td>0</td>\n",
              "      <td>1</td>\n",
              "      <td>1</td>\n",
              "      <td>1800</td>\n",
              "      <td>208.0</td>\n",
              "      <td>360.0</td>\n",
              "      <td>1.0</td>\n",
              "      <td>2</td>\n",
              "    </tr>\n",
              "    <tr>\n",
              "      <th>3</th>\n",
              "      <td>0</td>\n",
              "      <td>1</td>\n",
              "      <td>1</td>\n",
              "      <td>2546</td>\n",
              "      <td>100.0</td>\n",
              "      <td>360.0</td>\n",
              "      <td>1.0</td>\n",
              "      <td>2</td>\n",
              "    </tr>\n",
              "    <tr>\n",
              "      <th>4</th>\n",
              "      <td>0</td>\n",
              "      <td>0</td>\n",
              "      <td>0</td>\n",
              "      <td>0</td>\n",
              "      <td>78.0</td>\n",
              "      <td>360.0</td>\n",
              "      <td>1.0</td>\n",
              "      <td>2</td>\n",
              "    </tr>\n",
              "    <tr>\n",
              "      <th>...</th>\n",
              "      <td>...</td>\n",
              "      <td>...</td>\n",
              "      <td>...</td>\n",
              "      <td>...</td>\n",
              "      <td>...</td>\n",
              "      <td>...</td>\n",
              "      <td>...</td>\n",
              "      <td>...</td>\n",
              "    </tr>\n",
              "    <tr>\n",
              "      <th>362</th>\n",
              "      <td>0</td>\n",
              "      <td>1</td>\n",
              "      <td>0</td>\n",
              "      <td>1777</td>\n",
              "      <td>113.0</td>\n",
              "      <td>360.0</td>\n",
              "      <td>1.0</td>\n",
              "      <td>2</td>\n",
              "    </tr>\n",
              "    <tr>\n",
              "      <th>363</th>\n",
              "      <td>0</td>\n",
              "      <td>1</td>\n",
              "      <td>1</td>\n",
              "      <td>709</td>\n",
              "      <td>115.0</td>\n",
              "      <td>360.0</td>\n",
              "      <td>1.0</td>\n",
              "      <td>2</td>\n",
              "    </tr>\n",
              "    <tr>\n",
              "      <th>364</th>\n",
              "      <td>0</td>\n",
              "      <td>0</td>\n",
              "      <td>1</td>\n",
              "      <td>1993</td>\n",
              "      <td>126.0</td>\n",
              "      <td>360.0</td>\n",
              "      <td>1.0</td>\n",
              "      <td>1</td>\n",
              "    </tr>\n",
              "    <tr>\n",
              "      <th>365</th>\n",
              "      <td>0</td>\n",
              "      <td>1</td>\n",
              "      <td>1</td>\n",
              "      <td>2393</td>\n",
              "      <td>158.0</td>\n",
              "      <td>360.0</td>\n",
              "      <td>1.0</td>\n",
              "      <td>0</td>\n",
              "    </tr>\n",
              "    <tr>\n",
              "      <th>366</th>\n",
              "      <td>0</td>\n",
              "      <td>0</td>\n",
              "      <td>1</td>\n",
              "      <td>0</td>\n",
              "      <td>98.0</td>\n",
              "      <td>180.0</td>\n",
              "      <td>1.0</td>\n",
              "      <td>0</td>\n",
              "    </tr>\n",
              "  </tbody>\n",
              "</table>\n",
              "<p>367 rows × 8 columns</p>\n",
              "</div>"
            ],
            "text/plain": [
              "     Gender  Married  ...  Credit_History  Property_Area\n",
              "0         0        1  ...             1.0              2\n",
              "1         0        1  ...             1.0              2\n",
              "2         0        1  ...             1.0              2\n",
              "3         0        1  ...             1.0              2\n",
              "4         0        0  ...             1.0              2\n",
              "..      ...      ...  ...             ...            ...\n",
              "362       0        1  ...             1.0              2\n",
              "363       0        1  ...             1.0              2\n",
              "364       0        0  ...             1.0              1\n",
              "365       0        1  ...             1.0              0\n",
              "366       0        0  ...             1.0              0\n",
              "\n",
              "[367 rows x 8 columns]"
            ]
          },
          "metadata": {},
          "execution_count": 67
        }
      ]
    },
    {
      "cell_type": "code",
      "source": [
        "#Using LogisticRegression\n",
        "from sklearn.linear_model import LogisticRegression\n",
        "model = LogisticRegression()\n",
        "model.fit(X_train,Y_train)"
      ],
      "metadata": {
        "colab": {
          "base_uri": "https://localhost:8080/"
        },
        "id": "nvUKLNfUI7Vh",
        "outputId": "9f0ecdf2-1ff4-4612-81f5-eb6c02377812"
      },
      "execution_count": 68,
      "outputs": [
        {
          "output_type": "stream",
          "name": "stderr",
          "text": [
            "/usr/local/lib/python3.7/dist-packages/sklearn/linear_model/_logistic.py:818: ConvergenceWarning: lbfgs failed to converge (status=1):\n",
            "STOP: TOTAL NO. of ITERATIONS REACHED LIMIT.\n",
            "\n",
            "Increase the number of iterations (max_iter) or scale the data as shown in:\n",
            "    https://scikit-learn.org/stable/modules/preprocessing.html\n",
            "Please also refer to the documentation for alternative solver options:\n",
            "    https://scikit-learn.org/stable/modules/linear_model.html#logistic-regression\n",
            "  extra_warning_msg=_LOGISTIC_SOLVER_CONVERGENCE_MSG,\n"
          ]
        },
        {
          "output_type": "execute_result",
          "data": {
            "text/plain": [
              "LogisticRegression()"
            ]
          },
          "metadata": {},
          "execution_count": 68
        }
      ]
    },
    {
      "cell_type": "code",
      "source": [
        "Y_pred = model.predict(test)"
      ],
      "metadata": {
        "id": "KBg_5D2aJgRA"
      },
      "execution_count": 69,
      "outputs": []
    },
    {
      "cell_type": "code",
      "source": [
        "Y_pred"
      ],
      "metadata": {
        "colab": {
          "base_uri": "https://localhost:8080/"
        },
        "id": "VLN-QlVQJgUD",
        "outputId": "d4545df1-7f5c-4326-fde1-b0bb43867551"
      },
      "execution_count": 70,
      "outputs": [
        {
          "output_type": "execute_result",
          "data": {
            "text/plain": [
              "array([1, 1, 1, 1, 1, 1, 1, 0, 1, 1, 1, 1, 1, 0, 1, 1, 1, 1, 1, 1, 1, 1,\n",
              "       1, 1, 1, 0, 1, 1, 1, 1, 1, 1, 1, 1, 1, 0, 1, 1, 1, 1, 1, 1, 1, 1,\n",
              "       1, 1, 1, 1, 1, 1, 1, 1, 1, 1, 1, 0, 1, 1, 0, 1, 1, 1, 1, 0, 1, 1,\n",
              "       0, 0, 1, 0, 1, 1, 1, 1, 1, 1, 1, 1, 1, 1, 0, 1, 0, 1, 0, 1, 1, 1,\n",
              "       1, 1, 1, 1, 1, 1, 0, 1, 1, 1, 1, 1, 1, 0, 1, 1, 1, 1, 0, 1, 1, 1,\n",
              "       1, 1, 1, 1, 1, 1, 1, 0, 0, 0, 1, 1, 1, 0, 0, 1, 0, 1, 1, 1, 1, 1,\n",
              "       1, 1, 1, 1, 1, 1, 1, 1, 0, 1, 0, 1, 1, 1, 1, 0, 1, 1, 1, 1, 1, 0,\n",
              "       1, 1, 1, 1, 1, 1, 1, 0, 1, 1, 1, 0, 0, 1, 0, 1, 1, 1, 1, 0, 0, 1,\n",
              "       1, 1, 1, 1, 1, 1, 1, 1, 1, 1, 1, 1, 1, 1, 1, 1, 0, 0, 1, 1, 0, 1,\n",
              "       0, 1, 1, 1, 1, 1, 1, 1, 1, 1, 1, 1, 1, 0, 1, 1, 1, 1, 1, 1, 1, 1,\n",
              "       1, 1, 1, 1, 0, 1, 1, 1, 1, 0, 1, 1, 1, 1, 1, 0, 0, 1, 1, 1, 1, 0,\n",
              "       1, 0, 1, 0, 1, 1, 1, 1, 0, 1, 1, 1, 1, 0, 1, 1, 1, 1, 1, 1, 1, 1,\n",
              "       1, 1, 0, 1, 0, 1, 1, 1, 1, 0, 0, 1, 1, 1, 0, 1, 1, 1, 1, 1, 1, 1,\n",
              "       1, 1, 1, 1, 1, 1, 1, 0, 1, 1, 1, 1, 1, 1, 1, 0, 1, 1, 1, 1, 1, 1,\n",
              "       1, 1, 1, 0, 1, 1, 1, 1, 1, 0, 1, 1, 1, 1, 1, 1, 1, 0, 1, 1, 1, 1,\n",
              "       1, 1, 1, 1, 1, 1, 1, 1, 1, 0, 1, 1, 1, 1, 1, 1, 0, 1, 1, 1, 1, 1,\n",
              "       1, 1, 0, 1, 1, 1, 1, 1, 1, 1, 1, 1, 1, 1, 1])"
            ]
          },
          "metadata": {},
          "execution_count": 70
        }
      ]
    },
    {
      "cell_type": "code",
      "source": [
        "from numpy import savetxt"
      ],
      "metadata": {
        "id": "ELVAhwGOJgY-"
      },
      "execution_count": 71,
      "outputs": []
    },
    {
      "cell_type": "code",
      "source": [
        "savetxt('Y_pred.csv', Y_pred, delimiter=',')"
      ],
      "metadata": {
        "id": "qDNaT7C-KZZ6"
      },
      "execution_count": 72,
      "outputs": []
    },
    {
      "cell_type": "code",
      "source": [
        "df = pd.read_csv('/content/Y_pred.csv',header=None)"
      ],
      "metadata": {
        "id": "OhXAcFPtKbeD"
      },
      "execution_count": 73,
      "outputs": []
    },
    {
      "cell_type": "code",
      "source": [
        "df"
      ],
      "metadata": {
        "colab": {
          "base_uri": "https://localhost:8080/",
          "height": 423
        },
        "id": "f_FEmbmRLSC5",
        "outputId": "a4386582-8bbd-47f8-d8c9-af64f7d5e238"
      },
      "execution_count": 74,
      "outputs": [
        {
          "output_type": "execute_result",
          "data": {
            "text/html": [
              "<div>\n",
              "<style scoped>\n",
              "    .dataframe tbody tr th:only-of-type {\n",
              "        vertical-align: middle;\n",
              "    }\n",
              "\n",
              "    .dataframe tbody tr th {\n",
              "        vertical-align: top;\n",
              "    }\n",
              "\n",
              "    .dataframe thead th {\n",
              "        text-align: right;\n",
              "    }\n",
              "</style>\n",
              "<table border=\"1\" class=\"dataframe\">\n",
              "  <thead>\n",
              "    <tr style=\"text-align: right;\">\n",
              "      <th></th>\n",
              "      <th>0</th>\n",
              "    </tr>\n",
              "  </thead>\n",
              "  <tbody>\n",
              "    <tr>\n",
              "      <th>0</th>\n",
              "      <td>1.0</td>\n",
              "    </tr>\n",
              "    <tr>\n",
              "      <th>1</th>\n",
              "      <td>1.0</td>\n",
              "    </tr>\n",
              "    <tr>\n",
              "      <th>2</th>\n",
              "      <td>1.0</td>\n",
              "    </tr>\n",
              "    <tr>\n",
              "      <th>3</th>\n",
              "      <td>1.0</td>\n",
              "    </tr>\n",
              "    <tr>\n",
              "      <th>4</th>\n",
              "      <td>1.0</td>\n",
              "    </tr>\n",
              "    <tr>\n",
              "      <th>...</th>\n",
              "      <td>...</td>\n",
              "    </tr>\n",
              "    <tr>\n",
              "      <th>362</th>\n",
              "      <td>1.0</td>\n",
              "    </tr>\n",
              "    <tr>\n",
              "      <th>363</th>\n",
              "      <td>1.0</td>\n",
              "    </tr>\n",
              "    <tr>\n",
              "      <th>364</th>\n",
              "      <td>1.0</td>\n",
              "    </tr>\n",
              "    <tr>\n",
              "      <th>365</th>\n",
              "      <td>1.0</td>\n",
              "    </tr>\n",
              "    <tr>\n",
              "      <th>366</th>\n",
              "      <td>1.0</td>\n",
              "    </tr>\n",
              "  </tbody>\n",
              "</table>\n",
              "<p>367 rows × 1 columns</p>\n",
              "</div>"
            ],
            "text/plain": [
              "       0\n",
              "0    1.0\n",
              "1    1.0\n",
              "2    1.0\n",
              "3    1.0\n",
              "4    1.0\n",
              "..   ...\n",
              "362  1.0\n",
              "363  1.0\n",
              "364  1.0\n",
              "365  1.0\n",
              "366  1.0\n",
              "\n",
              "[367 rows x 1 columns]"
            ]
          },
          "metadata": {},
          "execution_count": 74
        }
      ]
    },
    {
      "cell_type": "code",
      "source": [
        "df.rename(columns = {0:'w'}, inplace = True)"
      ],
      "metadata": {
        "id": "OShcfwzYLwhz"
      },
      "execution_count": 75,
      "outputs": []
    },
    {
      "cell_type": "code",
      "source": [
        "df"
      ],
      "metadata": {
        "colab": {
          "base_uri": "https://localhost:8080/",
          "height": 423
        },
        "id": "0P0rLFI8LSM2",
        "outputId": "becb67a8-e924-4598-bda7-b7241eb51bb8"
      },
      "execution_count": 76,
      "outputs": [
        {
          "output_type": "execute_result",
          "data": {
            "text/html": [
              "<div>\n",
              "<style scoped>\n",
              "    .dataframe tbody tr th:only-of-type {\n",
              "        vertical-align: middle;\n",
              "    }\n",
              "\n",
              "    .dataframe tbody tr th {\n",
              "        vertical-align: top;\n",
              "    }\n",
              "\n",
              "    .dataframe thead th {\n",
              "        text-align: right;\n",
              "    }\n",
              "</style>\n",
              "<table border=\"1\" class=\"dataframe\">\n",
              "  <thead>\n",
              "    <tr style=\"text-align: right;\">\n",
              "      <th></th>\n",
              "      <th>w</th>\n",
              "    </tr>\n",
              "  </thead>\n",
              "  <tbody>\n",
              "    <tr>\n",
              "      <th>0</th>\n",
              "      <td>1.0</td>\n",
              "    </tr>\n",
              "    <tr>\n",
              "      <th>1</th>\n",
              "      <td>1.0</td>\n",
              "    </tr>\n",
              "    <tr>\n",
              "      <th>2</th>\n",
              "      <td>1.0</td>\n",
              "    </tr>\n",
              "    <tr>\n",
              "      <th>3</th>\n",
              "      <td>1.0</td>\n",
              "    </tr>\n",
              "    <tr>\n",
              "      <th>4</th>\n",
              "      <td>1.0</td>\n",
              "    </tr>\n",
              "    <tr>\n",
              "      <th>...</th>\n",
              "      <td>...</td>\n",
              "    </tr>\n",
              "    <tr>\n",
              "      <th>362</th>\n",
              "      <td>1.0</td>\n",
              "    </tr>\n",
              "    <tr>\n",
              "      <th>363</th>\n",
              "      <td>1.0</td>\n",
              "    </tr>\n",
              "    <tr>\n",
              "      <th>364</th>\n",
              "      <td>1.0</td>\n",
              "    </tr>\n",
              "    <tr>\n",
              "      <th>365</th>\n",
              "      <td>1.0</td>\n",
              "    </tr>\n",
              "    <tr>\n",
              "      <th>366</th>\n",
              "      <td>1.0</td>\n",
              "    </tr>\n",
              "  </tbody>\n",
              "</table>\n",
              "<p>367 rows × 1 columns</p>\n",
              "</div>"
            ],
            "text/plain": [
              "       w\n",
              "0    1.0\n",
              "1    1.0\n",
              "2    1.0\n",
              "3    1.0\n",
              "4    1.0\n",
              "..   ...\n",
              "362  1.0\n",
              "363  1.0\n",
              "364  1.0\n",
              "365  1.0\n",
              "366  1.0\n",
              "\n",
              "[367 rows x 1 columns]"
            ]
          },
          "metadata": {},
          "execution_count": 76
        }
      ]
    },
    {
      "cell_type": "code",
      "source": [
        "test=pd.read_csv(\"https://raw.githubusercontent.com/vaasu2002/Analytics-Vidhya/main/Loan%20Prediction/test_lAUu6dG.csv\")"
      ],
      "metadata": {
        "id": "QBu6gXogKkhZ"
      },
      "execution_count": 77,
      "outputs": []
    },
    {
      "cell_type": "code",
      "source": [
        "id = test['Loan_ID']"
      ],
      "metadata": {
        "id": "RxJ_WdZNKsZf"
      },
      "execution_count": 78,
      "outputs": []
    },
    {
      "cell_type": "code",
      "source": [
        "df['Loan_ID'] = id"
      ],
      "metadata": {
        "id": "FRKkWRhaK9ro"
      },
      "execution_count": 79,
      "outputs": []
    },
    {
      "cell_type": "code",
      "source": [
        "df"
      ],
      "metadata": {
        "colab": {
          "base_uri": "https://localhost:8080/",
          "height": 423
        },
        "id": "G6u1xyTaK9uK",
        "outputId": "28b61a66-eeff-46a5-aac9-06156ea97641"
      },
      "execution_count": 80,
      "outputs": [
        {
          "output_type": "execute_result",
          "data": {
            "text/html": [
              "<div>\n",
              "<style scoped>\n",
              "    .dataframe tbody tr th:only-of-type {\n",
              "        vertical-align: middle;\n",
              "    }\n",
              "\n",
              "    .dataframe tbody tr th {\n",
              "        vertical-align: top;\n",
              "    }\n",
              "\n",
              "    .dataframe thead th {\n",
              "        text-align: right;\n",
              "    }\n",
              "</style>\n",
              "<table border=\"1\" class=\"dataframe\">\n",
              "  <thead>\n",
              "    <tr style=\"text-align: right;\">\n",
              "      <th></th>\n",
              "      <th>w</th>\n",
              "      <th>Loan_ID</th>\n",
              "    </tr>\n",
              "  </thead>\n",
              "  <tbody>\n",
              "    <tr>\n",
              "      <th>0</th>\n",
              "      <td>1.0</td>\n",
              "      <td>LP001015</td>\n",
              "    </tr>\n",
              "    <tr>\n",
              "      <th>1</th>\n",
              "      <td>1.0</td>\n",
              "      <td>LP001022</td>\n",
              "    </tr>\n",
              "    <tr>\n",
              "      <th>2</th>\n",
              "      <td>1.0</td>\n",
              "      <td>LP001031</td>\n",
              "    </tr>\n",
              "    <tr>\n",
              "      <th>3</th>\n",
              "      <td>1.0</td>\n",
              "      <td>LP001035</td>\n",
              "    </tr>\n",
              "    <tr>\n",
              "      <th>4</th>\n",
              "      <td>1.0</td>\n",
              "      <td>LP001051</td>\n",
              "    </tr>\n",
              "    <tr>\n",
              "      <th>...</th>\n",
              "      <td>...</td>\n",
              "      <td>...</td>\n",
              "    </tr>\n",
              "    <tr>\n",
              "      <th>362</th>\n",
              "      <td>1.0</td>\n",
              "      <td>LP002971</td>\n",
              "    </tr>\n",
              "    <tr>\n",
              "      <th>363</th>\n",
              "      <td>1.0</td>\n",
              "      <td>LP002975</td>\n",
              "    </tr>\n",
              "    <tr>\n",
              "      <th>364</th>\n",
              "      <td>1.0</td>\n",
              "      <td>LP002980</td>\n",
              "    </tr>\n",
              "    <tr>\n",
              "      <th>365</th>\n",
              "      <td>1.0</td>\n",
              "      <td>LP002986</td>\n",
              "    </tr>\n",
              "    <tr>\n",
              "      <th>366</th>\n",
              "      <td>1.0</td>\n",
              "      <td>LP002989</td>\n",
              "    </tr>\n",
              "  </tbody>\n",
              "</table>\n",
              "<p>367 rows × 2 columns</p>\n",
              "</div>"
            ],
            "text/plain": [
              "       w   Loan_ID\n",
              "0    1.0  LP001015\n",
              "1    1.0  LP001022\n",
              "2    1.0  LP001031\n",
              "3    1.0  LP001035\n",
              "4    1.0  LP001051\n",
              "..   ...       ...\n",
              "362  1.0  LP002971\n",
              "363  1.0  LP002975\n",
              "364  1.0  LP002980\n",
              "365  1.0  LP002986\n",
              "366  1.0  LP002989\n",
              "\n",
              "[367 rows x 2 columns]"
            ]
          },
          "metadata": {},
          "execution_count": 80
        }
      ]
    },
    {
      "cell_type": "code",
      "source": [
        "x = df['w']\n",
        "df['w1'] = x"
      ],
      "metadata": {
        "id": "XIqsyFDXLB9f"
      },
      "execution_count": 81,
      "outputs": []
    },
    {
      "cell_type": "code",
      "source": [
        "df"
      ],
      "metadata": {
        "colab": {
          "base_uri": "https://localhost:8080/",
          "height": 423
        },
        "id": "Jmty0gssMIRs",
        "outputId": "471ce387-ac69-45a6-b928-7ee0561b6547"
      },
      "execution_count": 82,
      "outputs": [
        {
          "output_type": "execute_result",
          "data": {
            "text/html": [
              "<div>\n",
              "<style scoped>\n",
              "    .dataframe tbody tr th:only-of-type {\n",
              "        vertical-align: middle;\n",
              "    }\n",
              "\n",
              "    .dataframe tbody tr th {\n",
              "        vertical-align: top;\n",
              "    }\n",
              "\n",
              "    .dataframe thead th {\n",
              "        text-align: right;\n",
              "    }\n",
              "</style>\n",
              "<table border=\"1\" class=\"dataframe\">\n",
              "  <thead>\n",
              "    <tr style=\"text-align: right;\">\n",
              "      <th></th>\n",
              "      <th>w</th>\n",
              "      <th>Loan_ID</th>\n",
              "      <th>w1</th>\n",
              "    </tr>\n",
              "  </thead>\n",
              "  <tbody>\n",
              "    <tr>\n",
              "      <th>0</th>\n",
              "      <td>1.0</td>\n",
              "      <td>LP001015</td>\n",
              "      <td>1.0</td>\n",
              "    </tr>\n",
              "    <tr>\n",
              "      <th>1</th>\n",
              "      <td>1.0</td>\n",
              "      <td>LP001022</td>\n",
              "      <td>1.0</td>\n",
              "    </tr>\n",
              "    <tr>\n",
              "      <th>2</th>\n",
              "      <td>1.0</td>\n",
              "      <td>LP001031</td>\n",
              "      <td>1.0</td>\n",
              "    </tr>\n",
              "    <tr>\n",
              "      <th>3</th>\n",
              "      <td>1.0</td>\n",
              "      <td>LP001035</td>\n",
              "      <td>1.0</td>\n",
              "    </tr>\n",
              "    <tr>\n",
              "      <th>4</th>\n",
              "      <td>1.0</td>\n",
              "      <td>LP001051</td>\n",
              "      <td>1.0</td>\n",
              "    </tr>\n",
              "    <tr>\n",
              "      <th>...</th>\n",
              "      <td>...</td>\n",
              "      <td>...</td>\n",
              "      <td>...</td>\n",
              "    </tr>\n",
              "    <tr>\n",
              "      <th>362</th>\n",
              "      <td>1.0</td>\n",
              "      <td>LP002971</td>\n",
              "      <td>1.0</td>\n",
              "    </tr>\n",
              "    <tr>\n",
              "      <th>363</th>\n",
              "      <td>1.0</td>\n",
              "      <td>LP002975</td>\n",
              "      <td>1.0</td>\n",
              "    </tr>\n",
              "    <tr>\n",
              "      <th>364</th>\n",
              "      <td>1.0</td>\n",
              "      <td>LP002980</td>\n",
              "      <td>1.0</td>\n",
              "    </tr>\n",
              "    <tr>\n",
              "      <th>365</th>\n",
              "      <td>1.0</td>\n",
              "      <td>LP002986</td>\n",
              "      <td>1.0</td>\n",
              "    </tr>\n",
              "    <tr>\n",
              "      <th>366</th>\n",
              "      <td>1.0</td>\n",
              "      <td>LP002989</td>\n",
              "      <td>1.0</td>\n",
              "    </tr>\n",
              "  </tbody>\n",
              "</table>\n",
              "<p>367 rows × 3 columns</p>\n",
              "</div>"
            ],
            "text/plain": [
              "       w   Loan_ID   w1\n",
              "0    1.0  LP001015  1.0\n",
              "1    1.0  LP001022  1.0\n",
              "2    1.0  LP001031  1.0\n",
              "3    1.0  LP001035  1.0\n",
              "4    1.0  LP001051  1.0\n",
              "..   ...       ...  ...\n",
              "362  1.0  LP002971  1.0\n",
              "363  1.0  LP002975  1.0\n",
              "364  1.0  LP002980  1.0\n",
              "365  1.0  LP002986  1.0\n",
              "366  1.0  LP002989  1.0\n",
              "\n",
              "[367 rows x 3 columns]"
            ]
          },
          "metadata": {},
          "execution_count": 82
        }
      ]
    },
    {
      "cell_type": "code",
      "source": [
        "d={1.0:'Y', 0.0:'N'}\n",
        "df['w1']=df['w1'].apply(lambda x:d[x])"
      ],
      "metadata": {
        "id": "YCEhMhJPMfrp"
      },
      "execution_count": 83,
      "outputs": []
    },
    {
      "cell_type": "code",
      "source": [
        "df"
      ],
      "metadata": {
        "colab": {
          "base_uri": "https://localhost:8080/",
          "height": 423
        },
        "id": "IaEyp4eFMft_",
        "outputId": "167006ec-38ed-428c-c3da-80758bfc0755"
      },
      "execution_count": 84,
      "outputs": [
        {
          "output_type": "execute_result",
          "data": {
            "text/html": [
              "<div>\n",
              "<style scoped>\n",
              "    .dataframe tbody tr th:only-of-type {\n",
              "        vertical-align: middle;\n",
              "    }\n",
              "\n",
              "    .dataframe tbody tr th {\n",
              "        vertical-align: top;\n",
              "    }\n",
              "\n",
              "    .dataframe thead th {\n",
              "        text-align: right;\n",
              "    }\n",
              "</style>\n",
              "<table border=\"1\" class=\"dataframe\">\n",
              "  <thead>\n",
              "    <tr style=\"text-align: right;\">\n",
              "      <th></th>\n",
              "      <th>w</th>\n",
              "      <th>Loan_ID</th>\n",
              "      <th>w1</th>\n",
              "    </tr>\n",
              "  </thead>\n",
              "  <tbody>\n",
              "    <tr>\n",
              "      <th>0</th>\n",
              "      <td>1.0</td>\n",
              "      <td>LP001015</td>\n",
              "      <td>Y</td>\n",
              "    </tr>\n",
              "    <tr>\n",
              "      <th>1</th>\n",
              "      <td>1.0</td>\n",
              "      <td>LP001022</td>\n",
              "      <td>Y</td>\n",
              "    </tr>\n",
              "    <tr>\n",
              "      <th>2</th>\n",
              "      <td>1.0</td>\n",
              "      <td>LP001031</td>\n",
              "      <td>Y</td>\n",
              "    </tr>\n",
              "    <tr>\n",
              "      <th>3</th>\n",
              "      <td>1.0</td>\n",
              "      <td>LP001035</td>\n",
              "      <td>Y</td>\n",
              "    </tr>\n",
              "    <tr>\n",
              "      <th>4</th>\n",
              "      <td>1.0</td>\n",
              "      <td>LP001051</td>\n",
              "      <td>Y</td>\n",
              "    </tr>\n",
              "    <tr>\n",
              "      <th>...</th>\n",
              "      <td>...</td>\n",
              "      <td>...</td>\n",
              "      <td>...</td>\n",
              "    </tr>\n",
              "    <tr>\n",
              "      <th>362</th>\n",
              "      <td>1.0</td>\n",
              "      <td>LP002971</td>\n",
              "      <td>Y</td>\n",
              "    </tr>\n",
              "    <tr>\n",
              "      <th>363</th>\n",
              "      <td>1.0</td>\n",
              "      <td>LP002975</td>\n",
              "      <td>Y</td>\n",
              "    </tr>\n",
              "    <tr>\n",
              "      <th>364</th>\n",
              "      <td>1.0</td>\n",
              "      <td>LP002980</td>\n",
              "      <td>Y</td>\n",
              "    </tr>\n",
              "    <tr>\n",
              "      <th>365</th>\n",
              "      <td>1.0</td>\n",
              "      <td>LP002986</td>\n",
              "      <td>Y</td>\n",
              "    </tr>\n",
              "    <tr>\n",
              "      <th>366</th>\n",
              "      <td>1.0</td>\n",
              "      <td>LP002989</td>\n",
              "      <td>Y</td>\n",
              "    </tr>\n",
              "  </tbody>\n",
              "</table>\n",
              "<p>367 rows × 3 columns</p>\n",
              "</div>"
            ],
            "text/plain": [
              "       w   Loan_ID w1\n",
              "0    1.0  LP001015  Y\n",
              "1    1.0  LP001022  Y\n",
              "2    1.0  LP001031  Y\n",
              "3    1.0  LP001035  Y\n",
              "4    1.0  LP001051  Y\n",
              "..   ...       ... ..\n",
              "362  1.0  LP002971  Y\n",
              "363  1.0  LP002975  Y\n",
              "364  1.0  LP002980  Y\n",
              "365  1.0  LP002986  Y\n",
              "366  1.0  LP002989  Y\n",
              "\n",
              "[367 rows x 3 columns]"
            ]
          },
          "metadata": {},
          "execution_count": 84
        }
      ]
    },
    {
      "cell_type": "code",
      "source": [
        "df.rename(columns = {'w1':'Loan_Status'}, inplace = True)"
      ],
      "metadata": {
        "id": "EX1on9DcMxl-"
      },
      "execution_count": 85,
      "outputs": []
    },
    {
      "cell_type": "code",
      "source": [
        "df"
      ],
      "metadata": {
        "colab": {
          "base_uri": "https://localhost:8080/",
          "height": 423
        },
        "id": "hnB4lh37M_uy",
        "outputId": "63c9950e-51c1-480e-9e80-b79123fc9eaf"
      },
      "execution_count": 86,
      "outputs": [
        {
          "output_type": "execute_result",
          "data": {
            "text/html": [
              "<div>\n",
              "<style scoped>\n",
              "    .dataframe tbody tr th:only-of-type {\n",
              "        vertical-align: middle;\n",
              "    }\n",
              "\n",
              "    .dataframe tbody tr th {\n",
              "        vertical-align: top;\n",
              "    }\n",
              "\n",
              "    .dataframe thead th {\n",
              "        text-align: right;\n",
              "    }\n",
              "</style>\n",
              "<table border=\"1\" class=\"dataframe\">\n",
              "  <thead>\n",
              "    <tr style=\"text-align: right;\">\n",
              "      <th></th>\n",
              "      <th>w</th>\n",
              "      <th>Loan_ID</th>\n",
              "      <th>Loan_Status</th>\n",
              "    </tr>\n",
              "  </thead>\n",
              "  <tbody>\n",
              "    <tr>\n",
              "      <th>0</th>\n",
              "      <td>1.0</td>\n",
              "      <td>LP001015</td>\n",
              "      <td>Y</td>\n",
              "    </tr>\n",
              "    <tr>\n",
              "      <th>1</th>\n",
              "      <td>1.0</td>\n",
              "      <td>LP001022</td>\n",
              "      <td>Y</td>\n",
              "    </tr>\n",
              "    <tr>\n",
              "      <th>2</th>\n",
              "      <td>1.0</td>\n",
              "      <td>LP001031</td>\n",
              "      <td>Y</td>\n",
              "    </tr>\n",
              "    <tr>\n",
              "      <th>3</th>\n",
              "      <td>1.0</td>\n",
              "      <td>LP001035</td>\n",
              "      <td>Y</td>\n",
              "    </tr>\n",
              "    <tr>\n",
              "      <th>4</th>\n",
              "      <td>1.0</td>\n",
              "      <td>LP001051</td>\n",
              "      <td>Y</td>\n",
              "    </tr>\n",
              "    <tr>\n",
              "      <th>...</th>\n",
              "      <td>...</td>\n",
              "      <td>...</td>\n",
              "      <td>...</td>\n",
              "    </tr>\n",
              "    <tr>\n",
              "      <th>362</th>\n",
              "      <td>1.0</td>\n",
              "      <td>LP002971</td>\n",
              "      <td>Y</td>\n",
              "    </tr>\n",
              "    <tr>\n",
              "      <th>363</th>\n",
              "      <td>1.0</td>\n",
              "      <td>LP002975</td>\n",
              "      <td>Y</td>\n",
              "    </tr>\n",
              "    <tr>\n",
              "      <th>364</th>\n",
              "      <td>1.0</td>\n",
              "      <td>LP002980</td>\n",
              "      <td>Y</td>\n",
              "    </tr>\n",
              "    <tr>\n",
              "      <th>365</th>\n",
              "      <td>1.0</td>\n",
              "      <td>LP002986</td>\n",
              "      <td>Y</td>\n",
              "    </tr>\n",
              "    <tr>\n",
              "      <th>366</th>\n",
              "      <td>1.0</td>\n",
              "      <td>LP002989</td>\n",
              "      <td>Y</td>\n",
              "    </tr>\n",
              "  </tbody>\n",
              "</table>\n",
              "<p>367 rows × 3 columns</p>\n",
              "</div>"
            ],
            "text/plain": [
              "       w   Loan_ID Loan_Status\n",
              "0    1.0  LP001015           Y\n",
              "1    1.0  LP001022           Y\n",
              "2    1.0  LP001031           Y\n",
              "3    1.0  LP001035           Y\n",
              "4    1.0  LP001051           Y\n",
              "..   ...       ...         ...\n",
              "362  1.0  LP002971           Y\n",
              "363  1.0  LP002975           Y\n",
              "364  1.0  LP002980           Y\n",
              "365  1.0  LP002986           Y\n",
              "366  1.0  LP002989           Y\n",
              "\n",
              "[367 rows x 3 columns]"
            ]
          },
          "metadata": {},
          "execution_count": 86
        }
      ]
    },
    {
      "cell_type": "code",
      "source": [
        "df.drop(columns=['w'],inplace=True)"
      ],
      "metadata": {
        "id": "EFRN6qIfNACZ"
      },
      "execution_count": 87,
      "outputs": []
    },
    {
      "cell_type": "code",
      "source": [
        "df"
      ],
      "metadata": {
        "colab": {
          "base_uri": "https://localhost:8080/",
          "height": 423
        },
        "id": "s0kPr2lONVpx",
        "outputId": "81a668b0-5261-438c-f178-6b1403645f6d"
      },
      "execution_count": 88,
      "outputs": [
        {
          "output_type": "execute_result",
          "data": {
            "text/html": [
              "<div>\n",
              "<style scoped>\n",
              "    .dataframe tbody tr th:only-of-type {\n",
              "        vertical-align: middle;\n",
              "    }\n",
              "\n",
              "    .dataframe tbody tr th {\n",
              "        vertical-align: top;\n",
              "    }\n",
              "\n",
              "    .dataframe thead th {\n",
              "        text-align: right;\n",
              "    }\n",
              "</style>\n",
              "<table border=\"1\" class=\"dataframe\">\n",
              "  <thead>\n",
              "    <tr style=\"text-align: right;\">\n",
              "      <th></th>\n",
              "      <th>Loan_ID</th>\n",
              "      <th>Loan_Status</th>\n",
              "    </tr>\n",
              "  </thead>\n",
              "  <tbody>\n",
              "    <tr>\n",
              "      <th>0</th>\n",
              "      <td>LP001015</td>\n",
              "      <td>Y</td>\n",
              "    </tr>\n",
              "    <tr>\n",
              "      <th>1</th>\n",
              "      <td>LP001022</td>\n",
              "      <td>Y</td>\n",
              "    </tr>\n",
              "    <tr>\n",
              "      <th>2</th>\n",
              "      <td>LP001031</td>\n",
              "      <td>Y</td>\n",
              "    </tr>\n",
              "    <tr>\n",
              "      <th>3</th>\n",
              "      <td>LP001035</td>\n",
              "      <td>Y</td>\n",
              "    </tr>\n",
              "    <tr>\n",
              "      <th>4</th>\n",
              "      <td>LP001051</td>\n",
              "      <td>Y</td>\n",
              "    </tr>\n",
              "    <tr>\n",
              "      <th>...</th>\n",
              "      <td>...</td>\n",
              "      <td>...</td>\n",
              "    </tr>\n",
              "    <tr>\n",
              "      <th>362</th>\n",
              "      <td>LP002971</td>\n",
              "      <td>Y</td>\n",
              "    </tr>\n",
              "    <tr>\n",
              "      <th>363</th>\n",
              "      <td>LP002975</td>\n",
              "      <td>Y</td>\n",
              "    </tr>\n",
              "    <tr>\n",
              "      <th>364</th>\n",
              "      <td>LP002980</td>\n",
              "      <td>Y</td>\n",
              "    </tr>\n",
              "    <tr>\n",
              "      <th>365</th>\n",
              "      <td>LP002986</td>\n",
              "      <td>Y</td>\n",
              "    </tr>\n",
              "    <tr>\n",
              "      <th>366</th>\n",
              "      <td>LP002989</td>\n",
              "      <td>Y</td>\n",
              "    </tr>\n",
              "  </tbody>\n",
              "</table>\n",
              "<p>367 rows × 2 columns</p>\n",
              "</div>"
            ],
            "text/plain": [
              "      Loan_ID Loan_Status\n",
              "0    LP001015           Y\n",
              "1    LP001022           Y\n",
              "2    LP001031           Y\n",
              "3    LP001035           Y\n",
              "4    LP001051           Y\n",
              "..        ...         ...\n",
              "362  LP002971           Y\n",
              "363  LP002975           Y\n",
              "364  LP002980           Y\n",
              "365  LP002986           Y\n",
              "366  LP002989           Y\n",
              "\n",
              "[367 rows x 2 columns]"
            ]
          },
          "metadata": {},
          "execution_count": 88
        }
      ]
    },
    {
      "cell_type": "code",
      "source": [
        " df.to_csv('submission.csv', index=False)"
      ],
      "metadata": {
        "id": "wQYXyFXONRPm"
      },
      "execution_count": 89,
      "outputs": []
    }
  ]
}